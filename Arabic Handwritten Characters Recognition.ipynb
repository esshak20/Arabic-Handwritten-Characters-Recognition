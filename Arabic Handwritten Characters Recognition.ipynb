{
 "cells": [
  {
   "cell_type": "markdown",
   "id": "9c5684e5",
   "metadata": {
    "papermill": {
     "duration": 0.039505,
     "end_time": "2021-11-05T16:54:56.362401",
     "exception": false,
     "start_time": "2021-11-05T16:54:56.322896",
     "status": "completed"
    },
    "tags": []
   },
   "source": [
    "### Importing relevant libraries"
   ]
  },
  {
   "cell_type": "code",
   "execution_count": 1,
   "id": "9af69a81",
   "metadata": {
    "execution": {
     "iopub.execute_input": "2021-11-05T16:54:56.484354Z",
     "iopub.status.busy": "2021-11-05T16:54:56.483852Z",
     "iopub.status.idle": "2021-11-05T16:55:02.398557Z",
     "shell.execute_reply": "2021-11-05T16:55:02.397930Z",
     "shell.execute_reply.started": "2021-11-05T16:51:43.762013Z"
    },
    "papermill": {
     "duration": 5.992949,
     "end_time": "2021-11-05T16:55:02.398713",
     "exception": false,
     "start_time": "2021-11-05T16:54:56.405764",
     "status": "completed"
    },
    "tags": []
   },
   "outputs": [],
   "source": [
    "from PIL import Image \n",
    "import numpy as np\n",
    "import os\n",
    "from os import listdir\n",
    "from PIL import Image \n",
    "from sklearn.preprocessing import MinMaxScaler\n",
    "scaler = MinMaxScaler()\n",
    "import joblib\n",
    "import pandas as pd\n",
    "import matplotlib.pyplot as plt\n",
    "import tensorflow as tf\n",
    "from tensorflow.keras import regularizers\n",
    "import numpy as np\n",
    "import warnings\n",
    "from catboost import CatBoostClassifier\n",
    "from sklearn.model_selection import train_test_split\n",
    "warnings.filterwarnings('ignore')"
   ]
  },
  {
   "cell_type": "markdown",
   "id": "766513a7",
   "metadata": {
    "papermill": {
     "duration": 0.037926,
     "end_time": "2021-11-05T16:55:02.474749",
     "exception": false,
     "start_time": "2021-11-05T16:55:02.436823",
     "status": "completed"
    },
    "tags": []
   },
   "source": [
    "### Loading labels"
   ]
  },
  {
   "cell_type": "code",
   "execution_count": 2,
   "id": "5d8c2a37",
   "metadata": {
    "execution": {
     "iopub.execute_input": "2021-11-05T16:55:02.553208Z",
     "iopub.status.busy": "2021-11-05T16:55:02.552355Z",
     "iopub.status.idle": "2021-11-05T16:55:02.585984Z",
     "shell.execute_reply": "2021-11-05T16:55:02.586397Z",
     "shell.execute_reply.started": "2021-11-05T16:51:50.709569Z"
    },
    "papermill": {
     "duration": 0.074255,
     "end_time": "2021-11-05T16:55:02.586546",
     "exception": false,
     "start_time": "2021-11-05T16:55:02.512291",
     "status": "completed"
    },
    "tags": []
   },
   "outputs": [
    {
     "data": {
      "text/html": [
       "<div>\n",
       "<style scoped>\n",
       "    .dataframe tbody tr th:only-of-type {\n",
       "        vertical-align: middle;\n",
       "    }\n",
       "\n",
       "    .dataframe tbody tr th {\n",
       "        vertical-align: top;\n",
       "    }\n",
       "\n",
       "    .dataframe thead th {\n",
       "        text-align: right;\n",
       "    }\n",
       "</style>\n",
       "<table border=\"1\" class=\"dataframe\">\n",
       "  <thead>\n",
       "    <tr style=\"text-align: right;\">\n",
       "      <th></th>\n",
       "      <th>id</th>\n",
       "      <th>label</th>\n",
       "    </tr>\n",
       "  </thead>\n",
       "  <tbody>\n",
       "    <tr>\n",
       "      <th>0</th>\n",
       "      <td>0</td>\n",
       "      <td>24</td>\n",
       "    </tr>\n",
       "    <tr>\n",
       "      <th>1</th>\n",
       "      <td>1</td>\n",
       "      <td>2</td>\n",
       "    </tr>\n",
       "    <tr>\n",
       "      <th>2</th>\n",
       "      <td>2</td>\n",
       "      <td>17</td>\n",
       "    </tr>\n",
       "    <tr>\n",
       "      <th>3</th>\n",
       "      <td>3</td>\n",
       "      <td>14</td>\n",
       "    </tr>\n",
       "    <tr>\n",
       "      <th>4</th>\n",
       "      <td>4</td>\n",
       "      <td>19</td>\n",
       "    </tr>\n",
       "    <tr>\n",
       "      <th>...</th>\n",
       "      <td>...</td>\n",
       "      <td>...</td>\n",
       "    </tr>\n",
       "    <tr>\n",
       "      <th>13435</th>\n",
       "      <td>13435</td>\n",
       "      <td>5</td>\n",
       "    </tr>\n",
       "    <tr>\n",
       "      <th>13436</th>\n",
       "      <td>13436</td>\n",
       "      <td>26</td>\n",
       "    </tr>\n",
       "    <tr>\n",
       "      <th>13437</th>\n",
       "      <td>13437</td>\n",
       "      <td>2</td>\n",
       "    </tr>\n",
       "    <tr>\n",
       "      <th>13438</th>\n",
       "      <td>13438</td>\n",
       "      <td>24</td>\n",
       "    </tr>\n",
       "    <tr>\n",
       "      <th>13439</th>\n",
       "      <td>13439</td>\n",
       "      <td>13</td>\n",
       "    </tr>\n",
       "  </tbody>\n",
       "</table>\n",
       "<p>13440 rows × 2 columns</p>\n",
       "</div>"
      ],
      "text/plain": [
       "          id  label\n",
       "0          0     24\n",
       "1          1      2\n",
       "2          2     17\n",
       "3          3     14\n",
       "4          4     19\n",
       "...      ...    ...\n",
       "13435  13435      5\n",
       "13436  13436     26\n",
       "13437  13437      2\n",
       "13438  13438     24\n",
       "13439  13439     13\n",
       "\n",
       "[13440 rows x 2 columns]"
      ]
     },
     "execution_count": 2,
     "metadata": {},
     "output_type": "execute_result"
    }
   ],
   "source": [
    "df= pd.read_csv('../input/arabic-hwr-ai-pro-intake1/train.csv')\n",
    "df"
   ]
  },
  {
   "cell_type": "code",
   "execution_count": 3,
   "id": "8cb5ae84",
   "metadata": {
    "execution": {
     "iopub.execute_input": "2021-11-05T16:55:02.669693Z",
     "iopub.status.busy": "2021-11-05T16:55:02.668890Z",
     "iopub.status.idle": "2021-11-05T16:55:02.671271Z",
     "shell.execute_reply": "2021-11-05T16:55:02.670836Z",
     "shell.execute_reply.started": "2021-11-05T15:47:35.691338Z"
    },
    "papermill": {
     "duration": 0.046409,
     "end_time": "2021-11-05T16:55:02.671370",
     "exception": false,
     "start_time": "2021-11-05T16:55:02.624961",
     "status": "completed"
    },
    "tags": []
   },
   "outputs": [],
   "source": [
    "labels= df['label']"
   ]
  },
  {
   "cell_type": "code",
   "execution_count": 4,
   "id": "f86361f4",
   "metadata": {
    "execution": {
     "iopub.execute_input": "2021-11-05T16:55:02.796793Z",
     "iopub.status.busy": "2021-11-05T16:55:02.796162Z",
     "iopub.status.idle": "2021-11-05T16:55:02.798797Z",
     "shell.execute_reply": "2021-11-05T16:55:02.799209Z",
     "shell.execute_reply.started": "2021-11-05T15:47:36.327038Z"
    },
    "papermill": {
     "duration": 0.089896,
     "end_time": "2021-11-05T16:55:02.799335",
     "exception": false,
     "start_time": "2021-11-05T16:55:02.709439",
     "status": "completed"
    },
    "tags": []
   },
   "outputs": [
    {
     "data": {
      "text/plain": [
       "(13440,)"
      ]
     },
     "execution_count": 4,
     "metadata": {},
     "output_type": "execute_result"
    }
   ],
   "source": [
    "labels.shape"
   ]
  },
  {
   "cell_type": "markdown",
   "id": "064f0bf0",
   "metadata": {
    "papermill": {
     "duration": 0.038754,
     "end_time": "2021-11-05T16:55:02.876995",
     "exception": false,
     "start_time": "2021-11-05T16:55:02.838241",
     "status": "completed"
    },
    "tags": []
   },
   "source": [
    "### Loading images"
   ]
  },
  {
   "cell_type": "code",
   "execution_count": 5,
   "id": "c8415aac",
   "metadata": {
    "execution": {
     "iopub.execute_input": "2021-11-05T16:55:02.959505Z",
     "iopub.status.busy": "2021-11-05T16:55:02.958602Z",
     "iopub.status.idle": "2021-11-05T16:55:02.960579Z",
     "shell.execute_reply": "2021-11-05T16:55:02.961041Z",
     "shell.execute_reply.started": "2021-11-05T15:47:36.961217Z"
    },
    "papermill": {
     "duration": 0.04567,
     "end_time": "2021-11-05T16:55:02.961166",
     "exception": false,
     "start_time": "2021-11-05T16:55:02.915496",
     "status": "completed"
    },
    "tags": []
   },
   "outputs": [],
   "source": [
    "train_path=\"../input/arabic-hwr-ai-pro-intake1/train/\"\n",
    "test_path=\"../input/arabic-hwr-ai-pro-intake1/test/\""
   ]
  },
  {
   "cell_type": "code",
   "execution_count": 6,
   "id": "d5d8e646",
   "metadata": {
    "execution": {
     "iopub.execute_input": "2021-11-05T16:55:03.052382Z",
     "iopub.status.busy": "2021-11-05T16:55:03.051433Z",
     "iopub.status.idle": "2021-11-05T16:55:03.053531Z",
     "shell.execute_reply": "2021-11-05T16:55:03.053976Z",
     "shell.execute_reply.started": "2021-11-05T15:47:37.287362Z"
    },
    "papermill": {
     "duration": 0.05052,
     "end_time": "2021-11-05T16:55:03.054112",
     "exception": false,
     "start_time": "2021-11-05T16:55:03.003592",
     "status": "completed"
    },
    "tags": []
   },
   "outputs": [],
   "source": [
    "def loadImages(path):\n",
    "    # returns array of images\n",
    "    \n",
    "    imagesList = listdir(path)\n",
    "    imagesList.sort()\n",
    "    image_df = []\n",
    "    for image in imagesList:\n",
    "        img = Image.open(path + image).convert('L')\n",
    "        img=img.resize((32,32))\n",
    "        img=np.asarray(img)\n",
    "        img=img.reshape((32,32,1))\n",
    "        img=img/255\n",
    "        image_df.append(img)\n",
    "    \n",
    "    return np.array(image_df)"
   ]
  },
  {
   "cell_type": "code",
   "execution_count": 7,
   "id": "da70bae0",
   "metadata": {
    "execution": {
     "iopub.execute_input": "2021-11-05T16:55:03.137567Z",
     "iopub.status.busy": "2021-11-05T16:55:03.137027Z",
     "iopub.status.idle": "2021-11-05T16:56:24.508009Z",
     "shell.execute_reply": "2021-11-05T16:56:24.507267Z",
     "shell.execute_reply.started": "2021-11-05T15:47:37.609425Z"
    },
    "papermill": {
     "duration": 81.414421,
     "end_time": "2021-11-05T16:56:24.508157",
     "exception": false,
     "start_time": "2021-11-05T16:55:03.093736",
     "status": "completed"
    },
    "tags": []
   },
   "outputs": [],
   "source": [
    "train_data = loadImages(train_path)\n",
    "test_data= loadImages(test_path)"
   ]
  },
  {
   "cell_type": "code",
   "execution_count": 8,
   "id": "20f19a22",
   "metadata": {
    "execution": {
     "iopub.execute_input": "2021-11-05T16:56:24.589775Z",
     "iopub.status.busy": "2021-11-05T16:56:24.589161Z",
     "iopub.status.idle": "2021-11-05T16:56:24.592825Z",
     "shell.execute_reply": "2021-11-05T16:56:24.593215Z",
     "shell.execute_reply.started": "2021-11-05T15:49:18.70733Z"
    },
    "papermill": {
     "duration": 0.04646,
     "end_time": "2021-11-05T16:56:24.593336",
     "exception": false,
     "start_time": "2021-11-05T16:56:24.546876",
     "status": "completed"
    },
    "tags": []
   },
   "outputs": [
    {
     "data": {
      "text/plain": [
       "(13440, 32, 32, 1)"
      ]
     },
     "execution_count": 8,
     "metadata": {},
     "output_type": "execute_result"
    }
   ],
   "source": [
    "train_data.shape"
   ]
  },
  {
   "cell_type": "code",
   "execution_count": 9,
   "id": "e88c8bc4",
   "metadata": {
    "execution": {
     "iopub.execute_input": "2021-11-05T16:56:24.674936Z",
     "iopub.status.busy": "2021-11-05T16:56:24.674215Z",
     "iopub.status.idle": "2021-11-05T16:56:24.676891Z",
     "shell.execute_reply": "2021-11-05T16:56:24.677298Z",
     "shell.execute_reply.started": "2021-11-05T15:49:18.719273Z"
    },
    "papermill": {
     "duration": 0.045537,
     "end_time": "2021-11-05T16:56:24.677411",
     "exception": false,
     "start_time": "2021-11-05T16:56:24.631874",
     "status": "completed"
    },
    "tags": []
   },
   "outputs": [
    {
     "data": {
      "text/plain": [
       "(3360, 32, 32, 1)"
      ]
     },
     "execution_count": 9,
     "metadata": {},
     "output_type": "execute_result"
    }
   ],
   "source": [
    "test_data.shape"
   ]
  },
  {
   "cell_type": "markdown",
   "id": "053c407a",
   "metadata": {
    "papermill": {
     "duration": 0.03884,
     "end_time": "2021-11-05T16:56:24.755090",
     "exception": false,
     "start_time": "2021-11-05T16:56:24.716250",
     "status": "completed"
    },
    "tags": []
   },
   "source": [
    "### Visualizing some images"
   ]
  },
  {
   "cell_type": "code",
   "execution_count": 10,
   "id": "689d1ab1",
   "metadata": {
    "execution": {
     "iopub.execute_input": "2021-11-05T16:56:24.850682Z",
     "iopub.status.busy": "2021-11-05T16:56:24.850166Z",
     "iopub.status.idle": "2021-11-05T16:56:25.199673Z",
     "shell.execute_reply": "2021-11-05T16:56:25.200066Z",
     "shell.execute_reply.started": "2021-11-05T15:49:18.734419Z"
    },
    "papermill": {
     "duration": 0.406627,
     "end_time": "2021-11-05T16:56:25.200216",
     "exception": false,
     "start_time": "2021-11-05T16:56:24.793589",
     "status": "completed"
    },
    "tags": []
   },
   "outputs": [
    {
     "data": {
      "text/plain": [
       "<matplotlib.image.AxesImage at 0x7fa2e8893410>"
      ]
     },
     "execution_count": 10,
     "metadata": {},
     "output_type": "execute_result"
    },
    {
     "data": {
      "image/png": "[encoded data removed]",
      "text/plain": [
       "<Figure size 432x288 with 1 Axes>"
      ]
     },
     "metadata": {
      "needs_background": "light"
     },
     "output_type": "display_data"
    }
   ],
   "source": [
    "plt.imshow(train_data[3000])"
   ]
  },
  {
   "cell_type": "code",
   "execution_count": 11,
   "id": "36e3d436",
   "metadata": {
    "execution": {
     "iopub.execute_input": "2021-11-05T16:56:25.299102Z",
     "iopub.status.busy": "2021-11-05T16:56:25.288069Z",
     "iopub.status.idle": "2021-11-05T16:56:25.488696Z",
     "shell.execute_reply": "2021-11-05T16:56:25.488191Z",
     "shell.execute_reply.started": "2021-11-05T15:49:19.158485Z"
    },
    "papermill": {
     "duration": 0.248656,
     "end_time": "2021-11-05T16:56:25.488830",
     "exception": false,
     "start_time": "2021-11-05T16:56:25.240174",
     "status": "completed"
    },
    "tags": []
   },
   "outputs": [
    {
     "data": {
      "text/plain": [
       "<matplotlib.image.AxesImage at 0x7fa2e8759810>"
      ]
     },
     "execution_count": 11,
     "metadata": {},
     "output_type": "execute_result"
    },
    {
     "data": {
      "image/png": "[encoded data removed]",
      "text/plain": [
       "<Figure size 432x288 with 1 Axes>"
      ]
     },
     "metadata": {
      "needs_background": "light"
     },
     "output_type": "display_data"
    }
   ],
   "source": [
    "plt.imshow(train_data[2])"
   ]
  },
  {
   "cell_type": "markdown",
   "id": "fd3a5967",
   "metadata": {
    "papermill": {
     "duration": 0.040774,
     "end_time": "2021-11-05T16:56:25.570942",
     "exception": false,
     "start_time": "2021-11-05T16:56:25.530168",
     "status": "completed"
    },
    "tags": []
   },
   "source": [
    "### Shuffling images"
   ]
  },
  {
   "cell_type": "code",
   "execution_count": 12,
   "id": "be18732e",
   "metadata": {
    "execution": {
     "iopub.execute_input": "2021-11-05T16:56:25.659853Z",
     "iopub.status.busy": "2021-11-05T16:56:25.658751Z",
     "iopub.status.idle": "2021-11-05T16:56:25.697849Z",
     "shell.execute_reply": "2021-11-05T16:56:25.697340Z",
     "shell.execute_reply.started": "2021-11-05T15:49:19.4126Z"
    },
    "papermill": {
     "duration": 0.086041,
     "end_time": "2021-11-05T16:56:25.697993",
     "exception": false,
     "start_time": "2021-11-05T16:56:25.611952",
     "status": "completed"
    },
    "tags": []
   },
   "outputs": [],
   "source": [
    "indices = np.arange(train_data.shape[0])\n",
    "np.random.shuffle(indices)\n",
    "shuffled_images = train_data[indices]\n",
    "shuffled_labels = labels[indices]\n"
   ]
  },
  {
   "cell_type": "markdown",
   "id": "0d0a32a5",
   "metadata": {
    "papermill": {
     "duration": 0.040581,
     "end_time": "2021-11-05T16:56:25.780077",
     "exception": false,
     "start_time": "2021-11-05T16:56:25.739496",
     "status": "completed"
    },
    "tags": []
   },
   "source": [
    "### Dividing data into train/validation/test"
   ]
  },
  {
   "cell_type": "code",
   "execution_count": 13,
   "id": "cd9b7dd9",
   "metadata": {
    "execution": {
     "iopub.execute_input": "2021-11-05T16:56:25.865933Z",
     "iopub.status.busy": "2021-11-05T16:56:25.865123Z",
     "iopub.status.idle": "2021-11-05T16:56:25.867693Z",
     "shell.execute_reply": "2021-11-05T16:56:25.867238Z",
     "shell.execute_reply.started": "2021-11-05T15:49:19.469523Z"
    },
    "papermill": {
     "duration": 0.047357,
     "end_time": "2021-11-05T16:56:25.867799",
     "exception": false,
     "start_time": "2021-11-05T16:56:25.820442",
     "status": "completed"
    },
    "tags": []
   },
   "outputs": [],
   "source": [
    "validation_samples= int(0.1*train_data.shape[0])    #nearly 10%\n",
    "test_samples = int(0.1*train_data.shape[0])        #nearly 10%    \n",
    "train_samples = train_data.shape[0]-(validation_samples+test_samples)      #nearly 80%\n"
   ]
  },
  {
   "cell_type": "code",
   "execution_count": 14,
   "id": "336c47fd",
   "metadata": {
    "execution": {
     "iopub.execute_input": "2021-11-05T16:56:25.954843Z",
     "iopub.status.busy": "2021-11-05T16:56:25.954111Z",
     "iopub.status.idle": "2021-11-05T16:56:25.956670Z",
     "shell.execute_reply": "2021-11-05T16:56:25.956201Z",
     "shell.execute_reply.started": "2021-11-05T15:49:19.478797Z"
    },
    "papermill": {
     "duration": 0.048648,
     "end_time": "2021-11-05T16:56:25.956776",
     "exception": false,
     "start_time": "2021-11-05T16:56:25.908128",
     "status": "completed"
    },
    "tags": []
   },
   "outputs": [],
   "source": [
    "validation_images= shuffled_images[:validation_samples]\n",
    "validation_labels= shuffled_labels[:validation_samples]\n",
    "\n",
    "test_images = shuffled_images[validation_samples:validation_samples+test_samples]\n",
    "test_labels= shuffled_labels[validation_samples:validation_samples+test_samples]\n",
    "\n",
    "\n",
    "train_images = shuffled_images[validation_samples+test_samples:]\n",
    "train_labels = shuffled_labels[validation_samples+test_samples:]\n",
    "\n"
   ]
  },
  {
   "cell_type": "code",
   "execution_count": 15,
   "id": "335e51ca",
   "metadata": {
    "execution": {
     "iopub.execute_input": "2021-11-05T16:56:26.042992Z",
     "iopub.status.busy": "2021-11-05T16:56:26.042228Z",
     "iopub.status.idle": "2021-11-05T16:56:26.045466Z",
     "shell.execute_reply": "2021-11-05T16:56:26.045904Z",
     "shell.execute_reply.started": "2021-11-05T15:49:19.49072Z"
    },
    "papermill": {
     "duration": 0.047827,
     "end_time": "2021-11-05T16:56:26.046025",
     "exception": false,
     "start_time": "2021-11-05T16:56:25.998198",
     "status": "completed"
    },
    "tags": []
   },
   "outputs": [
    {
     "data": {
      "text/plain": [
       "(10752, 32, 32, 1)"
      ]
     },
     "execution_count": 15,
     "metadata": {},
     "output_type": "execute_result"
    }
   ],
   "source": [
    "train_images.shape"
   ]
  },
  {
   "cell_type": "code",
   "execution_count": 16,
   "id": "00d03cfb",
   "metadata": {
    "execution": {
     "iopub.execute_input": "2021-11-05T16:56:26.133643Z",
     "iopub.status.busy": "2021-11-05T16:56:26.132706Z",
     "iopub.status.idle": "2021-11-05T16:56:26.136223Z",
     "shell.execute_reply": "2021-11-05T16:56:26.135815Z",
     "shell.execute_reply.started": "2021-11-05T15:49:19.509772Z"
    },
    "papermill": {
     "duration": 0.048446,
     "end_time": "2021-11-05T16:56:26.136322",
     "exception": false,
     "start_time": "2021-11-05T16:56:26.087876",
     "status": "completed"
    },
    "tags": []
   },
   "outputs": [
    {
     "data": {
      "text/plain": [
       "(1344, 32, 32, 1)"
      ]
     },
     "execution_count": 16,
     "metadata": {},
     "output_type": "execute_result"
    }
   ],
   "source": [
    "validation_images.shape"
   ]
  },
  {
   "cell_type": "code",
   "execution_count": 17,
   "id": "8c49083f",
   "metadata": {
    "execution": {
     "iopub.execute_input": "2021-11-05T16:56:26.221214Z",
     "iopub.status.busy": "2021-11-05T16:56:26.220477Z",
     "iopub.status.idle": "2021-11-05T16:56:26.223594Z",
     "shell.execute_reply": "2021-11-05T16:56:26.223089Z",
     "shell.execute_reply.started": "2021-11-05T15:49:19.520431Z"
    },
    "papermill": {
     "duration": 0.046907,
     "end_time": "2021-11-05T16:56:26.223692",
     "exception": false,
     "start_time": "2021-11-05T16:56:26.176785",
     "status": "completed"
    },
    "tags": []
   },
   "outputs": [
    {
     "data": {
      "text/plain": [
       "(1344, 32, 32, 1)"
      ]
     },
     "execution_count": 17,
     "metadata": {},
     "output_type": "execute_result"
    }
   ],
   "source": [
    "test_images.shape"
   ]
  },
  {
   "cell_type": "markdown",
   "id": "82f5af6e",
   "metadata": {
    "papermill": {
     "duration": 0.040902,
     "end_time": "2021-11-05T16:56:26.305461",
     "exception": false,
     "start_time": "2021-11-05T16:56:26.264559",
     "status": "completed"
    },
    "tags": []
   },
   "source": [
    "### Model outline"
   ]
  },
  {
   "cell_type": "code",
   "execution_count": 18,
   "id": "1dabb1dc",
   "metadata": {
    "execution": {
     "iopub.execute_input": "2021-11-05T16:56:26.394058Z",
     "iopub.status.busy": "2021-11-05T16:56:26.393501Z",
     "iopub.status.idle": "2021-11-05T16:56:29.009148Z",
     "shell.execute_reply": "2021-11-05T16:56:29.009590Z",
     "shell.execute_reply.started": "2021-11-05T16:49:14.073281Z"
    },
    "papermill": {
     "duration": 2.663536,
     "end_time": "2021-11-05T16:56:29.009748",
     "exception": false,
     "start_time": "2021-11-05T16:56:26.346212",
     "status": "completed"
    },
    "tags": []
   },
   "outputs": [
    {
     "name": "stderr",
     "output_type": "stream",
     "text": [
      "2021-11-05 16:56:26.524626: I tensorflow/stream_executor/cuda/cuda_gpu_executor.cc:937] successful NUMA node read from SysFS had negative value (-1), but there must be at least one NUMA node, so returning NUMA node zero\n",
      "2021-11-05 16:56:26.627678: I tensorflow/stream_executor/cuda/cuda_gpu_executor.cc:937] successful NUMA node read from SysFS had negative value (-1), but there must be at least one NUMA node, so returning NUMA node zero\n",
      "2021-11-05 16:56:26.628768: I tensorflow/stream_executor/cuda/cuda_gpu_executor.cc:937] successful NUMA node read from SysFS had negative value (-1), but there must be at least one NUMA node, so returning NUMA node zero\n",
      "2021-11-05 16:56:26.632430: I tensorflow/core/platform/cpu_feature_guard.cc:142] This TensorFlow binary is optimized with oneAPI Deep Neural Network Library (oneDNN) to use the following CPU instructions in performance-critical operations:  AVX2 AVX512F FMA\n",
      "To enable them in other operations, rebuild TensorFlow with the appropriate compiler flags.\n",
      "2021-11-05 16:56:26.633813: I tensorflow/stream_executor/cuda/cuda_gpu_executor.cc:937] successful NUMA node read from SysFS had negative value (-1), but there must be at least one NUMA node, so returning NUMA node zero\n",
      "2021-11-05 16:56:26.635158: I tensorflow/stream_executor/cuda/cuda_gpu_executor.cc:937] successful NUMA node read from SysFS had negative value (-1), but there must be at least one NUMA node, so returning NUMA node zero\n",
      "2021-11-05 16:56:26.636290: I tensorflow/stream_executor/cuda/cuda_gpu_executor.cc:937] successful NUMA node read from SysFS had negative value (-1), but there must be at least one NUMA node, so returning NUMA node zero\n",
      "2021-11-05 16:56:28.610117: I tensorflow/stream_executor/cuda/cuda_gpu_executor.cc:937] successful NUMA node read from SysFS had negative value (-1), but there must be at least one NUMA node, so returning NUMA node zero\n",
      "2021-11-05 16:56:28.610944: I tensorflow/stream_executor/cuda/cuda_gpu_executor.cc:937] successful NUMA node read from SysFS had negative value (-1), but there must be at least one NUMA node, so returning NUMA node zero\n",
      "2021-11-05 16:56:28.611625: I tensorflow/stream_executor/cuda/cuda_gpu_executor.cc:937] successful NUMA node read from SysFS had negative value (-1), but there must be at least one NUMA node, so returning NUMA node zero\n",
      "2021-11-05 16:56:28.612205: I tensorflow/core/common_runtime/gpu/gpu_device.cc:1510] Created device /job:localhost/replica:0/task:0/device:GPU:0 with 15403 MB memory:  -> device: 0, name: Tesla P100-PCIE-16GB, pci bus id: 0000:00:04.0, compute capability: 6.0\n"
     ]
    }
   ],
   "source": [
    "model = tf.keras.Sequential([\n",
    "    \n",
    "    \n",
    "\n",
    "    tf.keras.layers.Conv2D(128,3,activation='relu',input_shape=(32,32,1)),\n",
    "    tf.keras.layers.Conv2D(128,3,activation='relu'),\n",
    "    tf.keras.layers.MaxPooling2D(pool_size=(2,2)),\n",
    "\n",
    "\n",
    "        \n",
    "    tf.keras.layers.Conv2D(64,3,activation='relu'),\n",
    "    tf.keras.layers.Conv2D(64,3,activation='relu'),\n",
    "\n",
    "\n",
    "    tf.keras.layers.GlobalAveragePooling2D(),\n",
    "    tf.keras.layers.Flatten(),\n",
    "    tf.keras.layers.Dense(1024,'relu'),\n",
    "    tf.keras.layers.Dropout(0.8),\n",
    "    tf.keras.layers.Dense(1024,'relu'),\n",
    "    tf.keras.layers.Dropout(0.8),\n",
    "    tf.keras.layers.Dense(29)\n",
    "    \n",
    "    \n",
    "])                                "
   ]
  },
  {
   "cell_type": "markdown",
   "id": "04c36316",
   "metadata": {
    "papermill": {
     "duration": 0.042498,
     "end_time": "2021-11-05T16:56:29.095141",
     "exception": false,
     "start_time": "2021-11-05T16:56:29.052643",
     "status": "completed"
    },
    "tags": []
   },
   "source": [
    "### Model architecture"
   ]
  },
  {
   "cell_type": "code",
   "execution_count": 19,
   "id": "9ec4667d",
   "metadata": {
    "execution": {
     "iopub.execute_input": "2021-11-05T16:56:29.186393Z",
     "iopub.status.busy": "2021-11-05T16:56:29.185590Z",
     "iopub.status.idle": "2021-11-05T16:56:29.192445Z",
     "shell.execute_reply": "2021-11-05T16:56:29.192934Z",
     "shell.execute_reply.started": "2021-11-05T16:49:14.953294Z"
    },
    "papermill": {
     "duration": 0.055311,
     "end_time": "2021-11-05T16:56:29.193068",
     "exception": false,
     "start_time": "2021-11-05T16:56:29.137757",
     "status": "completed"
    },
    "tags": []
   },
   "outputs": [
    {
     "name": "stdout",
     "output_type": "stream",
     "text": [
      "Model: \"sequential\"\n",
      "___________________________________________________________________________\n",
      "Layer (type)                     Output Shape                  Param #     \n",
      "===========================================================================\n",
      "conv2d (Conv2D)                  (None, 30, 30, 128)           1280        \n",
      "___________________________________________________________________________\n",
      "conv2d_1 (Conv2D)                (None, 28, 28, 128)           147584      \n",
      "___________________________________________________________________________\n",
      "max_pooling2d (MaxPooling2D)     (None, 14, 14, 128)           0           \n",
      "___________________________________________________________________________\n",
      "conv2d_2 (Conv2D)                (None, 12, 12, 64)            73792       \n",
      "___________________________________________________________________________\n",
      "conv2d_3 (Conv2D)                (None, 10, 10, 64)            36928       \n",
      "___________________________________________________________________________\n",
      "global_average_pooling2d (Global (None, 64)                    0           \n",
      "___________________________________________________________________________\n",
      "flatten (Flatten)                (None, 64)                    0           \n",
      "___________________________________________________________________________\n",
      "dense (Dense)                    (None, 1024)                  66560       \n",
      "___________________________________________________________________________\n",
      "dropout (Dropout)                (None, 1024)                  0           \n",
      "___________________________________________________________________________\n",
      "dense_1 (Dense)                  (None, 1024)                  1049600     \n",
      "___________________________________________________________________________\n",
      "dropout_1 (Dropout)              (None, 1024)                  0           \n",
      "___________________________________________________________________________\n",
      "dense_2 (Dense)                  (None, 29)                    29725       \n",
      "===========================================================================\n",
      "Total params: 1,405,469\n",
      "Trainable params: 1,405,469\n",
      "Non-trainable params: 0\n",
      "___________________________________________________________________________\n"
     ]
    }
   ],
   "source": [
    "model.summary(line_length=75)"
   ]
  },
  {
   "cell_type": "markdown",
   "id": "16484b1e",
   "metadata": {
    "papermill": {
     "duration": 0.042414,
     "end_time": "2021-11-05T16:56:29.278055",
     "exception": false,
     "start_time": "2021-11-05T16:56:29.235641",
     "status": "completed"
    },
    "tags": []
   },
   "source": [
    "### Compiling our model"
   ]
  },
  {
   "cell_type": "code",
   "execution_count": 20,
   "id": "0e8b79a4",
   "metadata": {
    "execution": {
     "iopub.execute_input": "2021-11-05T16:56:29.366999Z",
     "iopub.status.busy": "2021-11-05T16:56:29.366294Z",
     "iopub.status.idle": "2021-11-05T16:56:29.369166Z",
     "shell.execute_reply": "2021-11-05T16:56:29.368680Z",
     "shell.execute_reply.started": "2021-11-05T16:49:15.900623Z"
    },
    "papermill": {
     "duration": 0.049045,
     "end_time": "2021-11-05T16:56:29.369301",
     "exception": false,
     "start_time": "2021-11-05T16:56:29.320256",
     "status": "completed"
    },
    "tags": []
   },
   "outputs": [],
   "source": [
    "loss_fn= tf.keras.losses.SparseCategoricalCrossentropy(from_logits=True)"
   ]
  },
  {
   "cell_type": "code",
   "execution_count": 21,
   "id": "9cff8bc8",
   "metadata": {
    "execution": {
     "iopub.execute_input": "2021-11-05T16:56:29.459629Z",
     "iopub.status.busy": "2021-11-05T16:56:29.458913Z",
     "iopub.status.idle": "2021-11-05T16:56:29.469191Z",
     "shell.execute_reply": "2021-11-05T16:56:29.468700Z",
     "shell.execute_reply.started": "2021-11-05T16:49:16.2065Z"
    },
    "papermill": {
     "duration": 0.05726,
     "end_time": "2021-11-05T16:56:29.469310",
     "exception": false,
     "start_time": "2021-11-05T16:56:29.412050",
     "status": "completed"
    },
    "tags": []
   },
   "outputs": [],
   "source": [
    "model.compile(optimizer='adam',loss=loss_fn,metrics=['accuracy'])"
   ]
  },
  {
   "cell_type": "markdown",
   "id": "f38797ec",
   "metadata": {
    "papermill": {
     "duration": 0.043226,
     "end_time": "2021-11-05T16:56:29.555120",
     "exception": false,
     "start_time": "2021-11-05T16:56:29.511894",
     "status": "completed"
    },
    "tags": []
   },
   "source": [
    "### Defining early stopping technique"
   ]
  },
  {
   "cell_type": "code",
   "execution_count": 22,
   "id": "8eddc197",
   "metadata": {
    "execution": {
     "iopub.execute_input": "2021-11-05T16:56:29.647431Z",
     "iopub.status.busy": "2021-11-05T16:56:29.646567Z",
     "iopub.status.idle": "2021-11-05T16:56:29.648459Z",
     "shell.execute_reply": "2021-11-05T16:56:29.649068Z",
     "shell.execute_reply.started": "2021-11-05T16:49:17.126656Z"
    },
    "papermill": {
     "duration": 0.049791,
     "end_time": "2021-11-05T16:56:29.649223",
     "exception": false,
     "start_time": "2021-11-05T16:56:29.599432",
     "status": "completed"
    },
    "tags": []
   },
   "outputs": [],
   "source": [
    "early_stopping=tf.keras.callbacks.EarlyStopping(\n",
    "monitor='val_loss',\n",
    "mode='auto',\n",
    "min_delta=0,\n",
    "patience=10,\n",
    "verbose=0,\n",
    "restore_best_weights=True)"
   ]
  },
  {
   "cell_type": "markdown",
   "id": "1c2f20d9",
   "metadata": {
    "papermill": {
     "duration": 0.042206,
     "end_time": "2021-11-05T16:56:29.734236",
     "exception": false,
     "start_time": "2021-11-05T16:56:29.692030",
     "status": "completed"
    },
    "tags": []
   },
   "source": [
    "### Fitting our model"
   ]
  },
  {
   "cell_type": "code",
   "execution_count": 23,
   "id": "0ff1a091",
   "metadata": {
    "execution": {
     "iopub.execute_input": "2021-11-05T16:56:29.823585Z",
     "iopub.status.busy": "2021-11-05T16:56:29.822957Z",
     "iopub.status.idle": "2021-11-05T16:57:31.086044Z",
     "shell.execute_reply": "2021-11-05T16:57:31.085395Z",
     "shell.execute_reply.started": "2021-11-05T16:49:18.191068Z"
    },
    "papermill": {
     "duration": 61.309593,
     "end_time": "2021-11-05T16:57:31.086200",
     "exception": false,
     "start_time": "2021-11-05T16:56:29.776607",
     "status": "completed"
    },
    "tags": []
   },
   "outputs": [
    {
     "name": "stderr",
     "output_type": "stream",
     "text": [
      "2021-11-05 16:56:29.980018: I tensorflow/compiler/mlir/mlir_graph_optimization_pass.cc:185] None of the MLIR Optimization Passes are enabled (registered 2)\n"
     ]
    },
    {
     "name": "stdout",
     "output_type": "stream",
     "text": [
      "Epoch 1/100\n"
     ]
    },
    {
     "name": "stderr",
     "output_type": "stream",
     "text": [
      "2021-11-05 16:56:31.304242: I tensorflow/stream_executor/cuda/cuda_dnn.cc:369] Loaded cuDNN version 8005\n"
     ]
    },
    {
     "name": "stdout",
     "output_type": "stream",
     "text": [
      "84/84 - 8s - loss: 3.3441 - accuracy: 0.0377 - val_loss: 3.2800 - val_accuracy: 0.0342\n",
      "Epoch 2/100\n",
      "84/84 - 1s - loss: 3.1121 - accuracy: 0.0761 - val_loss: 2.8100 - val_accuracy: 0.1057\n",
      "Epoch 3/100\n",
      "84/84 - 1s - loss: 2.7588 - accuracy: 0.1266 - val_loss: 2.3135 - val_accuracy: 0.2493\n",
      "Epoch 4/100\n",
      "84/84 - 1s - loss: 2.2215 - accuracy: 0.2425 - val_loss: 1.7932 - val_accuracy: 0.3445\n",
      "Epoch 5/100\n",
      "84/84 - 1s - loss: 1.8355 - accuracy: 0.3398 - val_loss: 1.3979 - val_accuracy: 0.4970\n",
      "Epoch 6/100\n",
      "84/84 - 1s - loss: 1.5154 - accuracy: 0.4288 - val_loss: 1.2435 - val_accuracy: 0.5379\n",
      "Epoch 7/100\n",
      "84/84 - 1s - loss: 1.2950 - accuracy: 0.5034 - val_loss: 1.0914 - val_accuracy: 0.6138\n",
      "Epoch 8/100\n",
      "84/84 - 1s - loss: 1.1213 - accuracy: 0.5685 - val_loss: 0.8141 - val_accuracy: 0.7009\n",
      "Epoch 9/100\n",
      "84/84 - 1s - loss: 0.9684 - accuracy: 0.6308 - val_loss: 0.6496 - val_accuracy: 0.8013\n",
      "Epoch 10/100\n",
      "84/84 - 1s - loss: 0.8256 - accuracy: 0.6923 - val_loss: 0.5329 - val_accuracy: 0.8333\n",
      "Epoch 11/100\n",
      "84/84 - 1s - loss: 0.7202 - accuracy: 0.7411 - val_loss: 0.4654 - val_accuracy: 0.8445\n",
      "Epoch 12/100\n",
      "84/84 - 1s - loss: 0.6502 - accuracy: 0.7714 - val_loss: 0.4263 - val_accuracy: 0.8609\n",
      "Epoch 13/100\n",
      "84/84 - 1s - loss: 0.5705 - accuracy: 0.7989 - val_loss: 0.3513 - val_accuracy: 0.8787\n",
      "Epoch 14/100\n",
      "84/84 - 1s - loss: 0.5028 - accuracy: 0.8312 - val_loss: 0.3105 - val_accuracy: 0.8943\n",
      "Epoch 15/100\n",
      "84/84 - 1s - loss: 0.4839 - accuracy: 0.8333 - val_loss: 0.2497 - val_accuracy: 0.9301\n",
      "Epoch 16/100\n",
      "84/84 - 1s - loss: 0.4296 - accuracy: 0.8532 - val_loss: 0.2888 - val_accuracy: 0.9040\n",
      "Epoch 17/100\n",
      "84/84 - 1s - loss: 0.4085 - accuracy: 0.8631 - val_loss: 0.2697 - val_accuracy: 0.9085\n",
      "Epoch 18/100\n",
      "84/84 - 1s - loss: 0.3763 - accuracy: 0.8747 - val_loss: 0.2287 - val_accuracy: 0.9271\n",
      "Epoch 19/100\n",
      "84/84 - 1s - loss: 0.3394 - accuracy: 0.8901 - val_loss: 0.2741 - val_accuracy: 0.9167\n",
      "Epoch 20/100\n",
      "84/84 - 1s - loss: 0.3268 - accuracy: 0.8883 - val_loss: 0.2160 - val_accuracy: 0.9301\n",
      "Epoch 21/100\n",
      "84/84 - 1s - loss: 0.2888 - accuracy: 0.9036 - val_loss: 0.1802 - val_accuracy: 0.9435\n",
      "Epoch 22/100\n",
      "84/84 - 1s - loss: 0.2741 - accuracy: 0.9107 - val_loss: 0.1692 - val_accuracy: 0.9442\n",
      "Epoch 23/100\n",
      "84/84 - 1s - loss: 0.2780 - accuracy: 0.9100 - val_loss: 0.1728 - val_accuracy: 0.9442\n",
      "Epoch 24/100\n",
      "84/84 - 1s - loss: 0.2446 - accuracy: 0.9191 - val_loss: 0.1575 - val_accuracy: 0.9479\n",
      "Epoch 25/100\n",
      "84/84 - 1s - loss: 0.2478 - accuracy: 0.9209 - val_loss: 0.1697 - val_accuracy: 0.9516\n",
      "Epoch 26/100\n",
      "84/84 - 1s - loss: 0.2185 - accuracy: 0.9288 - val_loss: 0.1700 - val_accuracy: 0.9479\n",
      "Epoch 27/100\n",
      "84/84 - 1s - loss: 0.1996 - accuracy: 0.9356 - val_loss: 0.1459 - val_accuracy: 0.9554\n",
      "Epoch 28/100\n",
      "84/84 - 1s - loss: 0.2052 - accuracy: 0.9333 - val_loss: 0.1494 - val_accuracy: 0.9531\n",
      "Epoch 29/100\n",
      "84/84 - 1s - loss: 0.1950 - accuracy: 0.9366 - val_loss: 0.1319 - val_accuracy: 0.9591\n",
      "Epoch 30/100\n",
      "84/84 - 1s - loss: 0.1846 - accuracy: 0.9421 - val_loss: 0.1317 - val_accuracy: 0.9606\n",
      "Epoch 31/100\n",
      "84/84 - 1s - loss: 0.1677 - accuracy: 0.9461 - val_loss: 0.1235 - val_accuracy: 0.9606\n",
      "Epoch 32/100\n",
      "84/84 - 1s - loss: 0.1612 - accuracy: 0.9497 - val_loss: 0.1168 - val_accuracy: 0.9635\n",
      "Epoch 33/100\n",
      "84/84 - 1s - loss: 0.1773 - accuracy: 0.9448 - val_loss: 0.1236 - val_accuracy: 0.9598\n",
      "Epoch 34/100\n",
      "84/84 - 1s - loss: 0.1464 - accuracy: 0.9551 - val_loss: 0.1214 - val_accuracy: 0.9591\n",
      "Epoch 35/100\n",
      "84/84 - 1s - loss: 0.1447 - accuracy: 0.9550 - val_loss: 0.1320 - val_accuracy: 0.9576\n",
      "Epoch 36/100\n",
      "84/84 - 1s - loss: 0.1409 - accuracy: 0.9549 - val_loss: 0.1294 - val_accuracy: 0.9621\n",
      "Epoch 37/100\n",
      "84/84 - 1s - loss: 0.1373 - accuracy: 0.9559 - val_loss: 0.1125 - val_accuracy: 0.9635\n",
      "Epoch 38/100\n",
      "84/84 - 1s - loss: 0.1433 - accuracy: 0.9547 - val_loss: 0.1124 - val_accuracy: 0.9680\n",
      "Epoch 39/100\n",
      "84/84 - 1s - loss: 0.1326 - accuracy: 0.9574 - val_loss: 0.1270 - val_accuracy: 0.9643\n",
      "Epoch 40/100\n",
      "84/84 - 1s - loss: 0.1330 - accuracy: 0.9594 - val_loss: 0.1256 - val_accuracy: 0.9606\n",
      "Epoch 41/100\n",
      "84/84 - 1s - loss: 0.1180 - accuracy: 0.9623 - val_loss: 0.1117 - val_accuracy: 0.9695\n",
      "Epoch 42/100\n",
      "84/84 - 1s - loss: 0.1201 - accuracy: 0.9615 - val_loss: 0.1047 - val_accuracy: 0.9710\n",
      "Epoch 43/100\n",
      "84/84 - 1s - loss: 0.1153 - accuracy: 0.9652 - val_loss: 0.0924 - val_accuracy: 0.9717\n",
      "Epoch 44/100\n",
      "84/84 - 1s - loss: 0.1153 - accuracy: 0.9629 - val_loss: 0.1397 - val_accuracy: 0.9546\n",
      "Epoch 45/100\n",
      "84/84 - 1s - loss: 0.1146 - accuracy: 0.9651 - val_loss: 0.1115 - val_accuracy: 0.9680\n",
      "Epoch 46/100\n",
      "84/84 - 1s - loss: 0.1100 - accuracy: 0.9653 - val_loss: 0.1148 - val_accuracy: 0.9665\n",
      "Epoch 47/100\n",
      "84/84 - 1s - loss: 0.1015 - accuracy: 0.9691 - val_loss: 0.0994 - val_accuracy: 0.9710\n",
      "Epoch 48/100\n",
      "84/84 - 1s - loss: 0.0869 - accuracy: 0.9738 - val_loss: 0.0943 - val_accuracy: 0.9732\n",
      "Epoch 49/100\n",
      "84/84 - 1s - loss: 0.0799 - accuracy: 0.9755 - val_loss: 0.1106 - val_accuracy: 0.9725\n",
      "Epoch 50/100\n",
      "84/84 - 1s - loss: 0.0877 - accuracy: 0.9724 - val_loss: 0.1077 - val_accuracy: 0.9650\n",
      "Epoch 51/100\n",
      "84/84 - 1s - loss: 0.0831 - accuracy: 0.9750 - val_loss: 0.1005 - val_accuracy: 0.9680\n",
      "Epoch 52/100\n",
      "84/84 - 1s - loss: 0.0836 - accuracy: 0.9737 - val_loss: 0.0956 - val_accuracy: 0.9732\n",
      "Epoch 53/100\n",
      "84/84 - 1s - loss: 0.0805 - accuracy: 0.9768 - val_loss: 0.0996 - val_accuracy: 0.9717\n"
     ]
    },
    {
     "data": {
      "text/plain": [
       "<keras.callbacks.History at 0x7fa2d197cd90>"
      ]
     },
     "execution_count": 23,
     "metadata": {},
     "output_type": "execute_result"
    }
   ],
   "source": [
    "model.fit(\n",
    "    train_images,\n",
    "    train_labels,\n",
    "    epochs=100,\n",
    "    batch_size=128,\n",
    "    callbacks=[early_stopping],\n",
    "    validation_data= (validation_images,validation_labels),\n",
    "    verbose=2\n",
    ")"
   ]
  },
  {
   "cell_type": "code",
   "execution_count": 24,
   "id": "c2a4f8ac",
   "metadata": {
    "execution": {
     "iopub.execute_input": "2021-11-05T16:57:31.231997Z",
     "iopub.status.busy": "2021-11-05T16:57:31.230959Z",
     "iopub.status.idle": "2021-11-05T16:57:31.550445Z",
     "shell.execute_reply": "2021-11-05T16:57:31.549986Z",
     "shell.execute_reply.started": "2021-11-05T16:48:51.35686Z"
    },
    "papermill": {
     "duration": 0.393335,
     "end_time": "2021-11-05T16:57:31.550581",
     "exception": false,
     "start_time": "2021-11-05T16:57:31.157246",
     "status": "completed"
    },
    "tags": []
   },
   "outputs": [
    {
     "name": "stdout",
     "output_type": "stream",
     "text": [
      "42/42 [==============================] - 0s 3ms/step - loss: 0.1307 - accuracy: 0.9643\n"
     ]
    },
    {
     "data": {
      "text/plain": [
       "[0.13068664073944092, 0.9642857313156128]"
      ]
     },
     "execution_count": 24,
     "metadata": {},
     "output_type": "execute_result"
    }
   ],
   "source": [
    "model.evaluate(test_images,test_labels)"
   ]
  },
  {
   "cell_type": "markdown",
   "id": "a3ada4dc",
   "metadata": {
    "papermill": {
     "duration": 0.071637,
     "end_time": "2021-11-05T16:57:31.693779",
     "exception": false,
     "start_time": "2021-11-05T16:57:31.622142",
     "status": "completed"
    },
    "tags": []
   },
   "source": [
    "### Retraining the model with larger batch size"
   ]
  },
  {
   "cell_type": "code",
   "execution_count": 25,
   "id": "2f350a0f",
   "metadata": {
    "execution": {
     "iopub.execute_input": "2021-11-05T16:57:31.840080Z",
     "iopub.status.busy": "2021-11-05T16:57:31.839436Z",
     "iopub.status.idle": "2021-11-05T16:57:31.843383Z",
     "shell.execute_reply": "2021-11-05T16:57:31.842941Z",
     "shell.execute_reply.started": "2021-11-05T16:25:20.602538Z"
    },
    "papermill": {
     "duration": 0.078134,
     "end_time": "2021-11-05T16:57:31.843501",
     "exception": false,
     "start_time": "2021-11-05T16:57:31.765367",
     "status": "completed"
    },
    "tags": []
   },
   "outputs": [],
   "source": [
    "# model.fit(\n",
    "#     train_images,\n",
    "#     train_labels,\n",
    "#     epochs=10,\n",
    "#     batch_size=512,\n",
    "#     callbacks=[early_stopping],\n",
    "#     validation_data= (validation_images,validation_labels),\n",
    "#     verbose=2\n",
    "# )"
   ]
  },
  {
   "cell_type": "code",
   "execution_count": 26,
   "id": "6e0333b8",
   "metadata": {
    "execution": {
     "iopub.execute_input": "2021-11-05T16:57:31.988899Z",
     "iopub.status.busy": "2021-11-05T16:57:31.988233Z",
     "iopub.status.idle": "2021-11-05T16:57:31.991846Z",
     "shell.execute_reply": "2021-11-05T16:57:31.991236Z",
     "shell.execute_reply.started": "2021-11-05T16:25:21.215109Z"
    },
    "papermill": {
     "duration": 0.07743,
     "end_time": "2021-11-05T16:57:31.991984",
     "exception": false,
     "start_time": "2021-11-05T16:57:31.914554",
     "status": "completed"
    },
    "tags": []
   },
   "outputs": [],
   "source": [
    "# model.evaluate(test_images,test_labels)"
   ]
  },
  {
   "cell_type": "markdown",
   "id": "e657508f",
   "metadata": {
    "papermill": {
     "duration": 0.072325,
     "end_time": "2021-11-05T16:57:32.135328",
     "exception": false,
     "start_time": "2021-11-05T16:57:32.063003",
     "status": "completed"
    },
    "tags": []
   },
   "source": [
    "### Extracting the most important features"
   ]
  },
  {
   "cell_type": "code",
   "execution_count": 27,
   "id": "ffe0483c",
   "metadata": {
    "execution": {
     "iopub.execute_input": "2021-11-05T16:57:32.282271Z",
     "iopub.status.busy": "2021-11-05T16:57:32.281739Z",
     "iopub.status.idle": "2021-11-05T16:57:32.285185Z",
     "shell.execute_reply": "2021-11-05T16:57:32.284763Z",
     "shell.execute_reply.started": "2021-11-05T16:25:22.160614Z"
    },
    "papermill": {
     "duration": 0.078897,
     "end_time": "2021-11-05T16:57:32.285296",
     "exception": false,
     "start_time": "2021-11-05T16:57:32.206399",
     "status": "completed"
    },
    "tags": []
   },
   "outputs": [],
   "source": [
    "layer_output=model.get_layer(index=6).output"
   ]
  },
  {
   "cell_type": "code",
   "execution_count": 28,
   "id": "69cef714",
   "metadata": {
    "execution": {
     "iopub.execute_input": "2021-11-05T16:57:32.466590Z",
     "iopub.status.busy": "2021-11-05T16:57:32.465715Z",
     "iopub.status.idle": "2021-11-05T16:57:32.479130Z",
     "shell.execute_reply": "2021-11-05T16:57:32.478465Z",
     "shell.execute_reply.started": "2021-11-05T16:25:23.096868Z"
    },
    "papermill": {
     "duration": 0.119197,
     "end_time": "2021-11-05T16:57:32.479299",
     "exception": false,
     "start_time": "2021-11-05T16:57:32.360102",
     "status": "completed"
    },
    "tags": []
   },
   "outputs": [],
   "source": [
    "intermediate_model=tf.keras.models.Model(inputs=model.input,outputs=layer_output)"
   ]
  },
  {
   "cell_type": "code",
   "execution_count": 29,
   "id": "87a4248a",
   "metadata": {
    "execution": {
     "iopub.execute_input": "2021-11-05T16:57:32.741628Z",
     "iopub.status.busy": "2021-11-05T16:57:32.740799Z",
     "iopub.status.idle": "2021-11-05T16:57:33.808880Z",
     "shell.execute_reply": "2021-11-05T16:57:33.807985Z",
     "shell.execute_reply.started": "2021-11-05T16:25:23.37648Z"
    },
    "papermill": {
     "duration": 1.197113,
     "end_time": "2021-11-05T16:57:33.809030",
     "exception": false,
     "start_time": "2021-11-05T16:57:32.611917",
     "status": "completed"
    },
    "tags": []
   },
   "outputs": [],
   "source": [
    "new_train_features= intermediate_model.predict(train_data)\n",
    "new_test_features= intermediate_model.predict(test_data)"
   ]
  },
  {
   "cell_type": "code",
   "execution_count": 30,
   "id": "c7777916",
   "metadata": {
    "execution": {
     "iopub.execute_input": "2021-11-05T16:57:33.959944Z",
     "iopub.status.busy": "2021-11-05T16:57:33.959293Z",
     "iopub.status.idle": "2021-11-05T16:57:33.961933Z",
     "shell.execute_reply": "2021-11-05T16:57:33.962344Z",
     "shell.execute_reply.started": "2021-11-05T16:25:25.309414Z"
    },
    "papermill": {
     "duration": 0.079079,
     "end_time": "2021-11-05T16:57:33.962473",
     "exception": false,
     "start_time": "2021-11-05T16:57:33.883394",
     "status": "completed"
    },
    "tags": []
   },
   "outputs": [
    {
     "data": {
      "text/plain": [
       "(13440, 64)"
      ]
     },
     "execution_count": 30,
     "metadata": {},
     "output_type": "execute_result"
    }
   ],
   "source": [
    "new_train_features.shape"
   ]
  },
  {
   "cell_type": "code",
   "execution_count": 31,
   "id": "bba07789",
   "metadata": {
    "execution": {
     "iopub.execute_input": "2021-11-05T16:57:34.110106Z",
     "iopub.status.busy": "2021-11-05T16:57:34.109540Z",
     "iopub.status.idle": "2021-11-05T16:57:34.112502Z",
     "shell.execute_reply": "2021-11-05T16:57:34.112939Z",
     "shell.execute_reply.started": "2021-11-05T16:25:27.784209Z"
    },
    "papermill": {
     "duration": 0.079362,
     "end_time": "2021-11-05T16:57:34.113072",
     "exception": false,
     "start_time": "2021-11-05T16:57:34.033710",
     "status": "completed"
    },
    "tags": []
   },
   "outputs": [
    {
     "data": {
      "text/plain": [
       "(3360, 64)"
      ]
     },
     "execution_count": 31,
     "metadata": {},
     "output_type": "execute_result"
    }
   ],
   "source": [
    "new_test_features.shape"
   ]
  },
  {
   "cell_type": "code",
   "execution_count": null,
   "id": "7787db42",
   "metadata": {
    "papermill": {
     "duration": 0.072674,
     "end_time": "2021-11-05T16:57:34.258065",
     "exception": false,
     "start_time": "2021-11-05T16:57:34.185391",
     "status": "completed"
    },
    "tags": []
   },
   "outputs": [],
   "source": []
  },
  {
   "cell_type": "code",
   "execution_count": 32,
   "id": "1051c702",
   "metadata": {
    "execution": {
     "iopub.execute_input": "2021-11-05T16:57:34.408136Z",
     "iopub.status.busy": "2021-11-05T16:57:34.407367Z",
     "iopub.status.idle": "2021-11-05T16:57:34.413006Z",
     "shell.execute_reply": "2021-11-05T16:57:34.412562Z",
     "shell.execute_reply.started": "2021-11-05T16:25:27.922705Z"
    },
    "papermill": {
     "duration": 0.082391,
     "end_time": "2021-11-05T16:57:34.413110",
     "exception": false,
     "start_time": "2021-11-05T16:57:34.330719",
     "status": "completed"
    },
    "tags": []
   },
   "outputs": [],
   "source": [
    "X_train, X_validation,y_train,y_validation = train_test_split(new_train_features,labels, test_size=0.1, random_state=42) \n",
    "# y_train, y_validation = train_test_split(labels, test_size=0.1, random_state=42) \n"
   ]
  },
  {
   "cell_type": "code",
   "execution_count": 33,
   "id": "3b280ec6",
   "metadata": {
    "execution": {
     "iopub.execute_input": "2021-11-05T16:57:34.560057Z",
     "iopub.status.busy": "2021-11-05T16:57:34.559310Z",
     "iopub.status.idle": "2021-11-05T16:57:34.561979Z",
     "shell.execute_reply": "2021-11-05T16:57:34.562374Z",
     "shell.execute_reply.started": "2021-11-05T16:25:27.938553Z"
    },
    "papermill": {
     "duration": 0.078332,
     "end_time": "2021-11-05T16:57:34.562502",
     "exception": false,
     "start_time": "2021-11-05T16:57:34.484170",
     "status": "completed"
    },
    "tags": []
   },
   "outputs": [
    {
     "data": {
      "text/plain": [
       "(12096, 64)"
      ]
     },
     "execution_count": 33,
     "metadata": {},
     "output_type": "execute_result"
    }
   ],
   "source": [
    "X_train.shape"
   ]
  },
  {
   "cell_type": "code",
   "execution_count": 34,
   "id": "e71e0ff1",
   "metadata": {
    "execution": {
     "iopub.execute_input": "2021-11-05T16:57:34.712903Z",
     "iopub.status.busy": "2021-11-05T16:57:34.711643Z",
     "iopub.status.idle": "2021-11-05T16:57:34.715148Z",
     "shell.execute_reply": "2021-11-05T16:57:34.714738Z",
     "shell.execute_reply.started": "2021-11-05T16:25:27.950378Z"
    },
    "papermill": {
     "duration": 0.080116,
     "end_time": "2021-11-05T16:57:34.715249",
     "exception": false,
     "start_time": "2021-11-05T16:57:34.635133",
     "status": "completed"
    },
    "tags": []
   },
   "outputs": [
    {
     "data": {
      "text/plain": [
       "(12096,)"
      ]
     },
     "execution_count": 34,
     "metadata": {},
     "output_type": "execute_result"
    }
   ],
   "source": [
    "y_train.shape"
   ]
  },
  {
   "cell_type": "code",
   "execution_count": 35,
   "id": "4412efc2",
   "metadata": {
    "execution": {
     "iopub.execute_input": "2021-11-05T16:57:34.864578Z",
     "iopub.status.busy": "2021-11-05T16:57:34.863776Z",
     "iopub.status.idle": "2021-11-05T16:57:34.866580Z",
     "shell.execute_reply": "2021-11-05T16:57:34.866990Z",
     "shell.execute_reply.started": "2021-11-05T16:25:27.961609Z"
    },
    "papermill": {
     "duration": 0.079769,
     "end_time": "2021-11-05T16:57:34.867108",
     "exception": false,
     "start_time": "2021-11-05T16:57:34.787339",
     "status": "completed"
    },
    "tags": []
   },
   "outputs": [
    {
     "data": {
      "text/plain": [
       "(1344, 64)"
      ]
     },
     "execution_count": 35,
     "metadata": {},
     "output_type": "execute_result"
    }
   ],
   "source": [
    "X_validation.shape"
   ]
  },
  {
   "cell_type": "code",
   "execution_count": 36,
   "id": "886a07a0",
   "metadata": {
    "execution": {
     "iopub.execute_input": "2021-11-05T16:57:35.016212Z",
     "iopub.status.busy": "2021-11-05T16:57:35.014685Z",
     "iopub.status.idle": "2021-11-05T16:57:35.018162Z",
     "shell.execute_reply": "2021-11-05T16:57:35.017723Z",
     "shell.execute_reply.started": "2021-11-05T16:25:27.993762Z"
    },
    "papermill": {
     "duration": 0.079505,
     "end_time": "2021-11-05T16:57:35.018260",
     "exception": false,
     "start_time": "2021-11-05T16:57:34.938755",
     "status": "completed"
    },
    "tags": []
   },
   "outputs": [
    {
     "data": {
      "text/plain": [
       "(1344,)"
      ]
     },
     "execution_count": 36,
     "metadata": {},
     "output_type": "execute_result"
    }
   ],
   "source": [
    "y_validation.shape"
   ]
  },
  {
   "cell_type": "markdown",
   "id": "b155e111",
   "metadata": {
    "papermill": {
     "duration": 0.072511,
     "end_time": "2021-11-05T16:57:35.163283",
     "exception": false,
     "start_time": "2021-11-05T16:57:35.090772",
     "status": "completed"
    },
    "tags": []
   },
   "source": [
    "### Catboost Model"
   ]
  },
  {
   "cell_type": "code",
   "execution_count": 37,
   "id": "45a17dc3",
   "metadata": {
    "execution": {
     "iopub.execute_input": "2021-11-05T16:57:35.379227Z",
     "iopub.status.busy": "2021-11-05T16:57:35.323055Z",
     "iopub.status.idle": "2021-11-05T17:04:14.179484Z",
     "shell.execute_reply": "2021-11-05T17:04:14.180094Z",
     "shell.execute_reply.started": "2021-11-05T16:35:36.350463Z"
    },
    "papermill": {
     "duration": 398.944547,
     "end_time": "2021-11-05T17:04:14.180294",
     "exception": false,
     "start_time": "2021-11-05T16:57:35.235747",
     "status": "completed"
    },
    "tags": []
   },
   "outputs": [
    {
     "name": "stdout",
     "output_type": "stream",
     "text": [
      "Learning rate set to 0.113496\n",
      "0:\tlearn: 0.5520007\ttest: 0.5572917\tbest: 0.5572917 (0)\ttotal: 436ms\tremaining: 7m 15s\n",
      "1:\tlearn: 0.7102348\ttest: 0.7358631\tbest: 0.7358631 (1)\ttotal: 812ms\tremaining: 6m 45s\n",
      "2:\tlearn: 0.7730655\ttest: 0.7924107\tbest: 0.7924107 (2)\ttotal: 1.2s\tremaining: 6m 40s\n",
      "3:\tlearn: 0.8138228\ttest: 0.8377976\tbest: 0.8377976 (3)\ttotal: 1.58s\tremaining: 6m 34s\n",
      "4:\tlearn: 0.8364749\ttest: 0.8578869\tbest: 0.8578869 (4)\ttotal: 1.96s\tremaining: 6m 30s\n",
      "5:\tlearn: 0.8475529\ttest: 0.8675595\tbest: 0.8675595 (5)\ttotal: 2.33s\tremaining: 6m 26s\n",
      "6:\tlearn: 0.8606978\ttest: 0.8779762\tbest: 0.8779762 (6)\ttotal: 2.71s\tremaining: 6m 23s\n",
      "7:\tlearn: 0.8799603\ttest: 0.8906250\tbest: 0.8906250 (7)\ttotal: 3.08s\tremaining: 6m 21s\n",
      "8:\tlearn: 0.8925265\ttest: 0.9040179\tbest: 0.9040179 (8)\ttotal: 3.45s\tremaining: 6m 20s\n",
      "9:\tlearn: 0.9002149\ttest: 0.9114583\tbest: 0.9114583 (9)\ttotal: 3.82s\tremaining: 6m 18s\n",
      "10:\tlearn: 0.9063327\ttest: 0.9174107\tbest: 0.9174107 (10)\ttotal: 4.19s\tremaining: 6m 17s\n",
      "11:\tlearn: 0.9123677\ttest: 0.9196429\tbest: 0.9196429 (11)\ttotal: 4.57s\tremaining: 6m 15s\n",
      "12:\tlearn: 0.9182374\ttest: 0.9233631\tbest: 0.9233631 (12)\ttotal: 4.94s\tremaining: 6m 15s\n",
      "13:\tlearn: 0.9210483\ttest: 0.9278274\tbest: 0.9278274 (13)\ttotal: 5.32s\tremaining: 6m 14s\n",
      "14:\tlearn: 0.9251819\ttest: 0.9278274\tbest: 0.9278274 (13)\ttotal: 5.69s\tremaining: 6m 13s\n",
      "15:\tlearn: 0.9279927\ttest: 0.9322917\tbest: 0.9322917 (15)\ttotal: 6.07s\tremaining: 6m 13s\n",
      "16:\tlearn: 0.9298115\ttest: 0.9337798\tbest: 0.9337798 (16)\ttotal: 6.44s\tremaining: 6m 12s\n",
      "17:\tlearn: 0.9331184\ttest: 0.9360119\tbest: 0.9360119 (17)\ttotal: 6.81s\tremaining: 6m 11s\n",
      "18:\tlearn: 0.9348545\ttest: 0.9367560\tbest: 0.9367560 (18)\ttotal: 7.19s\tremaining: 6m 11s\n",
      "19:\tlearn: 0.9368386\ttest: 0.9397321\tbest: 0.9397321 (19)\ttotal: 7.57s\tremaining: 6m 10s\n",
      "20:\tlearn: 0.9391534\ttest: 0.9412202\tbest: 0.9412202 (20)\ttotal: 7.97s\tremaining: 6m 11s\n",
      "21:\tlearn: 0.9414683\ttest: 0.9412202\tbest: 0.9412202 (20)\ttotal: 8.58s\tremaining: 6m 21s\n",
      "22:\tlearn: 0.9429563\ttest: 0.9412202\tbest: 0.9412202 (20)\ttotal: 9.01s\tremaining: 6m 22s\n",
      "23:\tlearn: 0.9442791\ttest: 0.9419643\tbest: 0.9419643 (23)\ttotal: 9.38s\tremaining: 6m 21s\n",
      "24:\tlearn: 0.9468419\ttest: 0.9427083\tbest: 0.9427083 (24)\ttotal: 9.76s\tremaining: 6m 20s\n",
      "25:\tlearn: 0.9482474\ttest: 0.9441964\tbest: 0.9441964 (25)\ttotal: 10.1s\tremaining: 6m 19s\n",
      "26:\tlearn: 0.9497354\ttest: 0.9441964\tbest: 0.9441964 (25)\ttotal: 10.5s\tremaining: 6m 18s\n",
      "27:\tlearn: 0.9505622\ttest: 0.9456845\tbest: 0.9456845 (27)\ttotal: 10.9s\tremaining: 6m 17s\n",
      "28:\tlearn: 0.9518849\ttest: 0.9486607\tbest: 0.9486607 (28)\ttotal: 11.3s\tremaining: 6m 18s\n",
      "29:\tlearn: 0.9532903\ttest: 0.9494048\tbest: 0.9494048 (29)\ttotal: 11.7s\tremaining: 6m 17s\n",
      "30:\tlearn: 0.9550265\ttest: 0.9494048\tbest: 0.9494048 (29)\ttotal: 12s\tremaining: 6m 16s\n",
      "31:\tlearn: 0.9566799\ttest: 0.9516369\tbest: 0.9516369 (31)\ttotal: 12.4s\tremaining: 6m 16s\n",
      "32:\tlearn: 0.9575066\ttest: 0.9516369\tbest: 0.9516369 (31)\ttotal: 12.8s\tremaining: 6m 15s\n",
      "33:\tlearn: 0.9589947\ttest: 0.9531250\tbest: 0.9531250 (33)\ttotal: 13.2s\tremaining: 6m 14s\n",
      "34:\tlearn: 0.9603175\ttest: 0.9538690\tbest: 0.9538690 (34)\ttotal: 13.6s\tremaining: 6m 14s\n",
      "35:\tlearn: 0.9610615\ttest: 0.9523810\tbest: 0.9538690 (34)\ttotal: 13.9s\tremaining: 6m 13s\n",
      "36:\tlearn: 0.9619709\ttest: 0.9531250\tbest: 0.9538690 (34)\ttotal: 14.3s\tremaining: 6m 12s\n",
      "37:\tlearn: 0.9626323\ttest: 0.9546131\tbest: 0.9546131 (37)\ttotal: 14.7s\tremaining: 6m 12s\n",
      "38:\tlearn: 0.9644511\ttest: 0.9546131\tbest: 0.9546131 (37)\ttotal: 15.1s\tremaining: 6m 11s\n",
      "39:\tlearn: 0.9654431\ttest: 0.9575893\tbest: 0.9575893 (39)\ttotal: 15.5s\tremaining: 6m 11s\n",
      "40:\tlearn: 0.9661045\ttest: 0.9598214\tbest: 0.9598214 (40)\ttotal: 15.9s\tremaining: 6m 10s\n",
      "41:\tlearn: 0.9663525\ttest: 0.9620536\tbest: 0.9620536 (41)\ttotal: 16.2s\tremaining: 6m 10s\n",
      "42:\tlearn: 0.9671792\ttest: 0.9635417\tbest: 0.9635417 (42)\ttotal: 16.6s\tremaining: 6m 9s\n",
      "43:\tlearn: 0.9675099\ttest: 0.9627976\tbest: 0.9635417 (42)\ttotal: 17s\tremaining: 6m 9s\n",
      "44:\tlearn: 0.9682540\ttest: 0.9635417\tbest: 0.9635417 (42)\ttotal: 17.4s\tremaining: 6m 8s\n",
      "45:\tlearn: 0.9684193\ttest: 0.9635417\tbest: 0.9635417 (42)\ttotal: 18.1s\tremaining: 6m 14s\n",
      "46:\tlearn: 0.9690807\ttest: 0.9642857\tbest: 0.9642857 (46)\ttotal: 18.7s\tremaining: 6m 19s\n",
      "47:\tlearn: 0.9699074\ttest: 0.9650298\tbest: 0.9650298 (47)\ttotal: 19.2s\tremaining: 6m 20s\n",
      "48:\tlearn: 0.9705688\ttest: 0.9665179\tbest: 0.9665179 (48)\ttotal: 19.8s\tremaining: 6m 23s\n",
      "49:\tlearn: 0.9706515\ttest: 0.9657738\tbest: 0.9665179 (48)\ttotal: 20.1s\tremaining: 6m 22s\n",
      "50:\tlearn: 0.9706515\ttest: 0.9672619\tbest: 0.9672619 (50)\ttotal: 20.5s\tremaining: 6m 21s\n",
      "51:\tlearn: 0.9715608\ttest: 0.9687500\tbest: 0.9687500 (51)\ttotal: 20.9s\tremaining: 6m 21s\n",
      "52:\tlearn: 0.9721396\ttest: 0.9680060\tbest: 0.9687500 (51)\ttotal: 21.3s\tremaining: 6m 20s\n",
      "53:\tlearn: 0.9723049\ttest: 0.9680060\tbest: 0.9687500 (51)\ttotal: 21.7s\tremaining: 6m 19s\n",
      "54:\tlearn: 0.9727183\ttest: 0.9672619\tbest: 0.9687500 (51)\ttotal: 22s\tremaining: 6m 18s\n",
      "55:\tlearn: 0.9729663\ttest: 0.9665179\tbest: 0.9687500 (51)\ttotal: 22.4s\tremaining: 6m 18s\n",
      "56:\tlearn: 0.9732143\ttest: 0.9672619\tbest: 0.9687500 (51)\ttotal: 22.8s\tremaining: 6m 17s\n",
      "57:\tlearn: 0.9737930\ttest: 0.9687500\tbest: 0.9687500 (51)\ttotal: 23.2s\tremaining: 6m 16s\n",
      "58:\tlearn: 0.9741237\ttest: 0.9694940\tbest: 0.9694940 (58)\ttotal: 23.5s\tremaining: 6m 15s\n",
      "59:\tlearn: 0.9744544\ttest: 0.9702381\tbest: 0.9702381 (59)\ttotal: 23.9s\tremaining: 6m 14s\n",
      "60:\tlearn: 0.9751157\ttest: 0.9702381\tbest: 0.9702381 (59)\ttotal: 24.3s\tremaining: 6m 13s\n",
      "61:\tlearn: 0.9759425\ttest: 0.9694940\tbest: 0.9702381 (59)\ttotal: 24.7s\tremaining: 6m 12s\n",
      "62:\tlearn: 0.9759425\ttest: 0.9694940\tbest: 0.9702381 (59)\ttotal: 25s\tremaining: 6m 12s\n",
      "63:\tlearn: 0.9763558\ttest: 0.9694940\tbest: 0.9702381 (59)\ttotal: 25.4s\tremaining: 6m 11s\n",
      "64:\tlearn: 0.9764385\ttest: 0.9702381\tbest: 0.9702381 (59)\ttotal: 25.8s\tremaining: 6m 10s\n",
      "65:\tlearn: 0.9770999\ttest: 0.9694940\tbest: 0.9702381 (59)\ttotal: 26.1s\tremaining: 6m 10s\n",
      "66:\tlearn: 0.9772652\ttest: 0.9702381\tbest: 0.9702381 (59)\ttotal: 26.5s\tremaining: 6m 9s\n",
      "67:\tlearn: 0.9777612\ttest: 0.9702381\tbest: 0.9702381 (59)\ttotal: 26.9s\tremaining: 6m 8s\n",
      "68:\tlearn: 0.9776786\ttest: 0.9702381\tbest: 0.9702381 (59)\ttotal: 27.3s\tremaining: 6m 7s\n",
      "69:\tlearn: 0.9783399\ttest: 0.9702381\tbest: 0.9702381 (59)\ttotal: 27.6s\tremaining: 6m 7s\n",
      "70:\tlearn: 0.9783399\ttest: 0.9702381\tbest: 0.9702381 (59)\ttotal: 28s\tremaining: 6m 6s\n",
      "71:\tlearn: 0.9788360\ttest: 0.9702381\tbest: 0.9702381 (59)\ttotal: 28.4s\tremaining: 6m 5s\n",
      "72:\tlearn: 0.9790840\ttest: 0.9709821\tbest: 0.9709821 (72)\ttotal: 28.8s\tremaining: 6m 5s\n",
      "73:\tlearn: 0.9790840\ttest: 0.9702381\tbest: 0.9709821 (72)\ttotal: 29.1s\tremaining: 6m 4s\n",
      "74:\tlearn: 0.9792493\ttest: 0.9702381\tbest: 0.9709821 (72)\ttotal: 29.5s\tremaining: 6m 4s\n",
      "75:\tlearn: 0.9798280\ttest: 0.9709821\tbest: 0.9709821 (72)\ttotal: 29.9s\tremaining: 6m 3s\n",
      "76:\tlearn: 0.9799107\ttest: 0.9717262\tbest: 0.9717262 (76)\ttotal: 30.6s\tremaining: 6m 6s\n",
      "77:\tlearn: 0.9802414\ttest: 0.9709821\tbest: 0.9717262 (76)\ttotal: 31s\tremaining: 6m 6s\n",
      "78:\tlearn: 0.9804894\ttest: 0.9717262\tbest: 0.9717262 (76)\ttotal: 31.4s\tremaining: 6m 6s\n",
      "79:\tlearn: 0.9806548\ttest: 0.9717262\tbest: 0.9717262 (76)\ttotal: 31.8s\tremaining: 6m 5s\n",
      "80:\tlearn: 0.9804894\ttest: 0.9717262\tbest: 0.9717262 (76)\ttotal: 32.2s\tremaining: 6m 5s\n",
      "81:\tlearn: 0.9810681\ttest: 0.9717262\tbest: 0.9717262 (76)\ttotal: 32.5s\tremaining: 6m 4s\n",
      "82:\tlearn: 0.9810681\ttest: 0.9717262\tbest: 0.9717262 (76)\ttotal: 32.9s\tremaining: 6m 3s\n",
      "83:\tlearn: 0.9818122\ttest: 0.9732143\tbest: 0.9732143 (83)\ttotal: 33.3s\tremaining: 6m 3s\n",
      "84:\tlearn: 0.9820602\ttest: 0.9732143\tbest: 0.9732143 (83)\ttotal: 33.7s\tremaining: 6m 2s\n",
      "85:\tlearn: 0.9821429\ttest: 0.9739583\tbest: 0.9739583 (85)\ttotal: 34s\tremaining: 6m 1s\n",
      "86:\tlearn: 0.9823082\ttest: 0.9739583\tbest: 0.9739583 (85)\ttotal: 34.4s\tremaining: 6m 1s\n",
      "87:\tlearn: 0.9826389\ttest: 0.9739583\tbest: 0.9739583 (85)\ttotal: 34.8s\tremaining: 6m\n",
      "88:\tlearn: 0.9824735\ttest: 0.9739583\tbest: 0.9739583 (85)\ttotal: 35.2s\tremaining: 5m 59s\n",
      "89:\tlearn: 0.9827216\ttest: 0.9739583\tbest: 0.9739583 (85)\ttotal: 35.5s\tremaining: 5m 59s\n",
      "90:\tlearn: 0.9828042\ttest: 0.9739583\tbest: 0.9739583 (85)\ttotal: 35.9s\tremaining: 5m 58s\n",
      "91:\tlearn: 0.9828869\ttest: 0.9739583\tbest: 0.9739583 (85)\ttotal: 36.3s\tremaining: 5m 58s\n",
      "92:\tlearn: 0.9828042\ttest: 0.9754464\tbest: 0.9754464 (92)\ttotal: 36.7s\tremaining: 5m 57s\n",
      "93:\tlearn: 0.9827216\ttest: 0.9747024\tbest: 0.9754464 (92)\ttotal: 37s\tremaining: 5m 57s\n",
      "94:\tlearn: 0.9828042\ttest: 0.9747024\tbest: 0.9754464 (92)\ttotal: 37.4s\tremaining: 5m 56s\n",
      "95:\tlearn: 0.9831349\ttest: 0.9754464\tbest: 0.9754464 (92)\ttotal: 37.8s\tremaining: 5m 55s\n",
      "96:\tlearn: 0.9833829\ttest: 0.9754464\tbest: 0.9754464 (92)\ttotal: 38.2s\tremaining: 5m 55s\n",
      "97:\tlearn: 0.9837136\ttest: 0.9754464\tbest: 0.9754464 (92)\ttotal: 38.5s\tremaining: 5m 54s\n",
      "98:\tlearn: 0.9836310\ttest: 0.9754464\tbest: 0.9754464 (92)\ttotal: 38.9s\tremaining: 5m 54s\n",
      "99:\tlearn: 0.9840443\ttest: 0.9761905\tbest: 0.9761905 (99)\ttotal: 39.3s\tremaining: 5m 53s\n",
      "100:\tlearn: 0.9840443\ttest: 0.9754464\tbest: 0.9761905 (99)\ttotal: 39.6s\tremaining: 5m 52s\n",
      "101:\tlearn: 0.9842097\ttest: 0.9754464\tbest: 0.9761905 (99)\ttotal: 40s\tremaining: 5m 52s\n",
      "102:\tlearn: 0.9845403\ttest: 0.9747024\tbest: 0.9761905 (99)\ttotal: 40.4s\tremaining: 5m 51s\n",
      "103:\tlearn: 0.9846230\ttest: 0.9747024\tbest: 0.9761905 (99)\ttotal: 40.8s\tremaining: 5m 51s\n",
      "104:\tlearn: 0.9847057\ttest: 0.9747024\tbest: 0.9761905 (99)\ttotal: 41.4s\tremaining: 5m 52s\n",
      "105:\tlearn: 0.9848710\ttest: 0.9747024\tbest: 0.9761905 (99)\ttotal: 41.8s\tremaining: 5m 52s\n",
      "106:\tlearn: 0.9850364\ttest: 0.9747024\tbest: 0.9761905 (99)\ttotal: 42.2s\tremaining: 5m 52s\n",
      "107:\tlearn: 0.9851190\ttest: 0.9754464\tbest: 0.9761905 (99)\ttotal: 42.6s\tremaining: 5m 51s\n",
      "108:\tlearn: 0.9851190\ttest: 0.9761905\tbest: 0.9761905 (99)\ttotal: 43s\tremaining: 5m 51s\n",
      "109:\tlearn: 0.9854497\ttest: 0.9776786\tbest: 0.9776786 (109)\ttotal: 43.4s\tremaining: 5m 50s\n",
      "110:\tlearn: 0.9854497\ttest: 0.9776786\tbest: 0.9776786 (109)\ttotal: 43.7s\tremaining: 5m 50s\n",
      "111:\tlearn: 0.9856151\ttest: 0.9761905\tbest: 0.9776786 (109)\ttotal: 44.1s\tremaining: 5m 49s\n",
      "112:\tlearn: 0.9855324\ttest: 0.9761905\tbest: 0.9776786 (109)\ttotal: 44.5s\tremaining: 5m 49s\n",
      "113:\tlearn: 0.9857804\ttest: 0.9761905\tbest: 0.9776786 (109)\ttotal: 44.9s\tremaining: 5m 48s\n",
      "114:\tlearn: 0.9857804\ttest: 0.9761905\tbest: 0.9776786 (109)\ttotal: 45.2s\tremaining: 5m 48s\n",
      "115:\tlearn: 0.9857804\ttest: 0.9769345\tbest: 0.9776786 (109)\ttotal: 45.6s\tremaining: 5m 47s\n",
      "116:\tlearn: 0.9858631\ttest: 0.9761905\tbest: 0.9776786 (109)\ttotal: 46s\tremaining: 5m 47s\n",
      "117:\tlearn: 0.9861938\ttest: 0.9761905\tbest: 0.9776786 (109)\ttotal: 46.4s\tremaining: 5m 46s\n",
      "118:\tlearn: 0.9862765\ttest: 0.9769345\tbest: 0.9776786 (109)\ttotal: 46.7s\tremaining: 5m 45s\n",
      "119:\tlearn: 0.9862765\ttest: 0.9769345\tbest: 0.9776786 (109)\ttotal: 47.1s\tremaining: 5m 45s\n",
      "120:\tlearn: 0.9863591\ttest: 0.9761905\tbest: 0.9776786 (109)\ttotal: 47.5s\tremaining: 5m 44s\n",
      "121:\tlearn: 0.9864418\ttest: 0.9769345\tbest: 0.9776786 (109)\ttotal: 47.9s\tremaining: 5m 44s\n",
      "122:\tlearn: 0.9867725\ttest: 0.9769345\tbest: 0.9776786 (109)\ttotal: 48.2s\tremaining: 5m 43s\n",
      "123:\tlearn: 0.9871858\ttest: 0.9776786\tbest: 0.9776786 (109)\ttotal: 48.6s\tremaining: 5m 43s\n",
      "124:\tlearn: 0.9871858\ttest: 0.9776786\tbest: 0.9776786 (109)\ttotal: 49s\tremaining: 5m 42s\n",
      "125:\tlearn: 0.9872685\ttest: 0.9776786\tbest: 0.9776786 (109)\ttotal: 49.3s\tremaining: 5m 42s\n",
      "126:\tlearn: 0.9871032\ttest: 0.9776786\tbest: 0.9776786 (109)\ttotal: 49.7s\tremaining: 5m 41s\n",
      "127:\tlearn: 0.9872685\ttest: 0.9776786\tbest: 0.9776786 (109)\ttotal: 50.4s\tremaining: 5m 43s\n",
      "128:\tlearn: 0.9873512\ttest: 0.9769345\tbest: 0.9776786 (109)\ttotal: 51.1s\tremaining: 5m 44s\n",
      "129:\tlearn: 0.9873512\ttest: 0.9769345\tbest: 0.9776786 (109)\ttotal: 51.4s\tremaining: 5m 44s\n",
      "130:\tlearn: 0.9873512\ttest: 0.9769345\tbest: 0.9776786 (109)\ttotal: 51.8s\tremaining: 5m 43s\n",
      "131:\tlearn: 0.9875992\ttest: 0.9769345\tbest: 0.9776786 (109)\ttotal: 52.4s\tremaining: 5m 44s\n",
      "132:\tlearn: 0.9878472\ttest: 0.9776786\tbest: 0.9776786 (109)\ttotal: 52.9s\tremaining: 5m 44s\n",
      "133:\tlearn: 0.9877646\ttest: 0.9784226\tbest: 0.9784226 (133)\ttotal: 53.3s\tremaining: 5m 44s\n",
      "134:\tlearn: 0.9879299\ttest: 0.9791667\tbest: 0.9791667 (134)\ttotal: 53.6s\tremaining: 5m 43s\n",
      "135:\tlearn: 0.9880126\ttest: 0.9791667\tbest: 0.9791667 (134)\ttotal: 54s\tremaining: 5m 43s\n",
      "136:\tlearn: 0.9880952\ttest: 0.9784226\tbest: 0.9791667 (134)\ttotal: 54.4s\tremaining: 5m 42s\n",
      "137:\tlearn: 0.9881779\ttest: 0.9784226\tbest: 0.9791667 (134)\ttotal: 54.8s\tremaining: 5m 42s\n",
      "138:\tlearn: 0.9881779\ttest: 0.9784226\tbest: 0.9791667 (134)\ttotal: 55.1s\tremaining: 5m 41s\n",
      "139:\tlearn: 0.9882606\ttest: 0.9784226\tbest: 0.9791667 (134)\ttotal: 55.5s\tremaining: 5m 40s\n",
      "140:\tlearn: 0.9881779\ttest: 0.9784226\tbest: 0.9791667 (134)\ttotal: 55.9s\tremaining: 5m 40s\n",
      "141:\tlearn: 0.9882606\ttest: 0.9784226\tbest: 0.9791667 (134)\ttotal: 56.2s\tremaining: 5m 39s\n",
      "142:\tlearn: 0.9884259\ttest: 0.9799107\tbest: 0.9799107 (142)\ttotal: 56.6s\tremaining: 5m 39s\n",
      "143:\tlearn: 0.9884259\ttest: 0.9799107\tbest: 0.9799107 (142)\ttotal: 57s\tremaining: 5m 38s\n",
      "144:\tlearn: 0.9886739\ttest: 0.9799107\tbest: 0.9799107 (142)\ttotal: 57.4s\tremaining: 5m 38s\n",
      "145:\tlearn: 0.9888393\ttest: 0.9799107\tbest: 0.9799107 (142)\ttotal: 57.7s\tremaining: 5m 37s\n",
      "146:\tlearn: 0.9891700\ttest: 0.9791667\tbest: 0.9799107 (142)\ttotal: 58.1s\tremaining: 5m 37s\n",
      "147:\tlearn: 0.9891700\ttest: 0.9791667\tbest: 0.9799107 (142)\ttotal: 58.5s\tremaining: 5m 36s\n",
      "148:\tlearn: 0.9890873\ttest: 0.9791667\tbest: 0.9799107 (142)\ttotal: 58.9s\tremaining: 5m 36s\n",
      "149:\tlearn: 0.9891700\ttest: 0.9799107\tbest: 0.9799107 (142)\ttotal: 59.2s\tremaining: 5m 35s\n",
      "150:\tlearn: 0.9895007\ttest: 0.9791667\tbest: 0.9799107 (142)\ttotal: 59.6s\tremaining: 5m 35s\n",
      "151:\tlearn: 0.9895007\ttest: 0.9799107\tbest: 0.9799107 (142)\ttotal: 60s\tremaining: 5m 34s\n",
      "152:\tlearn: 0.9897487\ttest: 0.9799107\tbest: 0.9799107 (142)\ttotal: 1m\tremaining: 5m 34s\n",
      "153:\tlearn: 0.9899140\ttest: 0.9791667\tbest: 0.9799107 (142)\ttotal: 1m\tremaining: 5m 34s\n",
      "154:\tlearn: 0.9899140\ttest: 0.9791667\tbest: 0.9799107 (142)\ttotal: 1m 1s\tremaining: 5m 33s\n",
      "155:\tlearn: 0.9899140\ttest: 0.9799107\tbest: 0.9799107 (142)\ttotal: 1m 1s\tremaining: 5m 33s\n",
      "156:\tlearn: 0.9899140\ttest: 0.9799107\tbest: 0.9799107 (142)\ttotal: 1m 1s\tremaining: 5m 32s\n",
      "157:\tlearn: 0.9899140\ttest: 0.9799107\tbest: 0.9799107 (142)\ttotal: 1m 2s\tremaining: 5m 32s\n",
      "158:\tlearn: 0.9898313\ttest: 0.9799107\tbest: 0.9799107 (142)\ttotal: 1m 2s\tremaining: 5m 31s\n",
      "159:\tlearn: 0.9899967\ttest: 0.9799107\tbest: 0.9799107 (142)\ttotal: 1m 3s\tremaining: 5m 32s\n",
      "160:\tlearn: 0.9900794\ttest: 0.9799107\tbest: 0.9799107 (142)\ttotal: 1m 3s\tremaining: 5m 32s\n",
      "161:\tlearn: 0.9901620\ttest: 0.9799107\tbest: 0.9799107 (142)\ttotal: 1m 4s\tremaining: 5m 31s\n",
      "162:\tlearn: 0.9902447\ttest: 0.9799107\tbest: 0.9799107 (142)\ttotal: 1m 4s\tremaining: 5m 31s\n",
      "163:\tlearn: 0.9903274\ttest: 0.9799107\tbest: 0.9799107 (142)\ttotal: 1m 4s\tremaining: 5m 30s\n",
      "164:\tlearn: 0.9904101\ttest: 0.9799107\tbest: 0.9799107 (142)\ttotal: 1m 5s\tremaining: 5m 30s\n",
      "165:\tlearn: 0.9904101\ttest: 0.9799107\tbest: 0.9799107 (142)\ttotal: 1m 5s\tremaining: 5m 29s\n",
      "166:\tlearn: 0.9905754\ttest: 0.9799107\tbest: 0.9799107 (142)\ttotal: 1m 6s\tremaining: 5m 29s\n",
      "167:\tlearn: 0.9905754\ttest: 0.9799107\tbest: 0.9799107 (142)\ttotal: 1m 6s\tremaining: 5m 28s\n",
      "168:\tlearn: 0.9905754\ttest: 0.9799107\tbest: 0.9799107 (142)\ttotal: 1m 6s\tremaining: 5m 28s\n",
      "169:\tlearn: 0.9905754\ttest: 0.9799107\tbest: 0.9799107 (142)\ttotal: 1m 7s\tremaining: 5m 27s\n",
      "170:\tlearn: 0.9905754\ttest: 0.9799107\tbest: 0.9799107 (142)\ttotal: 1m 7s\tremaining: 5m 27s\n",
      "171:\tlearn: 0.9907407\ttest: 0.9799107\tbest: 0.9799107 (142)\ttotal: 1m 7s\tremaining: 5m 26s\n",
      "172:\tlearn: 0.9907407\ttest: 0.9799107\tbest: 0.9799107 (142)\ttotal: 1m 8s\tremaining: 5m 26s\n",
      "173:\tlearn: 0.9909888\ttest: 0.9799107\tbest: 0.9799107 (142)\ttotal: 1m 8s\tremaining: 5m 25s\n",
      "174:\tlearn: 0.9909888\ttest: 0.9806548\tbest: 0.9806548 (174)\ttotal: 1m 9s\tremaining: 5m 25s\n",
      "175:\tlearn: 0.9909888\ttest: 0.9806548\tbest: 0.9806548 (174)\ttotal: 1m 9s\tremaining: 5m 24s\n",
      "176:\tlearn: 0.9909888\ttest: 0.9806548\tbest: 0.9806548 (174)\ttotal: 1m 9s\tremaining: 5m 24s\n",
      "177:\tlearn: 0.9910714\ttest: 0.9806548\tbest: 0.9806548 (174)\ttotal: 1m 10s\tremaining: 5m 23s\n",
      "178:\tlearn: 0.9909888\ttest: 0.9799107\tbest: 0.9806548 (174)\ttotal: 1m 10s\tremaining: 5m 23s\n",
      "179:\tlearn: 0.9909061\ttest: 0.9806548\tbest: 0.9806548 (174)\ttotal: 1m 10s\tremaining: 5m 23s\n",
      "180:\tlearn: 0.9911541\ttest: 0.9806548\tbest: 0.9806548 (174)\ttotal: 1m 11s\tremaining: 5m 22s\n",
      "181:\tlearn: 0.9911541\ttest: 0.9806548\tbest: 0.9806548 (174)\ttotal: 1m 11s\tremaining: 5m 22s\n",
      "182:\tlearn: 0.9912368\ttest: 0.9799107\tbest: 0.9806548 (174)\ttotal: 1m 12s\tremaining: 5m 21s\n",
      "183:\tlearn: 0.9914021\ttest: 0.9799107\tbest: 0.9806548 (174)\ttotal: 1m 12s\tremaining: 5m 21s\n",
      "184:\tlearn: 0.9914021\ttest: 0.9799107\tbest: 0.9806548 (174)\ttotal: 1m 12s\tremaining: 5m 20s\n",
      "185:\tlearn: 0.9914021\ttest: 0.9799107\tbest: 0.9806548 (174)\ttotal: 1m 13s\tremaining: 5m 20s\n",
      "186:\tlearn: 0.9915675\ttest: 0.9799107\tbest: 0.9806548 (174)\ttotal: 1m 13s\tremaining: 5m 19s\n",
      "187:\tlearn: 0.9916501\ttest: 0.9799107\tbest: 0.9806548 (174)\ttotal: 1m 13s\tremaining: 5m 19s\n",
      "188:\tlearn: 0.9916501\ttest: 0.9799107\tbest: 0.9806548 (174)\ttotal: 1m 14s\tremaining: 5m 20s\n",
      "189:\tlearn: 0.9916501\ttest: 0.9806548\tbest: 0.9806548 (174)\ttotal: 1m 14s\tremaining: 5m 19s\n",
      "190:\tlearn: 0.9916501\ttest: 0.9799107\tbest: 0.9806548 (174)\ttotal: 1m 15s\tremaining: 5m 19s\n",
      "191:\tlearn: 0.9917328\ttest: 0.9799107\tbest: 0.9806548 (174)\ttotal: 1m 15s\tremaining: 5m 18s\n",
      "192:\tlearn: 0.9915675\ttest: 0.9799107\tbest: 0.9806548 (174)\ttotal: 1m 16s\tremaining: 5m 18s\n",
      "193:\tlearn: 0.9915675\ttest: 0.9806548\tbest: 0.9806548 (174)\ttotal: 1m 16s\tremaining: 5m 17s\n",
      "194:\tlearn: 0.9915675\ttest: 0.9799107\tbest: 0.9806548 (174)\ttotal: 1m 16s\tremaining: 5m 17s\n",
      "195:\tlearn: 0.9918155\ttest: 0.9799107\tbest: 0.9806548 (174)\ttotal: 1m 17s\tremaining: 5m 16s\n",
      "196:\tlearn: 0.9918981\ttest: 0.9806548\tbest: 0.9806548 (174)\ttotal: 1m 17s\tremaining: 5m 16s\n",
      "197:\tlearn: 0.9918981\ttest: 0.9799107\tbest: 0.9806548 (174)\ttotal: 1m 17s\tremaining: 5m 15s\n",
      "198:\tlearn: 0.9918981\ttest: 0.9813988\tbest: 0.9813988 (198)\ttotal: 1m 18s\tremaining: 5m 15s\n",
      "199:\tlearn: 0.9919808\ttest: 0.9813988\tbest: 0.9813988 (198)\ttotal: 1m 18s\tremaining: 5m 15s\n",
      "200:\tlearn: 0.9918155\ttest: 0.9813988\tbest: 0.9813988 (198)\ttotal: 1m 19s\tremaining: 5m 14s\n",
      "201:\tlearn: 0.9918981\ttest: 0.9813988\tbest: 0.9813988 (198)\ttotal: 1m 19s\tremaining: 5m 14s\n",
      "202:\tlearn: 0.9921462\ttest: 0.9813988\tbest: 0.9813988 (198)\ttotal: 1m 19s\tremaining: 5m 13s\n",
      "203:\tlearn: 0.9923115\ttest: 0.9806548\tbest: 0.9813988 (198)\ttotal: 1m 20s\tremaining: 5m 13s\n",
      "204:\tlearn: 0.9923115\ttest: 0.9806548\tbest: 0.9813988 (198)\ttotal: 1m 20s\tremaining: 5m 12s\n",
      "205:\tlearn: 0.9923942\ttest: 0.9813988\tbest: 0.9813988 (198)\ttotal: 1m 21s\tremaining: 5m 12s\n",
      "206:\tlearn: 0.9924769\ttest: 0.9813988\tbest: 0.9813988 (198)\ttotal: 1m 21s\tremaining: 5m 11s\n",
      "207:\tlearn: 0.9925595\ttest: 0.9821429\tbest: 0.9821429 (207)\ttotal: 1m 21s\tremaining: 5m 11s\n",
      "208:\tlearn: 0.9926422\ttest: 0.9821429\tbest: 0.9821429 (207)\ttotal: 1m 22s\tremaining: 5m 12s\n",
      "209:\tlearn: 0.9927249\ttest: 0.9821429\tbest: 0.9821429 (207)\ttotal: 1m 23s\tremaining: 5m 12s\n",
      "210:\tlearn: 0.9926422\ttest: 0.9821429\tbest: 0.9821429 (207)\ttotal: 1m 23s\tremaining: 5m 12s\n",
      "211:\tlearn: 0.9927249\ttest: 0.9821429\tbest: 0.9821429 (207)\ttotal: 1m 23s\tremaining: 5m 11s\n",
      "212:\tlearn: 0.9926422\ttest: 0.9821429\tbest: 0.9821429 (207)\ttotal: 1m 24s\tremaining: 5m 11s\n",
      "213:\tlearn: 0.9926422\ttest: 0.9821429\tbest: 0.9821429 (207)\ttotal: 1m 24s\tremaining: 5m 11s\n",
      "214:\tlearn: 0.9928075\ttest: 0.9821429\tbest: 0.9821429 (207)\ttotal: 1m 25s\tremaining: 5m 11s\n",
      "215:\tlearn: 0.9928902\ttest: 0.9821429\tbest: 0.9821429 (207)\ttotal: 1m 25s\tremaining: 5m 11s\n",
      "216:\tlearn: 0.9927249\ttest: 0.9821429\tbest: 0.9821429 (207)\ttotal: 1m 26s\tremaining: 5m 10s\n",
      "217:\tlearn: 0.9928902\ttest: 0.9813988\tbest: 0.9821429 (207)\ttotal: 1m 26s\tremaining: 5m 10s\n",
      "218:\tlearn: 0.9929729\ttest: 0.9821429\tbest: 0.9821429 (207)\ttotal: 1m 26s\tremaining: 5m 9s\n",
      "219:\tlearn: 0.9930556\ttest: 0.9821429\tbest: 0.9821429 (207)\ttotal: 1m 27s\tremaining: 5m 9s\n",
      "220:\tlearn: 0.9929729\ttest: 0.9821429\tbest: 0.9821429 (207)\ttotal: 1m 27s\tremaining: 5m 8s\n",
      "221:\tlearn: 0.9930556\ttest: 0.9821429\tbest: 0.9821429 (207)\ttotal: 1m 27s\tremaining: 5m 8s\n",
      "222:\tlearn: 0.9931382\ttest: 0.9813988\tbest: 0.9821429 (207)\ttotal: 1m 28s\tremaining: 5m 7s\n",
      "223:\tlearn: 0.9932209\ttest: 0.9813988\tbest: 0.9821429 (207)\ttotal: 1m 28s\tremaining: 5m 7s\n",
      "224:\tlearn: 0.9931382\ttest: 0.9821429\tbest: 0.9821429 (207)\ttotal: 1m 29s\tremaining: 5m 6s\n",
      "225:\tlearn: 0.9931382\ttest: 0.9821429\tbest: 0.9821429 (207)\ttotal: 1m 29s\tremaining: 5m 6s\n",
      "226:\tlearn: 0.9933036\ttest: 0.9821429\tbest: 0.9821429 (207)\ttotal: 1m 29s\tremaining: 5m 5s\n",
      "227:\tlearn: 0.9933862\ttest: 0.9821429\tbest: 0.9821429 (207)\ttotal: 1m 30s\tremaining: 5m 5s\n",
      "228:\tlearn: 0.9933862\ttest: 0.9828869\tbest: 0.9828869 (228)\ttotal: 1m 30s\tremaining: 5m 4s\n",
      "229:\tlearn: 0.9934689\ttest: 0.9813988\tbest: 0.9828869 (228)\ttotal: 1m 30s\tremaining: 5m 4s\n",
      "230:\tlearn: 0.9935516\ttest: 0.9821429\tbest: 0.9828869 (228)\ttotal: 1m 31s\tremaining: 5m 4s\n",
      "231:\tlearn: 0.9933862\ttest: 0.9821429\tbest: 0.9828869 (228)\ttotal: 1m 31s\tremaining: 5m 3s\n",
      "232:\tlearn: 0.9934689\ttest: 0.9821429\tbest: 0.9828869 (228)\ttotal: 1m 32s\tremaining: 5m 3s\n",
      "233:\tlearn: 0.9933862\ttest: 0.9821429\tbest: 0.9828869 (228)\ttotal: 1m 32s\tremaining: 5m 3s\n",
      "234:\tlearn: 0.9935516\ttest: 0.9828869\tbest: 0.9828869 (228)\ttotal: 1m 32s\tremaining: 5m 2s\n",
      "235:\tlearn: 0.9935516\ttest: 0.9828869\tbest: 0.9828869 (228)\ttotal: 1m 33s\tremaining: 5m 2s\n",
      "236:\tlearn: 0.9936343\ttest: 0.9821429\tbest: 0.9828869 (228)\ttotal: 1m 33s\tremaining: 5m 1s\n",
      "237:\tlearn: 0.9936343\ttest: 0.9821429\tbest: 0.9828869 (228)\ttotal: 1m 34s\tremaining: 5m 1s\n",
      "238:\tlearn: 0.9937169\ttest: 0.9821429\tbest: 0.9828869 (228)\ttotal: 1m 34s\tremaining: 5m\n",
      "239:\tlearn: 0.9937169\ttest: 0.9828869\tbest: 0.9828869 (228)\ttotal: 1m 34s\tremaining: 5m\n",
      "240:\tlearn: 0.9937996\ttest: 0.9828869\tbest: 0.9828869 (228)\ttotal: 1m 35s\tremaining: 4m 59s\n",
      "241:\tlearn: 0.9937996\ttest: 0.9828869\tbest: 0.9828869 (228)\ttotal: 1m 35s\tremaining: 4m 59s\n",
      "242:\tlearn: 0.9937996\ttest: 0.9828869\tbest: 0.9828869 (228)\ttotal: 1m 36s\tremaining: 4m 59s\n",
      "243:\tlearn: 0.9937996\ttest: 0.9828869\tbest: 0.9828869 (228)\ttotal: 1m 36s\tremaining: 4m 59s\n",
      "244:\tlearn: 0.9938823\ttest: 0.9828869\tbest: 0.9828869 (228)\ttotal: 1m 37s\tremaining: 4m 59s\n",
      "245:\tlearn: 0.9937996\ttest: 0.9828869\tbest: 0.9828869 (228)\ttotal: 1m 37s\tremaining: 4m 58s\n",
      "246:\tlearn: 0.9939649\ttest: 0.9828869\tbest: 0.9828869 (228)\ttotal: 1m 37s\tremaining: 4m 58s\n",
      "247:\tlearn: 0.9939649\ttest: 0.9828869\tbest: 0.9828869 (228)\ttotal: 1m 38s\tremaining: 4m 57s\n",
      "248:\tlearn: 0.9940476\ttest: 0.9828869\tbest: 0.9828869 (228)\ttotal: 1m 38s\tremaining: 4m 57s\n",
      "249:\tlearn: 0.9939649\ttest: 0.9828869\tbest: 0.9828869 (228)\ttotal: 1m 38s\tremaining: 4m 56s\n",
      "250:\tlearn: 0.9939649\ttest: 0.9828869\tbest: 0.9828869 (228)\ttotal: 1m 39s\tremaining: 4m 56s\n",
      "251:\tlearn: 0.9939649\ttest: 0.9828869\tbest: 0.9828869 (228)\ttotal: 1m 39s\tremaining: 4m 55s\n",
      "252:\tlearn: 0.9939649\ttest: 0.9828869\tbest: 0.9828869 (228)\ttotal: 1m 40s\tremaining: 4m 55s\n",
      "253:\tlearn: 0.9940476\ttest: 0.9828869\tbest: 0.9828869 (228)\ttotal: 1m 40s\tremaining: 4m 55s\n",
      "254:\tlearn: 0.9942130\ttest: 0.9836310\tbest: 0.9836310 (254)\ttotal: 1m 40s\tremaining: 4m 54s\n",
      "255:\tlearn: 0.9941303\ttest: 0.9836310\tbest: 0.9836310 (254)\ttotal: 1m 41s\tremaining: 4m 54s\n",
      "256:\tlearn: 0.9941303\ttest: 0.9836310\tbest: 0.9836310 (254)\ttotal: 1m 41s\tremaining: 4m 53s\n",
      "257:\tlearn: 0.9942956\ttest: 0.9836310\tbest: 0.9836310 (254)\ttotal: 1m 41s\tremaining: 4m 53s\n",
      "258:\tlearn: 0.9943783\ttest: 0.9836310\tbest: 0.9836310 (254)\ttotal: 1m 42s\tremaining: 4m 52s\n",
      "259:\tlearn: 0.9943783\ttest: 0.9836310\tbest: 0.9836310 (254)\ttotal: 1m 42s\tremaining: 4m 52s\n",
      "260:\tlearn: 0.9943783\ttest: 0.9836310\tbest: 0.9836310 (254)\ttotal: 1m 43s\tremaining: 4m 52s\n",
      "261:\tlearn: 0.9944610\ttest: 0.9836310\tbest: 0.9836310 (254)\ttotal: 1m 43s\tremaining: 4m 51s\n",
      "262:\tlearn: 0.9944610\ttest: 0.9836310\tbest: 0.9836310 (254)\ttotal: 1m 44s\tremaining: 4m 51s\n",
      "263:\tlearn: 0.9945437\ttest: 0.9836310\tbest: 0.9836310 (254)\ttotal: 1m 44s\tremaining: 4m 51s\n",
      "264:\tlearn: 0.9946263\ttest: 0.9836310\tbest: 0.9836310 (254)\ttotal: 1m 44s\tremaining: 4m 51s\n",
      "265:\tlearn: 0.9947090\ttest: 0.9836310\tbest: 0.9836310 (254)\ttotal: 1m 45s\tremaining: 4m 50s\n",
      "266:\tlearn: 0.9947917\ttest: 0.9836310\tbest: 0.9836310 (254)\ttotal: 1m 45s\tremaining: 4m 50s\n",
      "267:\tlearn: 0.9949570\ttest: 0.9836310\tbest: 0.9836310 (254)\ttotal: 1m 46s\tremaining: 4m 49s\n",
      "268:\tlearn: 0.9948743\ttest: 0.9836310\tbest: 0.9836310 (254)\ttotal: 1m 46s\tremaining: 4m 49s\n",
      "269:\tlearn: 0.9949570\ttest: 0.9836310\tbest: 0.9836310 (254)\ttotal: 1m 46s\tremaining: 4m 48s\n",
      "270:\tlearn: 0.9950397\ttest: 0.9836310\tbest: 0.9836310 (254)\ttotal: 1m 47s\tremaining: 4m 49s\n",
      "271:\tlearn: 0.9950397\ttest: 0.9836310\tbest: 0.9836310 (254)\ttotal: 1m 47s\tremaining: 4m 48s\n",
      "272:\tlearn: 0.9950397\ttest: 0.9836310\tbest: 0.9836310 (254)\ttotal: 1m 48s\tremaining: 4m 48s\n",
      "273:\tlearn: 0.9951224\ttest: 0.9836310\tbest: 0.9836310 (254)\ttotal: 1m 48s\tremaining: 4m 47s\n",
      "274:\tlearn: 0.9950397\ttest: 0.9836310\tbest: 0.9836310 (254)\ttotal: 1m 49s\tremaining: 4m 47s\n",
      "275:\tlearn: 0.9951224\ttest: 0.9836310\tbest: 0.9836310 (254)\ttotal: 1m 49s\tremaining: 4m 46s\n",
      "276:\tlearn: 0.9950397\ttest: 0.9836310\tbest: 0.9836310 (254)\ttotal: 1m 49s\tremaining: 4m 46s\n",
      "277:\tlearn: 0.9953704\ttest: 0.9836310\tbest: 0.9836310 (254)\ttotal: 1m 50s\tremaining: 4m 46s\n",
      "278:\tlearn: 0.9953704\ttest: 0.9836310\tbest: 0.9836310 (254)\ttotal: 1m 50s\tremaining: 4m 45s\n",
      "279:\tlearn: 0.9953704\ttest: 0.9836310\tbest: 0.9836310 (254)\ttotal: 1m 50s\tremaining: 4m 45s\n",
      "280:\tlearn: 0.9953704\ttest: 0.9836310\tbest: 0.9836310 (254)\ttotal: 1m 51s\tremaining: 4m 44s\n",
      "281:\tlearn: 0.9953704\ttest: 0.9836310\tbest: 0.9836310 (254)\ttotal: 1m 51s\tremaining: 4m 44s\n",
      "282:\tlearn: 0.9953704\ttest: 0.9836310\tbest: 0.9836310 (254)\ttotal: 1m 52s\tremaining: 4m 43s\n",
      "283:\tlearn: 0.9952877\ttest: 0.9836310\tbest: 0.9836310 (254)\ttotal: 1m 52s\tremaining: 4m 43s\n",
      "284:\tlearn: 0.9954530\ttest: 0.9836310\tbest: 0.9836310 (254)\ttotal: 1m 52s\tremaining: 4m 42s\n",
      "285:\tlearn: 0.9954530\ttest: 0.9836310\tbest: 0.9836310 (254)\ttotal: 1m 53s\tremaining: 4m 42s\n",
      "286:\tlearn: 0.9954530\ttest: 0.9836310\tbest: 0.9836310 (254)\ttotal: 1m 53s\tremaining: 4m 42s\n",
      "287:\tlearn: 0.9954530\ttest: 0.9836310\tbest: 0.9836310 (254)\ttotal: 1m 54s\tremaining: 4m 41s\n",
      "288:\tlearn: 0.9954530\ttest: 0.9836310\tbest: 0.9836310 (254)\ttotal: 1m 54s\tremaining: 4m 41s\n",
      "289:\tlearn: 0.9954530\ttest: 0.9836310\tbest: 0.9836310 (254)\ttotal: 1m 55s\tremaining: 4m 42s\n",
      "290:\tlearn: 0.9955357\ttest: 0.9836310\tbest: 0.9836310 (254)\ttotal: 1m 55s\tremaining: 4m 41s\n",
      "291:\tlearn: 0.9956184\ttest: 0.9836310\tbest: 0.9836310 (254)\ttotal: 1m 55s\tremaining: 4m 41s\n",
      "292:\tlearn: 0.9956184\ttest: 0.9836310\tbest: 0.9836310 (254)\ttotal: 1m 56s\tremaining: 4m 40s\n",
      "293:\tlearn: 0.9956184\ttest: 0.9836310\tbest: 0.9836310 (254)\ttotal: 1m 56s\tremaining: 4m 40s\n",
      "294:\tlearn: 0.9956184\ttest: 0.9836310\tbest: 0.9836310 (254)\ttotal: 1m 57s\tremaining: 4m 39s\n",
      "295:\tlearn: 0.9956184\ttest: 0.9836310\tbest: 0.9836310 (254)\ttotal: 1m 57s\tremaining: 4m 39s\n",
      "296:\tlearn: 0.9956184\ttest: 0.9836310\tbest: 0.9836310 (254)\ttotal: 1m 57s\tremaining: 4m 38s\n",
      "297:\tlearn: 0.9956184\ttest: 0.9836310\tbest: 0.9836310 (254)\ttotal: 1m 58s\tremaining: 4m 39s\n",
      "298:\tlearn: 0.9957011\ttest: 0.9836310\tbest: 0.9836310 (254)\ttotal: 1m 58s\tremaining: 4m 38s\n",
      "299:\tlearn: 0.9957011\ttest: 0.9836310\tbest: 0.9836310 (254)\ttotal: 1m 59s\tremaining: 4m 38s\n",
      "300:\tlearn: 0.9957837\ttest: 0.9836310\tbest: 0.9836310 (254)\ttotal: 1m 59s\tremaining: 4m 37s\n",
      "301:\tlearn: 0.9958664\ttest: 0.9836310\tbest: 0.9836310 (254)\ttotal: 2m\tremaining: 4m 37s\n",
      "302:\tlearn: 0.9958664\ttest: 0.9836310\tbest: 0.9836310 (254)\ttotal: 2m\tremaining: 4m 37s\n",
      "303:\tlearn: 0.9958664\ttest: 0.9836310\tbest: 0.9836310 (254)\ttotal: 2m\tremaining: 4m 36s\n",
      "304:\tlearn: 0.9958664\ttest: 0.9836310\tbest: 0.9836310 (254)\ttotal: 2m 1s\tremaining: 4m 36s\n",
      "305:\tlearn: 0.9959491\ttest: 0.9836310\tbest: 0.9836310 (254)\ttotal: 2m 1s\tremaining: 4m 35s\n",
      "306:\tlearn: 0.9959491\ttest: 0.9836310\tbest: 0.9836310 (254)\ttotal: 2m 2s\tremaining: 4m 35s\n",
      "307:\tlearn: 0.9959491\ttest: 0.9836310\tbest: 0.9836310 (254)\ttotal: 2m 2s\tremaining: 4m 35s\n",
      "308:\tlearn: 0.9959491\ttest: 0.9836310\tbest: 0.9836310 (254)\ttotal: 2m 2s\tremaining: 4m 34s\n",
      "309:\tlearn: 0.9959491\ttest: 0.9836310\tbest: 0.9836310 (254)\ttotal: 2m 3s\tremaining: 4m 34s\n",
      "310:\tlearn: 0.9959491\ttest: 0.9836310\tbest: 0.9836310 (254)\ttotal: 2m 3s\tremaining: 4m 33s\n",
      "311:\tlearn: 0.9959491\ttest: 0.9836310\tbest: 0.9836310 (254)\ttotal: 2m 3s\tremaining: 4m 33s\n",
      "312:\tlearn: 0.9961144\ttest: 0.9836310\tbest: 0.9836310 (254)\ttotal: 2m 4s\tremaining: 4m 32s\n",
      "313:\tlearn: 0.9961144\ttest: 0.9836310\tbest: 0.9836310 (254)\ttotal: 2m 4s\tremaining: 4m 32s\n",
      "314:\tlearn: 0.9962798\ttest: 0.9836310\tbest: 0.9836310 (254)\ttotal: 2m 5s\tremaining: 4m 31s\n",
      "315:\tlearn: 0.9964451\ttest: 0.9836310\tbest: 0.9836310 (254)\ttotal: 2m 5s\tremaining: 4m 31s\n",
      "316:\tlearn: 0.9965278\ttest: 0.9836310\tbest: 0.9836310 (254)\ttotal: 2m 5s\tremaining: 4m 31s\n",
      "317:\tlearn: 0.9965278\ttest: 0.9836310\tbest: 0.9836310 (254)\ttotal: 2m 6s\tremaining: 4m 30s\n",
      "318:\tlearn: 0.9965278\ttest: 0.9843750\tbest: 0.9843750 (318)\ttotal: 2m 6s\tremaining: 4m 30s\n",
      "319:\tlearn: 0.9964451\ttest: 0.9836310\tbest: 0.9843750 (318)\ttotal: 2m 6s\tremaining: 4m 29s\n",
      "320:\tlearn: 0.9965278\ttest: 0.9836310\tbest: 0.9843750 (318)\ttotal: 2m 7s\tremaining: 4m 29s\n",
      "321:\tlearn: 0.9965278\ttest: 0.9843750\tbest: 0.9843750 (318)\ttotal: 2m 7s\tremaining: 4m 28s\n",
      "322:\tlearn: 0.9965278\ttest: 0.9843750\tbest: 0.9843750 (318)\ttotal: 2m 8s\tremaining: 4m 28s\n",
      "323:\tlearn: 0.9966104\ttest: 0.9843750\tbest: 0.9843750 (318)\ttotal: 2m 8s\tremaining: 4m 28s\n",
      "324:\tlearn: 0.9966104\ttest: 0.9836310\tbest: 0.9843750 (318)\ttotal: 2m 8s\tremaining: 4m 27s\n",
      "325:\tlearn: 0.9966931\ttest: 0.9836310\tbest: 0.9843750 (318)\ttotal: 2m 9s\tremaining: 4m 27s\n",
      "326:\tlearn: 0.9966931\ttest: 0.9851190\tbest: 0.9851190 (326)\ttotal: 2m 9s\tremaining: 4m 27s\n",
      "327:\tlearn: 0.9966931\ttest: 0.9836310\tbest: 0.9851190 (326)\ttotal: 2m 10s\tremaining: 4m 26s\n",
      "328:\tlearn: 0.9971065\ttest: 0.9828869\tbest: 0.9851190 (326)\ttotal: 2m 10s\tremaining: 4m 26s\n",
      "329:\tlearn: 0.9970238\ttest: 0.9828869\tbest: 0.9851190 (326)\ttotal: 2m 11s\tremaining: 4m 26s\n",
      "330:\tlearn: 0.9970238\ttest: 0.9828869\tbest: 0.9851190 (326)\ttotal: 2m 11s\tremaining: 4m 25s\n",
      "331:\tlearn: 0.9970238\ttest: 0.9843750\tbest: 0.9851190 (326)\ttotal: 2m 11s\tremaining: 4m 25s\n",
      "332:\tlearn: 0.9970238\ttest: 0.9843750\tbest: 0.9851190 (326)\ttotal: 2m 12s\tremaining: 4m 24s\n",
      "333:\tlearn: 0.9970238\ttest: 0.9851190\tbest: 0.9851190 (326)\ttotal: 2m 12s\tremaining: 4m 24s\n",
      "334:\tlearn: 0.9970238\ttest: 0.9843750\tbest: 0.9851190 (326)\ttotal: 2m 12s\tremaining: 4m 23s\n",
      "335:\tlearn: 0.9971892\ttest: 0.9843750\tbest: 0.9851190 (326)\ttotal: 2m 13s\tremaining: 4m 23s\n",
      "336:\tlearn: 0.9971892\ttest: 0.9851190\tbest: 0.9851190 (326)\ttotal: 2m 13s\tremaining: 4m 23s\n",
      "337:\tlearn: 0.9971892\ttest: 0.9843750\tbest: 0.9851190 (326)\ttotal: 2m 14s\tremaining: 4m 22s\n",
      "338:\tlearn: 0.9971892\ttest: 0.9843750\tbest: 0.9851190 (326)\ttotal: 2m 14s\tremaining: 4m 22s\n",
      "339:\tlearn: 0.9971892\ttest: 0.9843750\tbest: 0.9851190 (326)\ttotal: 2m 14s\tremaining: 4m 21s\n",
      "340:\tlearn: 0.9971892\ttest: 0.9843750\tbest: 0.9851190 (326)\ttotal: 2m 15s\tremaining: 4m 21s\n",
      "341:\tlearn: 0.9971892\ttest: 0.9836310\tbest: 0.9851190 (326)\ttotal: 2m 15s\tremaining: 4m 20s\n",
      "342:\tlearn: 0.9972718\ttest: 0.9843750\tbest: 0.9851190 (326)\ttotal: 2m 15s\tremaining: 4m 20s\n",
      "343:\tlearn: 0.9972718\ttest: 0.9843750\tbest: 0.9851190 (326)\ttotal: 2m 16s\tremaining: 4m 20s\n",
      "344:\tlearn: 0.9972718\ttest: 0.9843750\tbest: 0.9851190 (326)\ttotal: 2m 16s\tremaining: 4m 19s\n",
      "345:\tlearn: 0.9972718\ttest: 0.9851190\tbest: 0.9851190 (326)\ttotal: 2m 17s\tremaining: 4m 19s\n",
      "346:\tlearn: 0.9973545\ttest: 0.9851190\tbest: 0.9851190 (326)\ttotal: 2m 17s\tremaining: 4m 18s\n",
      "347:\tlearn: 0.9973545\ttest: 0.9851190\tbest: 0.9851190 (326)\ttotal: 2m 17s\tremaining: 4m 18s\n",
      "348:\tlearn: 0.9973545\ttest: 0.9843750\tbest: 0.9851190 (326)\ttotal: 2m 18s\tremaining: 4m 17s\n",
      "349:\tlearn: 0.9973545\ttest: 0.9851190\tbest: 0.9851190 (326)\ttotal: 2m 18s\tremaining: 4m 17s\n",
      "350:\tlearn: 0.9973545\ttest: 0.9851190\tbest: 0.9851190 (326)\ttotal: 2m 18s\tremaining: 4m 16s\n",
      "351:\tlearn: 0.9973545\ttest: 0.9843750\tbest: 0.9851190 (326)\ttotal: 2m 19s\tremaining: 4m 16s\n",
      "352:\tlearn: 0.9973545\ttest: 0.9843750\tbest: 0.9851190 (326)\ttotal: 2m 19s\tremaining: 4m 16s\n",
      "353:\tlearn: 0.9973545\ttest: 0.9843750\tbest: 0.9851190 (326)\ttotal: 2m 20s\tremaining: 4m 16s\n",
      "354:\tlearn: 0.9973545\ttest: 0.9843750\tbest: 0.9851190 (326)\ttotal: 2m 20s\tremaining: 4m 15s\n",
      "355:\tlearn: 0.9973545\ttest: 0.9843750\tbest: 0.9851190 (326)\ttotal: 2m 21s\tremaining: 4m 15s\n",
      "356:\tlearn: 0.9973545\ttest: 0.9843750\tbest: 0.9851190 (326)\ttotal: 2m 21s\tremaining: 4m 14s\n",
      "357:\tlearn: 0.9973545\ttest: 0.9843750\tbest: 0.9851190 (326)\ttotal: 2m 21s\tremaining: 4m 14s\n",
      "358:\tlearn: 0.9973545\ttest: 0.9843750\tbest: 0.9851190 (326)\ttotal: 2m 22s\tremaining: 4m 14s\n",
      "359:\tlearn: 0.9974372\ttest: 0.9843750\tbest: 0.9851190 (326)\ttotal: 2m 22s\tremaining: 4m 13s\n",
      "360:\tlearn: 0.9974372\ttest: 0.9843750\tbest: 0.9851190 (326)\ttotal: 2m 23s\tremaining: 4m 13s\n",
      "361:\tlearn: 0.9974372\ttest: 0.9843750\tbest: 0.9851190 (326)\ttotal: 2m 23s\tremaining: 4m 12s\n",
      "362:\tlearn: 0.9974372\ttest: 0.9843750\tbest: 0.9851190 (326)\ttotal: 2m 23s\tremaining: 4m 12s\n",
      "363:\tlearn: 0.9974372\ttest: 0.9843750\tbest: 0.9851190 (326)\ttotal: 2m 24s\tremaining: 4m 11s\n",
      "364:\tlearn: 0.9973545\ttest: 0.9843750\tbest: 0.9851190 (326)\ttotal: 2m 24s\tremaining: 4m 11s\n",
      "365:\tlearn: 0.9973545\ttest: 0.9843750\tbest: 0.9851190 (326)\ttotal: 2m 24s\tremaining: 4m 11s\n",
      "366:\tlearn: 0.9973545\ttest: 0.9843750\tbest: 0.9851190 (326)\ttotal: 2m 25s\tremaining: 4m 10s\n",
      "367:\tlearn: 0.9973545\ttest: 0.9843750\tbest: 0.9851190 (326)\ttotal: 2m 25s\tremaining: 4m 10s\n",
      "368:\tlearn: 0.9973545\ttest: 0.9843750\tbest: 0.9851190 (326)\ttotal: 2m 26s\tremaining: 4m 10s\n",
      "369:\tlearn: 0.9973545\ttest: 0.9843750\tbest: 0.9851190 (326)\ttotal: 2m 26s\tremaining: 4m 10s\n",
      "370:\tlearn: 0.9973545\ttest: 0.9851190\tbest: 0.9851190 (326)\ttotal: 2m 27s\tremaining: 4m 9s\n",
      "371:\tlearn: 0.9974372\ttest: 0.9851190\tbest: 0.9851190 (326)\ttotal: 2m 27s\tremaining: 4m 9s\n",
      "372:\tlearn: 0.9974372\ttest: 0.9851190\tbest: 0.9851190 (326)\ttotal: 2m 28s\tremaining: 4m 9s\n",
      "373:\tlearn: 0.9974372\ttest: 0.9851190\tbest: 0.9851190 (326)\ttotal: 2m 28s\tremaining: 4m 8s\n",
      "374:\tlearn: 0.9974372\ttest: 0.9851190\tbest: 0.9851190 (326)\ttotal: 2m 28s\tremaining: 4m 8s\n",
      "375:\tlearn: 0.9975198\ttest: 0.9851190\tbest: 0.9851190 (326)\ttotal: 2m 29s\tremaining: 4m 7s\n",
      "376:\tlearn: 0.9975198\ttest: 0.9851190\tbest: 0.9851190 (326)\ttotal: 2m 29s\tremaining: 4m 7s\n",
      "377:\tlearn: 0.9975198\ttest: 0.9851190\tbest: 0.9851190 (326)\ttotal: 2m 30s\tremaining: 4m 6s\n",
      "378:\tlearn: 0.9975198\ttest: 0.9851190\tbest: 0.9851190 (326)\ttotal: 2m 30s\tremaining: 4m 6s\n",
      "379:\tlearn: 0.9975198\ttest: 0.9851190\tbest: 0.9851190 (326)\ttotal: 2m 30s\tremaining: 4m 6s\n",
      "380:\tlearn: 0.9975198\ttest: 0.9843750\tbest: 0.9851190 (326)\ttotal: 2m 31s\tremaining: 4m 6s\n",
      "381:\tlearn: 0.9975198\ttest: 0.9843750\tbest: 0.9851190 (326)\ttotal: 2m 31s\tremaining: 4m 5s\n",
      "382:\tlearn: 0.9976025\ttest: 0.9843750\tbest: 0.9851190 (326)\ttotal: 2m 32s\tremaining: 4m 5s\n",
      "383:\tlearn: 0.9976025\ttest: 0.9843750\tbest: 0.9851190 (326)\ttotal: 2m 32s\tremaining: 4m 5s\n",
      "384:\tlearn: 0.9976025\ttest: 0.9843750\tbest: 0.9851190 (326)\ttotal: 2m 33s\tremaining: 4m 4s\n",
      "385:\tlearn: 0.9976025\ttest: 0.9843750\tbest: 0.9851190 (326)\ttotal: 2m 33s\tremaining: 4m 4s\n",
      "386:\tlearn: 0.9976025\ttest: 0.9843750\tbest: 0.9851190 (326)\ttotal: 2m 33s\tremaining: 4m 3s\n",
      "387:\tlearn: 0.9976025\ttest: 0.9843750\tbest: 0.9851190 (326)\ttotal: 2m 34s\tremaining: 4m 3s\n",
      "388:\tlearn: 0.9975198\ttest: 0.9843750\tbest: 0.9851190 (326)\ttotal: 2m 34s\tremaining: 4m 3s\n",
      "389:\tlearn: 0.9975198\ttest: 0.9843750\tbest: 0.9851190 (326)\ttotal: 2m 35s\tremaining: 4m 2s\n",
      "390:\tlearn: 0.9975198\ttest: 0.9843750\tbest: 0.9851190 (326)\ttotal: 2m 35s\tremaining: 4m 2s\n",
      "391:\tlearn: 0.9975198\ttest: 0.9843750\tbest: 0.9851190 (326)\ttotal: 2m 35s\tremaining: 4m 1s\n",
      "392:\tlearn: 0.9975198\ttest: 0.9851190\tbest: 0.9851190 (326)\ttotal: 2m 36s\tremaining: 4m 1s\n",
      "393:\tlearn: 0.9975198\ttest: 0.9851190\tbest: 0.9851190 (326)\ttotal: 2m 36s\tremaining: 4m\n",
      "394:\tlearn: 0.9976025\ttest: 0.9851190\tbest: 0.9851190 (326)\ttotal: 2m 36s\tremaining: 4m\n",
      "395:\tlearn: 0.9976025\ttest: 0.9843750\tbest: 0.9851190 (326)\ttotal: 2m 37s\tremaining: 4m\n",
      "396:\tlearn: 0.9976025\ttest: 0.9843750\tbest: 0.9851190 (326)\ttotal: 2m 37s\tremaining: 3m 59s\n",
      "397:\tlearn: 0.9976025\ttest: 0.9843750\tbest: 0.9851190 (326)\ttotal: 2m 38s\tremaining: 3m 59s\n",
      "398:\tlearn: 0.9976025\ttest: 0.9843750\tbest: 0.9851190 (326)\ttotal: 2m 38s\tremaining: 3m 58s\n",
      "399:\tlearn: 0.9976025\ttest: 0.9843750\tbest: 0.9851190 (326)\ttotal: 2m 38s\tremaining: 3m 58s\n",
      "400:\tlearn: 0.9976025\ttest: 0.9843750\tbest: 0.9851190 (326)\ttotal: 2m 39s\tremaining: 3m 57s\n",
      "401:\tlearn: 0.9976025\ttest: 0.9851190\tbest: 0.9851190 (326)\ttotal: 2m 39s\tremaining: 3m 57s\n",
      "402:\tlearn: 0.9976025\ttest: 0.9851190\tbest: 0.9851190 (326)\ttotal: 2m 40s\tremaining: 3m 57s\n",
      "403:\tlearn: 0.9976025\ttest: 0.9851190\tbest: 0.9851190 (326)\ttotal: 2m 40s\tremaining: 3m 56s\n",
      "404:\tlearn: 0.9976852\ttest: 0.9851190\tbest: 0.9851190 (326)\ttotal: 2m 40s\tremaining: 3m 56s\n",
      "405:\tlearn: 0.9976852\ttest: 0.9851190\tbest: 0.9851190 (326)\ttotal: 2m 41s\tremaining: 3m 55s\n",
      "406:\tlearn: 0.9976025\ttest: 0.9851190\tbest: 0.9851190 (326)\ttotal: 2m 41s\tremaining: 3m 55s\n",
      "407:\tlearn: 0.9976025\ttest: 0.9851190\tbest: 0.9851190 (326)\ttotal: 2m 42s\tremaining: 3m 55s\n",
      "408:\tlearn: 0.9976025\ttest: 0.9851190\tbest: 0.9851190 (326)\ttotal: 2m 42s\tremaining: 3m 55s\n",
      "409:\tlearn: 0.9976852\ttest: 0.9851190\tbest: 0.9851190 (326)\ttotal: 2m 43s\tremaining: 3m 54s\n",
      "410:\tlearn: 0.9977679\ttest: 0.9851190\tbest: 0.9851190 (326)\ttotal: 2m 43s\tremaining: 3m 54s\n",
      "411:\tlearn: 0.9977679\ttest: 0.9851190\tbest: 0.9851190 (326)\ttotal: 2m 43s\tremaining: 3m 53s\n",
      "412:\tlearn: 0.9977679\ttest: 0.9851190\tbest: 0.9851190 (326)\ttotal: 2m 44s\tremaining: 3m 53s\n",
      "413:\tlearn: 0.9978505\ttest: 0.9851190\tbest: 0.9851190 (326)\ttotal: 2m 44s\tremaining: 3m 52s\n",
      "414:\tlearn: 0.9978505\ttest: 0.9851190\tbest: 0.9851190 (326)\ttotal: 2m 44s\tremaining: 3m 52s\n",
      "415:\tlearn: 0.9978505\ttest: 0.9851190\tbest: 0.9851190 (326)\ttotal: 2m 45s\tremaining: 3m 52s\n",
      "416:\tlearn: 0.9979332\ttest: 0.9851190\tbest: 0.9851190 (326)\ttotal: 2m 45s\tremaining: 3m 51s\n",
      "417:\tlearn: 0.9979332\ttest: 0.9851190\tbest: 0.9851190 (326)\ttotal: 2m 46s\tremaining: 3m 51s\n",
      "418:\tlearn: 0.9979332\ttest: 0.9851190\tbest: 0.9851190 (326)\ttotal: 2m 46s\tremaining: 3m 50s\n",
      "419:\tlearn: 0.9980159\ttest: 0.9843750\tbest: 0.9851190 (326)\ttotal: 2m 46s\tremaining: 3m 50s\n",
      "420:\tlearn: 0.9980159\ttest: 0.9843750\tbest: 0.9851190 (326)\ttotal: 2m 47s\tremaining: 3m 49s\n",
      "421:\tlearn: 0.9980159\ttest: 0.9836310\tbest: 0.9851190 (326)\ttotal: 2m 47s\tremaining: 3m 49s\n",
      "422:\tlearn: 0.9980159\ttest: 0.9843750\tbest: 0.9851190 (326)\ttotal: 2m 47s\tremaining: 3m 49s\n",
      "423:\tlearn: 0.9980159\ttest: 0.9843750\tbest: 0.9851190 (326)\ttotal: 2m 48s\tremaining: 3m 48s\n",
      "424:\tlearn: 0.9980159\ttest: 0.9843750\tbest: 0.9851190 (326)\ttotal: 2m 48s\tremaining: 3m 48s\n",
      "425:\tlearn: 0.9980159\ttest: 0.9843750\tbest: 0.9851190 (326)\ttotal: 2m 49s\tremaining: 3m 47s\n",
      "426:\tlearn: 0.9980159\ttest: 0.9843750\tbest: 0.9851190 (326)\ttotal: 2m 49s\tremaining: 3m 47s\n",
      "427:\tlearn: 0.9980159\ttest: 0.9843750\tbest: 0.9851190 (326)\ttotal: 2m 49s\tremaining: 3m 46s\n",
      "428:\tlearn: 0.9980985\ttest: 0.9843750\tbest: 0.9851190 (326)\ttotal: 2m 50s\tremaining: 3m 46s\n",
      "429:\tlearn: 0.9980985\ttest: 0.9836310\tbest: 0.9851190 (326)\ttotal: 2m 50s\tremaining: 3m 46s\n",
      "430:\tlearn: 0.9980985\ttest: 0.9836310\tbest: 0.9851190 (326)\ttotal: 2m 50s\tremaining: 3m 45s\n",
      "431:\tlearn: 0.9980985\ttest: 0.9843750\tbest: 0.9851190 (326)\ttotal: 2m 51s\tremaining: 3m 45s\n",
      "432:\tlearn: 0.9982639\ttest: 0.9843750\tbest: 0.9851190 (326)\ttotal: 2m 51s\tremaining: 3m 44s\n",
      "433:\tlearn: 0.9981812\ttest: 0.9843750\tbest: 0.9851190 (326)\ttotal: 2m 52s\tremaining: 3m 44s\n",
      "434:\tlearn: 0.9982639\ttest: 0.9843750\tbest: 0.9851190 (326)\ttotal: 2m 52s\tremaining: 3m 43s\n",
      "435:\tlearn: 0.9981812\ttest: 0.9843750\tbest: 0.9851190 (326)\ttotal: 2m 52s\tremaining: 3m 43s\n",
      "436:\tlearn: 0.9981812\ttest: 0.9843750\tbest: 0.9851190 (326)\ttotal: 2m 53s\tremaining: 3m 43s\n",
      "437:\tlearn: 0.9981812\ttest: 0.9843750\tbest: 0.9851190 (326)\ttotal: 2m 53s\tremaining: 3m 43s\n",
      "438:\tlearn: 0.9984292\ttest: 0.9843750\tbest: 0.9851190 (326)\ttotal: 2m 54s\tremaining: 3m 42s\n",
      "439:\tlearn: 0.9985119\ttest: 0.9843750\tbest: 0.9851190 (326)\ttotal: 2m 54s\tremaining: 3m 42s\n",
      "440:\tlearn: 0.9985119\ttest: 0.9851190\tbest: 0.9851190 (326)\ttotal: 2m 55s\tremaining: 3m 41s\n",
      "441:\tlearn: 0.9985119\ttest: 0.9858631\tbest: 0.9858631 (441)\ttotal: 2m 55s\tremaining: 3m 41s\n",
      "442:\tlearn: 0.9985119\ttest: 0.9858631\tbest: 0.9858631 (441)\ttotal: 2m 55s\tremaining: 3m 41s\n",
      "443:\tlearn: 0.9984292\ttest: 0.9858631\tbest: 0.9858631 (441)\ttotal: 2m 56s\tremaining: 3m 40s\n",
      "444:\tlearn: 0.9985119\ttest: 0.9858631\tbest: 0.9858631 (441)\ttotal: 2m 56s\tremaining: 3m 40s\n",
      "445:\tlearn: 0.9985119\ttest: 0.9858631\tbest: 0.9858631 (441)\ttotal: 2m 56s\tremaining: 3m 39s\n",
      "446:\tlearn: 0.9985119\ttest: 0.9858631\tbest: 0.9858631 (441)\ttotal: 2m 57s\tremaining: 3m 39s\n",
      "447:\tlearn: 0.9985119\ttest: 0.9858631\tbest: 0.9858631 (441)\ttotal: 2m 57s\tremaining: 3m 38s\n",
      "448:\tlearn: 0.9985119\ttest: 0.9858631\tbest: 0.9858631 (441)\ttotal: 2m 58s\tremaining: 3m 38s\n",
      "449:\tlearn: 0.9985119\ttest: 0.9858631\tbest: 0.9858631 (441)\ttotal: 2m 59s\tremaining: 3m 38s\n",
      "450:\tlearn: 0.9985119\ttest: 0.9858631\tbest: 0.9858631 (441)\ttotal: 2m 59s\tremaining: 3m 38s\n",
      "451:\tlearn: 0.9985119\ttest: 0.9858631\tbest: 0.9858631 (441)\ttotal: 2m 59s\tremaining: 3m 37s\n",
      "452:\tlearn: 0.9985119\ttest: 0.9858631\tbest: 0.9858631 (441)\ttotal: 3m\tremaining: 3m 37s\n",
      "453:\tlearn: 0.9985119\ttest: 0.9858631\tbest: 0.9858631 (441)\ttotal: 3m\tremaining: 3m 37s\n",
      "454:\tlearn: 0.9985119\ttest: 0.9858631\tbest: 0.9858631 (441)\ttotal: 3m\tremaining: 3m 36s\n",
      "455:\tlearn: 0.9985119\ttest: 0.9858631\tbest: 0.9858631 (441)\ttotal: 3m 1s\tremaining: 3m 36s\n",
      "456:\tlearn: 0.9985119\ttest: 0.9858631\tbest: 0.9858631 (441)\ttotal: 3m 1s\tremaining: 3m 35s\n",
      "457:\tlearn: 0.9985119\ttest: 0.9858631\tbest: 0.9858631 (441)\ttotal: 3m 2s\tremaining: 3m 35s\n",
      "458:\tlearn: 0.9985119\ttest: 0.9851190\tbest: 0.9858631 (441)\ttotal: 3m 2s\tremaining: 3m 35s\n",
      "459:\tlearn: 0.9985119\ttest: 0.9858631\tbest: 0.9858631 (441)\ttotal: 3m 2s\tremaining: 3m 34s\n",
      "460:\tlearn: 0.9985119\ttest: 0.9858631\tbest: 0.9858631 (441)\ttotal: 3m 3s\tremaining: 3m 34s\n",
      "461:\tlearn: 0.9985119\ttest: 0.9858631\tbest: 0.9858631 (441)\ttotal: 3m 3s\tremaining: 3m 33s\n",
      "462:\tlearn: 0.9985119\ttest: 0.9858631\tbest: 0.9858631 (441)\ttotal: 3m 4s\tremaining: 3m 33s\n",
      "463:\tlearn: 0.9985119\ttest: 0.9858631\tbest: 0.9858631 (441)\ttotal: 3m 4s\tremaining: 3m 33s\n",
      "464:\tlearn: 0.9985119\ttest: 0.9851190\tbest: 0.9858631 (441)\ttotal: 3m 5s\tremaining: 3m 33s\n",
      "465:\tlearn: 0.9985946\ttest: 0.9858631\tbest: 0.9858631 (441)\ttotal: 3m 5s\tremaining: 3m 32s\n",
      "466:\tlearn: 0.9985946\ttest: 0.9858631\tbest: 0.9858631 (441)\ttotal: 3m 5s\tremaining: 3m 32s\n",
      "467:\tlearn: 0.9985946\ttest: 0.9858631\tbest: 0.9858631 (441)\ttotal: 3m 6s\tremaining: 3m 31s\n",
      "468:\tlearn: 0.9985946\ttest: 0.9858631\tbest: 0.9858631 (441)\ttotal: 3m 6s\tremaining: 3m 31s\n",
      "469:\tlearn: 0.9985119\ttest: 0.9858631\tbest: 0.9858631 (441)\ttotal: 3m 7s\tremaining: 3m 30s\n",
      "470:\tlearn: 0.9985119\ttest: 0.9858631\tbest: 0.9858631 (441)\ttotal: 3m 7s\tremaining: 3m 30s\n",
      "471:\tlearn: 0.9985119\ttest: 0.9866071\tbest: 0.9866071 (471)\ttotal: 3m 7s\tremaining: 3m 30s\n",
      "472:\tlearn: 0.9985946\ttest: 0.9866071\tbest: 0.9866071 (471)\ttotal: 3m 8s\tremaining: 3m 29s\n",
      "473:\tlearn: 0.9985946\ttest: 0.9866071\tbest: 0.9866071 (471)\ttotal: 3m 8s\tremaining: 3m 29s\n",
      "474:\tlearn: 0.9985946\ttest: 0.9866071\tbest: 0.9866071 (471)\ttotal: 3m 8s\tremaining: 3m 28s\n",
      "475:\tlearn: 0.9985946\ttest: 0.9866071\tbest: 0.9866071 (471)\ttotal: 3m 9s\tremaining: 3m 28s\n",
      "476:\tlearn: 0.9985946\ttest: 0.9866071\tbest: 0.9866071 (471)\ttotal: 3m 9s\tremaining: 3m 27s\n",
      "477:\tlearn: 0.9985946\ttest: 0.9866071\tbest: 0.9866071 (471)\ttotal: 3m 10s\tremaining: 3m 27s\n",
      "478:\tlearn: 0.9985946\ttest: 0.9866071\tbest: 0.9866071 (471)\ttotal: 3m 10s\tremaining: 3m 27s\n",
      "479:\tlearn: 0.9986772\ttest: 0.9866071\tbest: 0.9866071 (471)\ttotal: 3m 10s\tremaining: 3m 26s\n",
      "480:\tlearn: 0.9987599\ttest: 0.9866071\tbest: 0.9866071 (471)\ttotal: 3m 11s\tremaining: 3m 26s\n",
      "481:\tlearn: 0.9987599\ttest: 0.9866071\tbest: 0.9866071 (471)\ttotal: 3m 11s\tremaining: 3m 25s\n",
      "482:\tlearn: 0.9987599\ttest: 0.9866071\tbest: 0.9866071 (471)\ttotal: 3m 11s\tremaining: 3m 25s\n",
      "483:\tlearn: 0.9987599\ttest: 0.9866071\tbest: 0.9866071 (471)\ttotal: 3m 12s\tremaining: 3m 25s\n",
      "484:\tlearn: 0.9988426\ttest: 0.9866071\tbest: 0.9866071 (471)\ttotal: 3m 12s\tremaining: 3m 24s\n",
      "485:\tlearn: 0.9987599\ttest: 0.9866071\tbest: 0.9866071 (471)\ttotal: 3m 13s\tremaining: 3m 24s\n",
      "486:\tlearn: 0.9987599\ttest: 0.9866071\tbest: 0.9866071 (471)\ttotal: 3m 13s\tremaining: 3m 23s\n",
      "487:\tlearn: 0.9988426\ttest: 0.9866071\tbest: 0.9866071 (471)\ttotal: 3m 13s\tremaining: 3m 23s\n",
      "488:\tlearn: 0.9988426\ttest: 0.9858631\tbest: 0.9866071 (471)\ttotal: 3m 14s\tremaining: 3m 22s\n",
      "489:\tlearn: 0.9988426\ttest: 0.9866071\tbest: 0.9866071 (471)\ttotal: 3m 14s\tremaining: 3m 22s\n",
      "490:\tlearn: 0.9989253\ttest: 0.9866071\tbest: 0.9866071 (471)\ttotal: 3m 15s\tremaining: 3m 22s\n",
      "491:\tlearn: 0.9988426\ttest: 0.9866071\tbest: 0.9866071 (471)\ttotal: 3m 15s\tremaining: 3m 22s\n",
      "492:\tlearn: 0.9989253\ttest: 0.9866071\tbest: 0.9866071 (471)\ttotal: 3m 16s\tremaining: 3m 21s\n",
      "493:\tlearn: 0.9989253\ttest: 0.9866071\tbest: 0.9866071 (471)\ttotal: 3m 16s\tremaining: 3m 21s\n",
      "494:\tlearn: 0.9989253\ttest: 0.9866071\tbest: 0.9866071 (471)\ttotal: 3m 16s\tremaining: 3m 20s\n",
      "495:\tlearn: 0.9989253\ttest: 0.9866071\tbest: 0.9866071 (471)\ttotal: 3m 17s\tremaining: 3m 20s\n",
      "496:\tlearn: 0.9989253\ttest: 0.9866071\tbest: 0.9866071 (471)\ttotal: 3m 17s\tremaining: 3m 19s\n",
      "497:\tlearn: 0.9990079\ttest: 0.9858631\tbest: 0.9866071 (471)\ttotal: 3m 17s\tremaining: 3m 19s\n",
      "498:\tlearn: 0.9990079\ttest: 0.9858631\tbest: 0.9866071 (471)\ttotal: 3m 18s\tremaining: 3m 19s\n",
      "499:\tlearn: 0.9990079\ttest: 0.9858631\tbest: 0.9866071 (471)\ttotal: 3m 18s\tremaining: 3m 18s\n",
      "500:\tlearn: 0.9990079\ttest: 0.9858631\tbest: 0.9866071 (471)\ttotal: 3m 19s\tremaining: 3m 18s\n",
      "501:\tlearn: 0.9990079\ttest: 0.9858631\tbest: 0.9866071 (471)\ttotal: 3m 19s\tremaining: 3m 17s\n",
      "502:\tlearn: 0.9990079\ttest: 0.9858631\tbest: 0.9866071 (471)\ttotal: 3m 19s\tremaining: 3m 17s\n",
      "503:\tlearn: 0.9990079\ttest: 0.9858631\tbest: 0.9866071 (471)\ttotal: 3m 20s\tremaining: 3m 16s\n",
      "504:\tlearn: 0.9990079\ttest: 0.9858631\tbest: 0.9866071 (471)\ttotal: 3m 20s\tremaining: 3m 16s\n",
      "505:\tlearn: 0.9990079\ttest: 0.9858631\tbest: 0.9866071 (471)\ttotal: 3m 20s\tremaining: 3m 16s\n",
      "506:\tlearn: 0.9990079\ttest: 0.9858631\tbest: 0.9866071 (471)\ttotal: 3m 21s\tremaining: 3m 15s\n",
      "507:\tlearn: 0.9990079\ttest: 0.9858631\tbest: 0.9866071 (471)\ttotal: 3m 21s\tremaining: 3m 15s\n",
      "508:\tlearn: 0.9990079\ttest: 0.9858631\tbest: 0.9866071 (471)\ttotal: 3m 22s\tremaining: 3m 14s\n",
      "509:\tlearn: 0.9990079\ttest: 0.9858631\tbest: 0.9866071 (471)\ttotal: 3m 22s\tremaining: 3m 14s\n",
      "510:\tlearn: 0.9990079\ttest: 0.9858631\tbest: 0.9866071 (471)\ttotal: 3m 22s\tremaining: 3m 14s\n",
      "511:\tlearn: 0.9990079\ttest: 0.9866071\tbest: 0.9866071 (471)\ttotal: 3m 23s\tremaining: 3m 13s\n",
      "512:\tlearn: 0.9990079\ttest: 0.9866071\tbest: 0.9866071 (471)\ttotal: 3m 23s\tremaining: 3m 13s\n",
      "513:\tlearn: 0.9990079\ttest: 0.9858631\tbest: 0.9866071 (471)\ttotal: 3m 23s\tremaining: 3m 12s\n",
      "514:\tlearn: 0.9990079\ttest: 0.9858631\tbest: 0.9866071 (471)\ttotal: 3m 24s\tremaining: 3m 12s\n",
      "515:\tlearn: 0.9990079\ttest: 0.9858631\tbest: 0.9866071 (471)\ttotal: 3m 24s\tremaining: 3m 11s\n",
      "516:\tlearn: 0.9990079\ttest: 0.9858631\tbest: 0.9866071 (471)\ttotal: 3m 25s\tremaining: 3m 11s\n",
      "517:\tlearn: 0.9990079\ttest: 0.9858631\tbest: 0.9866071 (471)\ttotal: 3m 25s\tremaining: 3m 11s\n",
      "518:\tlearn: 0.9990079\ttest: 0.9858631\tbest: 0.9866071 (471)\ttotal: 3m 25s\tremaining: 3m 10s\n",
      "519:\tlearn: 0.9990079\ttest: 0.9858631\tbest: 0.9866071 (471)\ttotal: 3m 26s\tremaining: 3m 10s\n",
      "520:\tlearn: 0.9990079\ttest: 0.9858631\tbest: 0.9866071 (471)\ttotal: 3m 26s\tremaining: 3m 10s\n",
      "521:\tlearn: 0.9990079\ttest: 0.9858631\tbest: 0.9866071 (471)\ttotal: 3m 27s\tremaining: 3m 9s\n",
      "522:\tlearn: 0.9990079\ttest: 0.9858631\tbest: 0.9866071 (471)\ttotal: 3m 27s\tremaining: 3m 9s\n",
      "523:\tlearn: 0.9990079\ttest: 0.9858631\tbest: 0.9866071 (471)\ttotal: 3m 28s\tremaining: 3m 9s\n",
      "524:\tlearn: 0.9990079\ttest: 0.9858631\tbest: 0.9866071 (471)\ttotal: 3m 28s\tremaining: 3m 8s\n",
      "525:\tlearn: 0.9990079\ttest: 0.9858631\tbest: 0.9866071 (471)\ttotal: 3m 28s\tremaining: 3m 8s\n",
      "526:\tlearn: 0.9990079\ttest: 0.9858631\tbest: 0.9866071 (471)\ttotal: 3m 29s\tremaining: 3m 7s\n",
      "527:\tlearn: 0.9990079\ttest: 0.9858631\tbest: 0.9866071 (471)\ttotal: 3m 29s\tremaining: 3m 7s\n",
      "528:\tlearn: 0.9990079\ttest: 0.9858631\tbest: 0.9866071 (471)\ttotal: 3m 29s\tremaining: 3m 6s\n",
      "529:\tlearn: 0.9990079\ttest: 0.9858631\tbest: 0.9866071 (471)\ttotal: 3m 30s\tremaining: 3m 6s\n",
      "530:\tlearn: 0.9990079\ttest: 0.9858631\tbest: 0.9866071 (471)\ttotal: 3m 31s\tremaining: 3m 6s\n",
      "531:\tlearn: 0.9990079\ttest: 0.9858631\tbest: 0.9866071 (471)\ttotal: 3m 31s\tremaining: 3m 6s\n",
      "532:\tlearn: 0.9990079\ttest: 0.9858631\tbest: 0.9866071 (471)\ttotal: 3m 32s\tremaining: 3m 5s\n",
      "533:\tlearn: 0.9990079\ttest: 0.9858631\tbest: 0.9866071 (471)\ttotal: 3m 32s\tremaining: 3m 5s\n",
      "534:\tlearn: 0.9990079\ttest: 0.9858631\tbest: 0.9866071 (471)\ttotal: 3m 32s\tremaining: 3m 4s\n",
      "535:\tlearn: 0.9990079\ttest: 0.9858631\tbest: 0.9866071 (471)\ttotal: 3m 33s\tremaining: 3m 4s\n",
      "536:\tlearn: 0.9990079\ttest: 0.9858631\tbest: 0.9866071 (471)\ttotal: 3m 33s\tremaining: 3m 4s\n",
      "537:\tlearn: 0.9990079\ttest: 0.9866071\tbest: 0.9866071 (471)\ttotal: 3m 34s\tremaining: 3m 3s\n",
      "538:\tlearn: 0.9990906\ttest: 0.9866071\tbest: 0.9866071 (471)\ttotal: 3m 34s\tremaining: 3m 3s\n",
      "539:\tlearn: 0.9990906\ttest: 0.9858631\tbest: 0.9866071 (471)\ttotal: 3m 34s\tremaining: 3m 3s\n",
      "540:\tlearn: 0.9990906\ttest: 0.9858631\tbest: 0.9866071 (471)\ttotal: 3m 35s\tremaining: 3m 2s\n",
      "541:\tlearn: 0.9990079\ttest: 0.9858631\tbest: 0.9866071 (471)\ttotal: 3m 35s\tremaining: 3m 2s\n",
      "542:\tlearn: 0.9990906\ttest: 0.9858631\tbest: 0.9866071 (471)\ttotal: 3m 35s\tremaining: 3m 1s\n",
      "543:\tlearn: 0.9990079\ttest: 0.9858631\tbest: 0.9866071 (471)\ttotal: 3m 36s\tremaining: 3m 1s\n",
      "544:\tlearn: 0.9990906\ttest: 0.9858631\tbest: 0.9866071 (471)\ttotal: 3m 36s\tremaining: 3m\n",
      "545:\tlearn: 0.9990906\ttest: 0.9858631\tbest: 0.9866071 (471)\ttotal: 3m 37s\tremaining: 3m\n",
      "546:\tlearn: 0.9990906\ttest: 0.9858631\tbest: 0.9866071 (471)\ttotal: 3m 37s\tremaining: 3m\n",
      "547:\tlearn: 0.9991733\ttest: 0.9858631\tbest: 0.9866071 (471)\ttotal: 3m 38s\tremaining: 2m 59s\n",
      "548:\tlearn: 0.9991733\ttest: 0.9858631\tbest: 0.9866071 (471)\ttotal: 3m 38s\tremaining: 2m 59s\n",
      "549:\tlearn: 0.9991733\ttest: 0.9858631\tbest: 0.9866071 (471)\ttotal: 3m 38s\tremaining: 2m 59s\n",
      "550:\tlearn: 0.9992560\ttest: 0.9858631\tbest: 0.9866071 (471)\ttotal: 3m 39s\tremaining: 2m 58s\n",
      "551:\tlearn: 0.9992560\ttest: 0.9858631\tbest: 0.9866071 (471)\ttotal: 3m 39s\tremaining: 2m 58s\n",
      "552:\tlearn: 0.9992560\ttest: 0.9858631\tbest: 0.9866071 (471)\ttotal: 3m 40s\tremaining: 2m 57s\n",
      "553:\tlearn: 0.9992560\ttest: 0.9858631\tbest: 0.9866071 (471)\ttotal: 3m 40s\tremaining: 2m 57s\n",
      "554:\tlearn: 0.9992560\ttest: 0.9858631\tbest: 0.9866071 (471)\ttotal: 3m 40s\tremaining: 2m 57s\n",
      "555:\tlearn: 0.9993386\ttest: 0.9858631\tbest: 0.9866071 (471)\ttotal: 3m 41s\tremaining: 2m 56s\n",
      "556:\tlearn: 0.9993386\ttest: 0.9858631\tbest: 0.9866071 (471)\ttotal: 3m 41s\tremaining: 2m 56s\n",
      "557:\tlearn: 0.9994213\ttest: 0.9858631\tbest: 0.9866071 (471)\ttotal: 3m 41s\tremaining: 2m 55s\n",
      "558:\tlearn: 0.9994213\ttest: 0.9858631\tbest: 0.9866071 (471)\ttotal: 3m 42s\tremaining: 2m 55s\n",
      "559:\tlearn: 0.9994213\ttest: 0.9858631\tbest: 0.9866071 (471)\ttotal: 3m 42s\tremaining: 2m 54s\n",
      "560:\tlearn: 0.9994213\ttest: 0.9858631\tbest: 0.9866071 (471)\ttotal: 3m 43s\tremaining: 2m 54s\n",
      "561:\tlearn: 0.9994213\ttest: 0.9858631\tbest: 0.9866071 (471)\ttotal: 3m 43s\tremaining: 2m 54s\n",
      "562:\tlearn: 0.9994213\ttest: 0.9858631\tbest: 0.9866071 (471)\ttotal: 3m 43s\tremaining: 2m 53s\n",
      "563:\tlearn: 0.9994213\ttest: 0.9858631\tbest: 0.9866071 (471)\ttotal: 3m 44s\tremaining: 2m 53s\n",
      "564:\tlearn: 0.9994213\ttest: 0.9858631\tbest: 0.9866071 (471)\ttotal: 3m 44s\tremaining: 2m 52s\n",
      "565:\tlearn: 0.9994213\ttest: 0.9858631\tbest: 0.9866071 (471)\ttotal: 3m 44s\tremaining: 2m 52s\n",
      "566:\tlearn: 0.9994213\ttest: 0.9858631\tbest: 0.9866071 (471)\ttotal: 3m 45s\tremaining: 2m 52s\n",
      "567:\tlearn: 0.9994213\ttest: 0.9858631\tbest: 0.9866071 (471)\ttotal: 3m 45s\tremaining: 2m 51s\n",
      "568:\tlearn: 0.9994213\ttest: 0.9858631\tbest: 0.9866071 (471)\ttotal: 3m 46s\tremaining: 2m 51s\n",
      "569:\tlearn: 0.9994213\ttest: 0.9858631\tbest: 0.9866071 (471)\ttotal: 3m 46s\tremaining: 2m 50s\n",
      "570:\tlearn: 0.9994213\ttest: 0.9858631\tbest: 0.9866071 (471)\ttotal: 3m 46s\tremaining: 2m 50s\n",
      "571:\tlearn: 0.9994213\ttest: 0.9858631\tbest: 0.9866071 (471)\ttotal: 3m 47s\tremaining: 2m 49s\n",
      "572:\tlearn: 0.9994213\ttest: 0.9858631\tbest: 0.9866071 (471)\ttotal: 3m 47s\tremaining: 2m 49s\n",
      "573:\tlearn: 0.9994213\ttest: 0.9858631\tbest: 0.9866071 (471)\ttotal: 3m 48s\tremaining: 2m 49s\n",
      "574:\tlearn: 0.9994213\ttest: 0.9858631\tbest: 0.9866071 (471)\ttotal: 3m 48s\tremaining: 2m 49s\n",
      "575:\tlearn: 0.9994213\ttest: 0.9858631\tbest: 0.9866071 (471)\ttotal: 3m 49s\tremaining: 2m 48s\n",
      "576:\tlearn: 0.9994213\ttest: 0.9858631\tbest: 0.9866071 (471)\ttotal: 3m 49s\tremaining: 2m 48s\n",
      "577:\tlearn: 0.9994213\ttest: 0.9858631\tbest: 0.9866071 (471)\ttotal: 3m 50s\tremaining: 2m 47s\n",
      "578:\tlearn: 0.9994213\ttest: 0.9858631\tbest: 0.9866071 (471)\ttotal: 3m 50s\tremaining: 2m 47s\n",
      "579:\tlearn: 0.9994213\ttest: 0.9858631\tbest: 0.9866071 (471)\ttotal: 3m 50s\tremaining: 2m 47s\n",
      "580:\tlearn: 0.9995040\ttest: 0.9858631\tbest: 0.9866071 (471)\ttotal: 3m 51s\tremaining: 2m 46s\n",
      "581:\tlearn: 0.9995040\ttest: 0.9858631\tbest: 0.9866071 (471)\ttotal: 3m 51s\tremaining: 2m 46s\n",
      "582:\tlearn: 0.9995040\ttest: 0.9858631\tbest: 0.9866071 (471)\ttotal: 3m 51s\tremaining: 2m 45s\n",
      "583:\tlearn: 0.9995040\ttest: 0.9858631\tbest: 0.9866071 (471)\ttotal: 3m 52s\tremaining: 2m 45s\n",
      "584:\tlearn: 0.9995040\ttest: 0.9858631\tbest: 0.9866071 (471)\ttotal: 3m 52s\tremaining: 2m 45s\n",
      "585:\tlearn: 0.9995040\ttest: 0.9858631\tbest: 0.9866071 (471)\ttotal: 3m 53s\tremaining: 2m 44s\n",
      "586:\tlearn: 0.9995040\ttest: 0.9858631\tbest: 0.9866071 (471)\ttotal: 3m 53s\tremaining: 2m 44s\n",
      "587:\tlearn: 0.9995040\ttest: 0.9858631\tbest: 0.9866071 (471)\ttotal: 3m 53s\tremaining: 2m 43s\n",
      "588:\tlearn: 0.9995040\ttest: 0.9858631\tbest: 0.9866071 (471)\ttotal: 3m 54s\tremaining: 2m 43s\n",
      "589:\tlearn: 0.9995040\ttest: 0.9858631\tbest: 0.9866071 (471)\ttotal: 3m 54s\tremaining: 2m 43s\n",
      "590:\tlearn: 0.9995040\ttest: 0.9858631\tbest: 0.9866071 (471)\ttotal: 3m 54s\tremaining: 2m 42s\n",
      "591:\tlearn: 0.9995040\ttest: 0.9858631\tbest: 0.9866071 (471)\ttotal: 3m 55s\tremaining: 2m 42s\n",
      "592:\tlearn: 0.9995040\ttest: 0.9858631\tbest: 0.9866071 (471)\ttotal: 3m 55s\tremaining: 2m 41s\n",
      "593:\tlearn: 0.9995040\ttest: 0.9858631\tbest: 0.9866071 (471)\ttotal: 3m 56s\tremaining: 2m 41s\n",
      "594:\tlearn: 0.9995866\ttest: 0.9858631\tbest: 0.9866071 (471)\ttotal: 3m 56s\tremaining: 2m 40s\n",
      "595:\tlearn: 0.9995866\ttest: 0.9858631\tbest: 0.9866071 (471)\ttotal: 3m 56s\tremaining: 2m 40s\n",
      "596:\tlearn: 0.9995866\ttest: 0.9851190\tbest: 0.9866071 (471)\ttotal: 3m 57s\tremaining: 2m 40s\n",
      "597:\tlearn: 0.9995866\ttest: 0.9851190\tbest: 0.9866071 (471)\ttotal: 3m 57s\tremaining: 2m 39s\n",
      "598:\tlearn: 0.9995866\ttest: 0.9851190\tbest: 0.9866071 (471)\ttotal: 3m 57s\tremaining: 2m 39s\n",
      "599:\tlearn: 0.9995866\ttest: 0.9851190\tbest: 0.9866071 (471)\ttotal: 3m 58s\tremaining: 2m 38s\n",
      "600:\tlearn: 0.9995866\ttest: 0.9851190\tbest: 0.9866071 (471)\ttotal: 3m 58s\tremaining: 2m 38s\n",
      "601:\tlearn: 0.9995866\ttest: 0.9851190\tbest: 0.9866071 (471)\ttotal: 3m 59s\tremaining: 2m 38s\n",
      "602:\tlearn: 0.9995866\ttest: 0.9851190\tbest: 0.9866071 (471)\ttotal: 3m 59s\tremaining: 2m 37s\n",
      "603:\tlearn: 0.9995866\ttest: 0.9851190\tbest: 0.9866071 (471)\ttotal: 4m\tremaining: 2m 37s\n",
      "604:\tlearn: 0.9995866\ttest: 0.9851190\tbest: 0.9866071 (471)\ttotal: 4m\tremaining: 2m 37s\n",
      "605:\tlearn: 0.9995866\ttest: 0.9851190\tbest: 0.9866071 (471)\ttotal: 4m\tremaining: 2m 36s\n",
      "606:\tlearn: 0.9995866\ttest: 0.9858631\tbest: 0.9866071 (471)\ttotal: 4m 1s\tremaining: 2m 36s\n",
      "607:\tlearn: 0.9995866\ttest: 0.9858631\tbest: 0.9866071 (471)\ttotal: 4m 1s\tremaining: 2m 35s\n",
      "608:\tlearn: 0.9995866\ttest: 0.9858631\tbest: 0.9866071 (471)\ttotal: 4m 1s\tremaining: 2m 35s\n",
      "609:\tlearn: 0.9995866\ttest: 0.9858631\tbest: 0.9866071 (471)\ttotal: 4m 2s\tremaining: 2m 34s\n",
      "610:\tlearn: 0.9995866\ttest: 0.9858631\tbest: 0.9866071 (471)\ttotal: 4m 2s\tremaining: 2m 34s\n",
      "611:\tlearn: 0.9996693\ttest: 0.9858631\tbest: 0.9866071 (471)\ttotal: 4m 3s\tremaining: 2m 34s\n",
      "612:\tlearn: 0.9996693\ttest: 0.9858631\tbest: 0.9866071 (471)\ttotal: 4m 4s\tremaining: 2m 34s\n",
      "613:\tlearn: 0.9996693\ttest: 0.9858631\tbest: 0.9866071 (471)\ttotal: 4m 4s\tremaining: 2m 33s\n",
      "614:\tlearn: 0.9995866\ttest: 0.9858631\tbest: 0.9866071 (471)\ttotal: 4m 4s\tremaining: 2m 33s\n",
      "615:\tlearn: 0.9996693\ttest: 0.9851190\tbest: 0.9866071 (471)\ttotal: 4m 5s\tremaining: 2m 32s\n",
      "616:\tlearn: 0.9996693\ttest: 0.9858631\tbest: 0.9866071 (471)\ttotal: 4m 5s\tremaining: 2m 32s\n",
      "617:\tlearn: 0.9996693\ttest: 0.9851190\tbest: 0.9866071 (471)\ttotal: 4m 6s\tremaining: 2m 32s\n",
      "618:\tlearn: 0.9995866\ttest: 0.9851190\tbest: 0.9866071 (471)\ttotal: 4m 6s\tremaining: 2m 31s\n",
      "619:\tlearn: 0.9996693\ttest: 0.9851190\tbest: 0.9866071 (471)\ttotal: 4m 6s\tremaining: 2m 31s\n",
      "620:\tlearn: 0.9996693\ttest: 0.9851190\tbest: 0.9866071 (471)\ttotal: 4m 7s\tremaining: 2m 30s\n",
      "621:\tlearn: 0.9996693\ttest: 0.9851190\tbest: 0.9866071 (471)\ttotal: 4m 7s\tremaining: 2m 30s\n",
      "622:\tlearn: 0.9996693\ttest: 0.9851190\tbest: 0.9866071 (471)\ttotal: 4m 7s\tremaining: 2m 30s\n",
      "623:\tlearn: 0.9996693\ttest: 0.9851190\tbest: 0.9866071 (471)\ttotal: 4m 8s\tremaining: 2m 29s\n",
      "624:\tlearn: 0.9996693\ttest: 0.9851190\tbest: 0.9866071 (471)\ttotal: 4m 8s\tremaining: 2m 29s\n",
      "625:\tlearn: 0.9997520\ttest: 0.9858631\tbest: 0.9866071 (471)\ttotal: 4m 9s\tremaining: 2m 28s\n",
      "626:\tlearn: 0.9996693\ttest: 0.9851190\tbest: 0.9866071 (471)\ttotal: 4m 9s\tremaining: 2m 28s\n",
      "627:\tlearn: 0.9996693\ttest: 0.9851190\tbest: 0.9866071 (471)\ttotal: 4m 9s\tremaining: 2m 28s\n",
      "628:\tlearn: 0.9997520\ttest: 0.9851190\tbest: 0.9866071 (471)\ttotal: 4m 10s\tremaining: 2m 27s\n",
      "629:\tlearn: 0.9996693\ttest: 0.9851190\tbest: 0.9866071 (471)\ttotal: 4m 10s\tremaining: 2m 27s\n",
      "630:\tlearn: 0.9996693\ttest: 0.9851190\tbest: 0.9866071 (471)\ttotal: 4m 11s\tremaining: 2m 26s\n",
      "631:\tlearn: 0.9996693\ttest: 0.9851190\tbest: 0.9866071 (471)\ttotal: 4m 11s\tremaining: 2m 26s\n",
      "632:\tlearn: 0.9997520\ttest: 0.9851190\tbest: 0.9866071 (471)\ttotal: 4m 12s\tremaining: 2m 26s\n",
      "633:\tlearn: 0.9997520\ttest: 0.9851190\tbest: 0.9866071 (471)\ttotal: 4m 12s\tremaining: 2m 25s\n",
      "634:\tlearn: 0.9997520\ttest: 0.9851190\tbest: 0.9866071 (471)\ttotal: 4m 12s\tremaining: 2m 25s\n",
      "635:\tlearn: 0.9997520\ttest: 0.9851190\tbest: 0.9866071 (471)\ttotal: 4m 13s\tremaining: 2m 24s\n",
      "636:\tlearn: 0.9997520\ttest: 0.9851190\tbest: 0.9866071 (471)\ttotal: 4m 13s\tremaining: 2m 24s\n",
      "637:\tlearn: 0.9998347\ttest: 0.9851190\tbest: 0.9866071 (471)\ttotal: 4m 13s\tremaining: 2m 24s\n",
      "638:\tlearn: 0.9998347\ttest: 0.9851190\tbest: 0.9866071 (471)\ttotal: 4m 14s\tremaining: 2m 23s\n",
      "639:\tlearn: 0.9998347\ttest: 0.9851190\tbest: 0.9866071 (471)\ttotal: 4m 14s\tremaining: 2m 23s\n",
      "640:\tlearn: 0.9998347\ttest: 0.9858631\tbest: 0.9866071 (471)\ttotal: 4m 15s\tremaining: 2m 22s\n",
      "641:\tlearn: 0.9998347\ttest: 0.9851190\tbest: 0.9866071 (471)\ttotal: 4m 15s\tremaining: 2m 22s\n",
      "642:\tlearn: 0.9998347\ttest: 0.9851190\tbest: 0.9866071 (471)\ttotal: 4m 15s\tremaining: 2m 22s\n",
      "643:\tlearn: 0.9998347\ttest: 0.9851190\tbest: 0.9866071 (471)\ttotal: 4m 16s\tremaining: 2m 21s\n",
      "644:\tlearn: 0.9998347\ttest: 0.9851190\tbest: 0.9866071 (471)\ttotal: 4m 16s\tremaining: 2m 21s\n",
      "645:\tlearn: 0.9998347\ttest: 0.9851190\tbest: 0.9866071 (471)\ttotal: 4m 16s\tremaining: 2m 20s\n",
      "646:\tlearn: 0.9998347\ttest: 0.9851190\tbest: 0.9866071 (471)\ttotal: 4m 17s\tremaining: 2m 20s\n",
      "647:\tlearn: 0.9998347\ttest: 0.9851190\tbest: 0.9866071 (471)\ttotal: 4m 17s\tremaining: 2m 20s\n",
      "648:\tlearn: 0.9998347\ttest: 0.9851190\tbest: 0.9866071 (471)\ttotal: 4m 18s\tremaining: 2m 19s\n",
      "649:\tlearn: 0.9998347\ttest: 0.9851190\tbest: 0.9866071 (471)\ttotal: 4m 18s\tremaining: 2m 19s\n",
      "650:\tlearn: 0.9998347\ttest: 0.9851190\tbest: 0.9866071 (471)\ttotal: 4m 18s\tremaining: 2m 18s\n",
      "651:\tlearn: 0.9998347\ttest: 0.9851190\tbest: 0.9866071 (471)\ttotal: 4m 19s\tremaining: 2m 18s\n",
      "652:\tlearn: 0.9998347\ttest: 0.9851190\tbest: 0.9866071 (471)\ttotal: 4m 19s\tremaining: 2m 17s\n",
      "653:\tlearn: 0.9998347\ttest: 0.9851190\tbest: 0.9866071 (471)\ttotal: 4m 20s\tremaining: 2m 17s\n",
      "654:\tlearn: 0.9998347\ttest: 0.9851190\tbest: 0.9866071 (471)\ttotal: 4m 20s\tremaining: 2m 17s\n",
      "655:\tlearn: 0.9998347\ttest: 0.9851190\tbest: 0.9866071 (471)\ttotal: 4m 20s\tremaining: 2m 16s\n",
      "656:\tlearn: 0.9999173\ttest: 0.9851190\tbest: 0.9866071 (471)\ttotal: 4m 21s\tremaining: 2m 16s\n",
      "657:\tlearn: 0.9999173\ttest: 0.9851190\tbest: 0.9866071 (471)\ttotal: 4m 21s\tremaining: 2m 16s\n",
      "658:\tlearn: 0.9999173\ttest: 0.9851190\tbest: 0.9866071 (471)\ttotal: 4m 22s\tremaining: 2m 15s\n",
      "659:\tlearn: 0.9999173\ttest: 0.9851190\tbest: 0.9866071 (471)\ttotal: 4m 22s\tremaining: 2m 15s\n",
      "660:\tlearn: 0.9999173\ttest: 0.9851190\tbest: 0.9866071 (471)\ttotal: 4m 22s\tremaining: 2m 14s\n",
      "661:\tlearn: 0.9999173\ttest: 0.9851190\tbest: 0.9866071 (471)\ttotal: 4m 23s\tremaining: 2m 14s\n",
      "662:\tlearn: 0.9999173\ttest: 0.9851190\tbest: 0.9866071 (471)\ttotal: 4m 23s\tremaining: 2m 14s\n",
      "663:\tlearn: 0.9999173\ttest: 0.9851190\tbest: 0.9866071 (471)\ttotal: 4m 24s\tremaining: 2m 13s\n",
      "664:\tlearn: 0.9999173\ttest: 0.9851190\tbest: 0.9866071 (471)\ttotal: 4m 24s\tremaining: 2m 13s\n",
      "665:\tlearn: 0.9999173\ttest: 0.9851190\tbest: 0.9866071 (471)\ttotal: 4m 24s\tremaining: 2m 12s\n",
      "666:\tlearn: 0.9999173\ttest: 0.9851190\tbest: 0.9866071 (471)\ttotal: 4m 25s\tremaining: 2m 12s\n",
      "667:\tlearn: 0.9999173\ttest: 0.9851190\tbest: 0.9866071 (471)\ttotal: 4m 25s\tremaining: 2m 12s\n",
      "668:\tlearn: 0.9999173\ttest: 0.9851190\tbest: 0.9866071 (471)\ttotal: 4m 25s\tremaining: 2m 11s\n",
      "669:\tlearn: 0.9999173\ttest: 0.9851190\tbest: 0.9866071 (471)\ttotal: 4m 26s\tremaining: 2m 11s\n",
      "670:\tlearn: 0.9999173\ttest: 0.9851190\tbest: 0.9866071 (471)\ttotal: 4m 26s\tremaining: 2m 10s\n",
      "671:\tlearn: 0.9999173\ttest: 0.9851190\tbest: 0.9866071 (471)\ttotal: 4m 27s\tremaining: 2m 10s\n",
      "672:\tlearn: 0.9999173\ttest: 0.9851190\tbest: 0.9866071 (471)\ttotal: 4m 27s\tremaining: 2m 9s\n",
      "673:\tlearn: 0.9999173\ttest: 0.9851190\tbest: 0.9866071 (471)\ttotal: 4m 27s\tremaining: 2m 9s\n",
      "674:\tlearn: 0.9999173\ttest: 0.9851190\tbest: 0.9866071 (471)\ttotal: 4m 28s\tremaining: 2m 9s\n",
      "675:\tlearn: 0.9999173\ttest: 0.9851190\tbest: 0.9866071 (471)\ttotal: 4m 28s\tremaining: 2m 8s\n",
      "676:\tlearn: 0.9999173\ttest: 0.9851190\tbest: 0.9866071 (471)\ttotal: 4m 28s\tremaining: 2m 8s\n",
      "677:\tlearn: 0.9999173\ttest: 0.9851190\tbest: 0.9866071 (471)\ttotal: 4m 29s\tremaining: 2m 7s\n",
      "678:\tlearn: 0.9999173\ttest: 0.9851190\tbest: 0.9866071 (471)\ttotal: 4m 29s\tremaining: 2m 7s\n",
      "679:\tlearn: 0.9999173\ttest: 0.9851190\tbest: 0.9866071 (471)\ttotal: 4m 30s\tremaining: 2m 7s\n",
      "680:\tlearn: 0.9999173\ttest: 0.9851190\tbest: 0.9866071 (471)\ttotal: 4m 30s\tremaining: 2m 6s\n",
      "681:\tlearn: 0.9999173\ttest: 0.9851190\tbest: 0.9866071 (471)\ttotal: 4m 30s\tremaining: 2m 6s\n",
      "682:\tlearn: 0.9999173\ttest: 0.9851190\tbest: 0.9866071 (471)\ttotal: 4m 31s\tremaining: 2m 5s\n",
      "683:\tlearn: 0.9999173\ttest: 0.9851190\tbest: 0.9866071 (471)\ttotal: 4m 31s\tremaining: 2m 5s\n",
      "684:\tlearn: 0.9999173\ttest: 0.9851190\tbest: 0.9866071 (471)\ttotal: 4m 32s\tremaining: 2m 5s\n",
      "685:\tlearn: 0.9999173\ttest: 0.9851190\tbest: 0.9866071 (471)\ttotal: 4m 32s\tremaining: 2m 4s\n",
      "686:\tlearn: 0.9999173\ttest: 0.9851190\tbest: 0.9866071 (471)\ttotal: 4m 33s\tremaining: 2m 4s\n",
      "687:\tlearn: 0.9999173\ttest: 0.9851190\tbest: 0.9866071 (471)\ttotal: 4m 33s\tremaining: 2m 4s\n",
      "688:\tlearn: 0.9999173\ttest: 0.9851190\tbest: 0.9866071 (471)\ttotal: 4m 33s\tremaining: 2m 3s\n",
      "689:\tlearn: 0.9999173\ttest: 0.9851190\tbest: 0.9866071 (471)\ttotal: 4m 34s\tremaining: 2m 3s\n",
      "690:\tlearn: 0.9999173\ttest: 0.9851190\tbest: 0.9866071 (471)\ttotal: 4m 34s\tremaining: 2m 2s\n",
      "691:\tlearn: 0.9999173\ttest: 0.9851190\tbest: 0.9866071 (471)\ttotal: 4m 35s\tremaining: 2m 2s\n",
      "692:\tlearn: 0.9999173\ttest: 0.9851190\tbest: 0.9866071 (471)\ttotal: 4m 35s\tremaining: 2m 2s\n",
      "693:\tlearn: 0.9999173\ttest: 0.9851190\tbest: 0.9866071 (471)\ttotal: 4m 36s\tremaining: 2m 1s\n",
      "694:\tlearn: 0.9999173\ttest: 0.9851190\tbest: 0.9866071 (471)\ttotal: 4m 36s\tremaining: 2m 1s\n",
      "695:\tlearn: 0.9999173\ttest: 0.9851190\tbest: 0.9866071 (471)\ttotal: 4m 37s\tremaining: 2m 1s\n",
      "696:\tlearn: 0.9999173\ttest: 0.9851190\tbest: 0.9866071 (471)\ttotal: 4m 37s\tremaining: 2m\n",
      "697:\tlearn: 0.9999173\ttest: 0.9851190\tbest: 0.9866071 (471)\ttotal: 4m 37s\tremaining: 2m\n",
      "698:\tlearn: 0.9999173\ttest: 0.9851190\tbest: 0.9866071 (471)\ttotal: 4m 38s\tremaining: 1m 59s\n",
      "699:\tlearn: 0.9999173\ttest: 0.9851190\tbest: 0.9866071 (471)\ttotal: 4m 38s\tremaining: 1m 59s\n",
      "700:\tlearn: 0.9999173\ttest: 0.9851190\tbest: 0.9866071 (471)\ttotal: 4m 39s\tremaining: 1m 59s\n",
      "701:\tlearn: 0.9999173\ttest: 0.9851190\tbest: 0.9866071 (471)\ttotal: 4m 39s\tremaining: 1m 58s\n",
      "702:\tlearn: 0.9999173\ttest: 0.9851190\tbest: 0.9866071 (471)\ttotal: 4m 39s\tremaining: 1m 58s\n",
      "703:\tlearn: 0.9999173\ttest: 0.9851190\tbest: 0.9866071 (471)\ttotal: 4m 40s\tremaining: 1m 57s\n",
      "704:\tlearn: 0.9999173\ttest: 0.9851190\tbest: 0.9866071 (471)\ttotal: 4m 40s\tremaining: 1m 57s\n",
      "705:\tlearn: 0.9999173\ttest: 0.9851190\tbest: 0.9866071 (471)\ttotal: 4m 40s\tremaining: 1m 57s\n",
      "706:\tlearn: 0.9999173\ttest: 0.9851190\tbest: 0.9866071 (471)\ttotal: 4m 41s\tremaining: 1m 56s\n",
      "707:\tlearn: 0.9999173\ttest: 0.9851190\tbest: 0.9866071 (471)\ttotal: 4m 41s\tremaining: 1m 56s\n",
      "708:\tlearn: 0.9999173\ttest: 0.9851190\tbest: 0.9866071 (471)\ttotal: 4m 42s\tremaining: 1m 55s\n",
      "709:\tlearn: 0.9999173\ttest: 0.9851190\tbest: 0.9866071 (471)\ttotal: 4m 42s\tremaining: 1m 55s\n",
      "710:\tlearn: 0.9999173\ttest: 0.9851190\tbest: 0.9866071 (471)\ttotal: 4m 42s\tremaining: 1m 55s\n",
      "711:\tlearn: 0.9999173\ttest: 0.9858631\tbest: 0.9866071 (471)\ttotal: 4m 43s\tremaining: 1m 54s\n",
      "712:\tlearn: 0.9999173\ttest: 0.9866071\tbest: 0.9866071 (471)\ttotal: 4m 43s\tremaining: 1m 54s\n",
      "713:\tlearn: 0.9999173\ttest: 0.9858631\tbest: 0.9866071 (471)\ttotal: 4m 44s\tremaining: 1m 53s\n",
      "714:\tlearn: 0.9999173\ttest: 0.9858631\tbest: 0.9866071 (471)\ttotal: 4m 44s\tremaining: 1m 53s\n",
      "715:\tlearn: 0.9999173\ttest: 0.9858631\tbest: 0.9866071 (471)\ttotal: 4m 45s\tremaining: 1m 53s\n",
      "716:\tlearn: 0.9999173\ttest: 0.9866071\tbest: 0.9866071 (471)\ttotal: 4m 45s\tremaining: 1m 52s\n",
      "717:\tlearn: 0.9999173\ttest: 0.9866071\tbest: 0.9866071 (471)\ttotal: 4m 45s\tremaining: 1m 52s\n",
      "718:\tlearn: 0.9999173\ttest: 0.9866071\tbest: 0.9866071 (471)\ttotal: 4m 46s\tremaining: 1m 51s\n",
      "719:\tlearn: 0.9999173\ttest: 0.9866071\tbest: 0.9866071 (471)\ttotal: 4m 46s\tremaining: 1m 51s\n",
      "720:\tlearn: 0.9999173\ttest: 0.9866071\tbest: 0.9866071 (471)\ttotal: 4m 46s\tremaining: 1m 51s\n",
      "721:\tlearn: 0.9999173\ttest: 0.9866071\tbest: 0.9866071 (471)\ttotal: 4m 47s\tremaining: 1m 50s\n",
      "722:\tlearn: 0.9999173\ttest: 0.9866071\tbest: 0.9866071 (471)\ttotal: 4m 47s\tremaining: 1m 50s\n",
      "723:\tlearn: 0.9999173\ttest: 0.9866071\tbest: 0.9866071 (471)\ttotal: 4m 48s\tremaining: 1m 49s\n",
      "724:\tlearn: 0.9999173\ttest: 0.9866071\tbest: 0.9866071 (471)\ttotal: 4m 48s\tremaining: 1m 49s\n",
      "725:\tlearn: 0.9999173\ttest: 0.9866071\tbest: 0.9866071 (471)\ttotal: 4m 48s\tremaining: 1m 48s\n",
      "726:\tlearn: 0.9999173\ttest: 0.9851190\tbest: 0.9866071 (471)\ttotal: 4m 49s\tremaining: 1m 48s\n",
      "727:\tlearn: 0.9999173\ttest: 0.9851190\tbest: 0.9866071 (471)\ttotal: 4m 49s\tremaining: 1m 48s\n",
      "728:\tlearn: 0.9999173\ttest: 0.9858631\tbest: 0.9866071 (471)\ttotal: 4m 49s\tremaining: 1m 47s\n",
      "729:\tlearn: 0.9999173\ttest: 0.9858631\tbest: 0.9866071 (471)\ttotal: 4m 50s\tremaining: 1m 47s\n",
      "730:\tlearn: 0.9999173\ttest: 0.9858631\tbest: 0.9866071 (471)\ttotal: 4m 50s\tremaining: 1m 46s\n",
      "731:\tlearn: 0.9999173\ttest: 0.9851190\tbest: 0.9866071 (471)\ttotal: 4m 51s\tremaining: 1m 46s\n",
      "732:\tlearn: 0.9999173\ttest: 0.9851190\tbest: 0.9866071 (471)\ttotal: 4m 51s\tremaining: 1m 46s\n",
      "733:\tlearn: 0.9999173\ttest: 0.9851190\tbest: 0.9866071 (471)\ttotal: 4m 51s\tremaining: 1m 45s\n",
      "734:\tlearn: 0.9999173\ttest: 0.9851190\tbest: 0.9866071 (471)\ttotal: 4m 52s\tremaining: 1m 45s\n",
      "735:\tlearn: 0.9999173\ttest: 0.9851190\tbest: 0.9866071 (471)\ttotal: 4m 52s\tremaining: 1m 44s\n",
      "736:\tlearn: 0.9999173\ttest: 0.9851190\tbest: 0.9866071 (471)\ttotal: 4m 52s\tremaining: 1m 44s\n",
      "737:\tlearn: 0.9999173\ttest: 0.9851190\tbest: 0.9866071 (471)\ttotal: 4m 53s\tremaining: 1m 44s\n",
      "738:\tlearn: 0.9999173\ttest: 0.9851190\tbest: 0.9866071 (471)\ttotal: 4m 53s\tremaining: 1m 43s\n",
      "739:\tlearn: 0.9999173\ttest: 0.9851190\tbest: 0.9866071 (471)\ttotal: 4m 54s\tremaining: 1m 43s\n",
      "740:\tlearn: 0.9999173\ttest: 0.9851190\tbest: 0.9866071 (471)\ttotal: 4m 54s\tremaining: 1m 43s\n",
      "741:\tlearn: 0.9999173\ttest: 0.9851190\tbest: 0.9866071 (471)\ttotal: 4m 55s\tremaining: 1m 42s\n",
      "742:\tlearn: 0.9999173\ttest: 0.9858631\tbest: 0.9866071 (471)\ttotal: 4m 55s\tremaining: 1m 42s\n",
      "743:\tlearn: 0.9999173\ttest: 0.9858631\tbest: 0.9866071 (471)\ttotal: 4m 55s\tremaining: 1m 41s\n",
      "744:\tlearn: 0.9999173\ttest: 0.9858631\tbest: 0.9866071 (471)\ttotal: 4m 56s\tremaining: 1m 41s\n",
      "745:\tlearn: 0.9999173\ttest: 0.9858631\tbest: 0.9866071 (471)\ttotal: 4m 56s\tremaining: 1m 41s\n",
      "746:\tlearn: 0.9999173\ttest: 0.9851190\tbest: 0.9866071 (471)\ttotal: 4m 57s\tremaining: 1m 40s\n",
      "747:\tlearn: 0.9999173\ttest: 0.9851190\tbest: 0.9866071 (471)\ttotal: 4m 57s\tremaining: 1m 40s\n",
      "748:\tlearn: 0.9999173\ttest: 0.9851190\tbest: 0.9866071 (471)\ttotal: 4m 57s\tremaining: 1m 39s\n",
      "749:\tlearn: 0.9999173\ttest: 0.9851190\tbest: 0.9866071 (471)\ttotal: 4m 58s\tremaining: 1m 39s\n",
      "750:\tlearn: 0.9999173\ttest: 0.9851190\tbest: 0.9866071 (471)\ttotal: 4m 58s\tremaining: 1m 38s\n",
      "751:\tlearn: 0.9999173\ttest: 0.9851190\tbest: 0.9866071 (471)\ttotal: 4m 58s\tremaining: 1m 38s\n",
      "752:\tlearn: 0.9999173\ttest: 0.9851190\tbest: 0.9866071 (471)\ttotal: 4m 59s\tremaining: 1m 38s\n",
      "753:\tlearn: 0.9999173\ttest: 0.9851190\tbest: 0.9866071 (471)\ttotal: 4m 59s\tremaining: 1m 37s\n",
      "754:\tlearn: 0.9999173\ttest: 0.9851190\tbest: 0.9866071 (471)\ttotal: 5m\tremaining: 1m 37s\n",
      "755:\tlearn: 0.9999173\ttest: 0.9851190\tbest: 0.9866071 (471)\ttotal: 5m\tremaining: 1m 36s\n",
      "756:\tlearn: 0.9999173\ttest: 0.9851190\tbest: 0.9866071 (471)\ttotal: 5m\tremaining: 1m 36s\n",
      "757:\tlearn: 0.9999173\ttest: 0.9851190\tbest: 0.9866071 (471)\ttotal: 5m 1s\tremaining: 1m 36s\n",
      "758:\tlearn: 0.9999173\ttest: 0.9851190\tbest: 0.9866071 (471)\ttotal: 5m 1s\tremaining: 1m 35s\n",
      "759:\tlearn: 0.9999173\ttest: 0.9851190\tbest: 0.9866071 (471)\ttotal: 5m 1s\tremaining: 1m 35s\n",
      "760:\tlearn: 0.9999173\ttest: 0.9851190\tbest: 0.9866071 (471)\ttotal: 5m 2s\tremaining: 1m 34s\n",
      "761:\tlearn: 0.9999173\ttest: 0.9851190\tbest: 0.9866071 (471)\ttotal: 5m 2s\tremaining: 1m 34s\n",
      "762:\tlearn: 0.9999173\ttest: 0.9851190\tbest: 0.9866071 (471)\ttotal: 5m 3s\tremaining: 1m 34s\n",
      "763:\tlearn: 0.9999173\ttest: 0.9851190\tbest: 0.9866071 (471)\ttotal: 5m 3s\tremaining: 1m 33s\n",
      "764:\tlearn: 0.9999173\ttest: 0.9851190\tbest: 0.9866071 (471)\ttotal: 5m 3s\tremaining: 1m 33s\n",
      "765:\tlearn: 0.9999173\ttest: 0.9851190\tbest: 0.9866071 (471)\ttotal: 5m 4s\tremaining: 1m 32s\n",
      "766:\tlearn: 0.9999173\ttest: 0.9851190\tbest: 0.9866071 (471)\ttotal: 5m 4s\tremaining: 1m 32s\n",
      "767:\tlearn: 0.9999173\ttest: 0.9851190\tbest: 0.9866071 (471)\ttotal: 5m 5s\tremaining: 1m 32s\n",
      "768:\tlearn: 0.9999173\ttest: 0.9858631\tbest: 0.9866071 (471)\ttotal: 5m 5s\tremaining: 1m 31s\n",
      "769:\tlearn: 0.9999173\ttest: 0.9858631\tbest: 0.9866071 (471)\ttotal: 5m 6s\tremaining: 1m 31s\n",
      "770:\tlearn: 0.9999173\ttest: 0.9858631\tbest: 0.9866071 (471)\ttotal: 5m 6s\tremaining: 1m 31s\n",
      "771:\tlearn: 0.9999173\ttest: 0.9858631\tbest: 0.9866071 (471)\ttotal: 5m 6s\tremaining: 1m 30s\n",
      "772:\tlearn: 0.9999173\ttest: 0.9858631\tbest: 0.9866071 (471)\ttotal: 5m 7s\tremaining: 1m 30s\n",
      "773:\tlearn: 0.9999173\ttest: 0.9858631\tbest: 0.9866071 (471)\ttotal: 5m 7s\tremaining: 1m 29s\n",
      "774:\tlearn: 0.9999173\ttest: 0.9858631\tbest: 0.9866071 (471)\ttotal: 5m 8s\tremaining: 1m 29s\n",
      "775:\tlearn: 0.9999173\ttest: 0.9858631\tbest: 0.9866071 (471)\ttotal: 5m 9s\tremaining: 1m 29s\n",
      "776:\tlearn: 0.9999173\ttest: 0.9858631\tbest: 0.9866071 (471)\ttotal: 5m 9s\tremaining: 1m 28s\n",
      "777:\tlearn: 0.9999173\ttest: 0.9858631\tbest: 0.9866071 (471)\ttotal: 5m 9s\tremaining: 1m 28s\n",
      "778:\tlearn: 0.9999173\ttest: 0.9858631\tbest: 0.9866071 (471)\ttotal: 5m 10s\tremaining: 1m 28s\n",
      "779:\tlearn: 0.9999173\ttest: 0.9858631\tbest: 0.9866071 (471)\ttotal: 5m 10s\tremaining: 1m 27s\n",
      "780:\tlearn: 0.9999173\ttest: 0.9858631\tbest: 0.9866071 (471)\ttotal: 5m 10s\tremaining: 1m 27s\n",
      "781:\tlearn: 0.9999173\ttest: 0.9858631\tbest: 0.9866071 (471)\ttotal: 5m 11s\tremaining: 1m 26s\n",
      "782:\tlearn: 0.9999173\ttest: 0.9858631\tbest: 0.9866071 (471)\ttotal: 5m 11s\tremaining: 1m 26s\n",
      "783:\tlearn: 0.9999173\ttest: 0.9858631\tbest: 0.9866071 (471)\ttotal: 5m 12s\tremaining: 1m 25s\n",
      "784:\tlearn: 1.0000000\ttest: 0.9858631\tbest: 0.9866071 (471)\ttotal: 5m 12s\tremaining: 1m 25s\n",
      "785:\tlearn: 1.0000000\ttest: 0.9866071\tbest: 0.9866071 (471)\ttotal: 5m 12s\tremaining: 1m 25s\n",
      "786:\tlearn: 1.0000000\ttest: 0.9866071\tbest: 0.9866071 (471)\ttotal: 5m 13s\tremaining: 1m 24s\n",
      "787:\tlearn: 1.0000000\ttest: 0.9866071\tbest: 0.9866071 (471)\ttotal: 5m 13s\tremaining: 1m 24s\n",
      "788:\tlearn: 1.0000000\ttest: 0.9866071\tbest: 0.9866071 (471)\ttotal: 5m 13s\tremaining: 1m 23s\n",
      "789:\tlearn: 1.0000000\ttest: 0.9866071\tbest: 0.9866071 (471)\ttotal: 5m 14s\tremaining: 1m 23s\n",
      "790:\tlearn: 1.0000000\ttest: 0.9866071\tbest: 0.9866071 (471)\ttotal: 5m 14s\tremaining: 1m 23s\n",
      "791:\tlearn: 1.0000000\ttest: 0.9866071\tbest: 0.9866071 (471)\ttotal: 5m 15s\tremaining: 1m 22s\n",
      "792:\tlearn: 1.0000000\ttest: 0.9866071\tbest: 0.9866071 (471)\ttotal: 5m 15s\tremaining: 1m 22s\n",
      "793:\tlearn: 1.0000000\ttest: 0.9866071\tbest: 0.9866071 (471)\ttotal: 5m 15s\tremaining: 1m 21s\n",
      "794:\tlearn: 1.0000000\ttest: 0.9866071\tbest: 0.9866071 (471)\ttotal: 5m 16s\tremaining: 1m 21s\n",
      "795:\tlearn: 1.0000000\ttest: 0.9866071\tbest: 0.9866071 (471)\ttotal: 5m 16s\tremaining: 1m 21s\n",
      "796:\tlearn: 1.0000000\ttest: 0.9858631\tbest: 0.9866071 (471)\ttotal: 5m 17s\tremaining: 1m 20s\n",
      "797:\tlearn: 1.0000000\ttest: 0.9866071\tbest: 0.9866071 (471)\ttotal: 5m 17s\tremaining: 1m 20s\n",
      "798:\tlearn: 1.0000000\ttest: 0.9866071\tbest: 0.9866071 (471)\ttotal: 5m 18s\tremaining: 1m 20s\n",
      "799:\tlearn: 1.0000000\ttest: 0.9866071\tbest: 0.9866071 (471)\ttotal: 5m 18s\tremaining: 1m 19s\n",
      "800:\tlearn: 1.0000000\ttest: 0.9866071\tbest: 0.9866071 (471)\ttotal: 5m 18s\tremaining: 1m 19s\n",
      "801:\tlearn: 1.0000000\ttest: 0.9866071\tbest: 0.9866071 (471)\ttotal: 5m 19s\tremaining: 1m 18s\n",
      "802:\tlearn: 1.0000000\ttest: 0.9866071\tbest: 0.9866071 (471)\ttotal: 5m 19s\tremaining: 1m 18s\n",
      "803:\tlearn: 1.0000000\ttest: 0.9866071\tbest: 0.9866071 (471)\ttotal: 5m 19s\tremaining: 1m 17s\n",
      "804:\tlearn: 1.0000000\ttest: 0.9866071\tbest: 0.9866071 (471)\ttotal: 5m 20s\tremaining: 1m 17s\n",
      "805:\tlearn: 1.0000000\ttest: 0.9873512\tbest: 0.9873512 (805)\ttotal: 5m 20s\tremaining: 1m 17s\n",
      "806:\tlearn: 1.0000000\ttest: 0.9880952\tbest: 0.9880952 (806)\ttotal: 5m 21s\tremaining: 1m 16s\n",
      "807:\tlearn: 1.0000000\ttest: 0.9873512\tbest: 0.9880952 (806)\ttotal: 5m 21s\tremaining: 1m 16s\n",
      "808:\tlearn: 1.0000000\ttest: 0.9873512\tbest: 0.9880952 (806)\ttotal: 5m 21s\tremaining: 1m 15s\n",
      "809:\tlearn: 1.0000000\ttest: 0.9873512\tbest: 0.9880952 (806)\ttotal: 5m 22s\tremaining: 1m 15s\n",
      "810:\tlearn: 1.0000000\ttest: 0.9866071\tbest: 0.9880952 (806)\ttotal: 5m 22s\tremaining: 1m 15s\n",
      "811:\tlearn: 1.0000000\ttest: 0.9866071\tbest: 0.9880952 (806)\ttotal: 5m 22s\tremaining: 1m 14s\n",
      "812:\tlearn: 1.0000000\ttest: 0.9866071\tbest: 0.9880952 (806)\ttotal: 5m 23s\tremaining: 1m 14s\n",
      "813:\tlearn: 1.0000000\ttest: 0.9866071\tbest: 0.9880952 (806)\ttotal: 5m 23s\tremaining: 1m 13s\n",
      "814:\tlearn: 1.0000000\ttest: 0.9866071\tbest: 0.9880952 (806)\ttotal: 5m 24s\tremaining: 1m 13s\n",
      "815:\tlearn: 1.0000000\ttest: 0.9866071\tbest: 0.9880952 (806)\ttotal: 5m 24s\tremaining: 1m 13s\n",
      "816:\tlearn: 1.0000000\ttest: 0.9866071\tbest: 0.9880952 (806)\ttotal: 5m 24s\tremaining: 1m 12s\n",
      "817:\tlearn: 1.0000000\ttest: 0.9866071\tbest: 0.9880952 (806)\ttotal: 5m 25s\tremaining: 1m 12s\n",
      "818:\tlearn: 1.0000000\ttest: 0.9873512\tbest: 0.9880952 (806)\ttotal: 5m 25s\tremaining: 1m 11s\n",
      "819:\tlearn: 1.0000000\ttest: 0.9866071\tbest: 0.9880952 (806)\ttotal: 5m 25s\tremaining: 1m 11s\n",
      "820:\tlearn: 1.0000000\ttest: 0.9873512\tbest: 0.9880952 (806)\ttotal: 5m 26s\tremaining: 1m 11s\n",
      "821:\tlearn: 1.0000000\ttest: 0.9873512\tbest: 0.9880952 (806)\ttotal: 5m 26s\tremaining: 1m 10s\n",
      "822:\tlearn: 1.0000000\ttest: 0.9873512\tbest: 0.9880952 (806)\ttotal: 5m 27s\tremaining: 1m 10s\n",
      "823:\tlearn: 1.0000000\ttest: 0.9873512\tbest: 0.9880952 (806)\ttotal: 5m 27s\tremaining: 1m 10s\n",
      "824:\tlearn: 1.0000000\ttest: 0.9873512\tbest: 0.9880952 (806)\ttotal: 5m 28s\tremaining: 1m 9s\n",
      "825:\tlearn: 1.0000000\ttest: 0.9873512\tbest: 0.9880952 (806)\ttotal: 5m 28s\tremaining: 1m 9s\n",
      "826:\tlearn: 1.0000000\ttest: 0.9873512\tbest: 0.9880952 (806)\ttotal: 5m 28s\tremaining: 1m 8s\n",
      "827:\tlearn: 1.0000000\ttest: 0.9873512\tbest: 0.9880952 (806)\ttotal: 5m 29s\tremaining: 1m 8s\n",
      "828:\tlearn: 1.0000000\ttest: 0.9873512\tbest: 0.9880952 (806)\ttotal: 5m 29s\tremaining: 1m 8s\n",
      "829:\tlearn: 1.0000000\ttest: 0.9873512\tbest: 0.9880952 (806)\ttotal: 5m 30s\tremaining: 1m 7s\n",
      "830:\tlearn: 1.0000000\ttest: 0.9873512\tbest: 0.9880952 (806)\ttotal: 5m 30s\tremaining: 1m 7s\n",
      "831:\tlearn: 1.0000000\ttest: 0.9873512\tbest: 0.9880952 (806)\ttotal: 5m 30s\tremaining: 1m 6s\n",
      "832:\tlearn: 1.0000000\ttest: 0.9880952\tbest: 0.9880952 (806)\ttotal: 5m 31s\tremaining: 1m 6s\n",
      "833:\tlearn: 1.0000000\ttest: 0.9880952\tbest: 0.9880952 (806)\ttotal: 5m 31s\tremaining: 1m 6s\n",
      "834:\tlearn: 1.0000000\ttest: 0.9880952\tbest: 0.9880952 (806)\ttotal: 5m 31s\tremaining: 1m 5s\n",
      "835:\tlearn: 1.0000000\ttest: 0.9880952\tbest: 0.9880952 (806)\ttotal: 5m 32s\tremaining: 1m 5s\n",
      "836:\tlearn: 1.0000000\ttest: 0.9880952\tbest: 0.9880952 (806)\ttotal: 5m 32s\tremaining: 1m 4s\n",
      "837:\tlearn: 1.0000000\ttest: 0.9880952\tbest: 0.9880952 (806)\ttotal: 5m 33s\tremaining: 1m 4s\n",
      "838:\tlearn: 1.0000000\ttest: 0.9880952\tbest: 0.9880952 (806)\ttotal: 5m 33s\tremaining: 1m 3s\n",
      "839:\tlearn: 1.0000000\ttest: 0.9880952\tbest: 0.9880952 (806)\ttotal: 5m 33s\tremaining: 1m 3s\n",
      "840:\tlearn: 1.0000000\ttest: 0.9880952\tbest: 0.9880952 (806)\ttotal: 5m 34s\tremaining: 1m 3s\n",
      "841:\tlearn: 1.0000000\ttest: 0.9880952\tbest: 0.9880952 (806)\ttotal: 5m 34s\tremaining: 1m 2s\n",
      "842:\tlearn: 1.0000000\ttest: 0.9880952\tbest: 0.9880952 (806)\ttotal: 5m 34s\tremaining: 1m 2s\n",
      "843:\tlearn: 1.0000000\ttest: 0.9873512\tbest: 0.9880952 (806)\ttotal: 5m 35s\tremaining: 1m 1s\n",
      "844:\tlearn: 1.0000000\ttest: 0.9873512\tbest: 0.9880952 (806)\ttotal: 5m 35s\tremaining: 1m 1s\n",
      "845:\tlearn: 1.0000000\ttest: 0.9873512\tbest: 0.9880952 (806)\ttotal: 5m 36s\tremaining: 1m 1s\n",
      "846:\tlearn: 1.0000000\ttest: 0.9873512\tbest: 0.9880952 (806)\ttotal: 5m 36s\tremaining: 1m\n",
      "847:\tlearn: 1.0000000\ttest: 0.9873512\tbest: 0.9880952 (806)\ttotal: 5m 37s\tremaining: 1m\n",
      "848:\tlearn: 1.0000000\ttest: 0.9880952\tbest: 0.9880952 (806)\ttotal: 5m 37s\tremaining: 1m\n",
      "849:\tlearn: 1.0000000\ttest: 0.9873512\tbest: 0.9880952 (806)\ttotal: 5m 38s\tremaining: 59.7s\n",
      "850:\tlearn: 1.0000000\ttest: 0.9873512\tbest: 0.9880952 (806)\ttotal: 5m 38s\tremaining: 59.3s\n",
      "851:\tlearn: 1.0000000\ttest: 0.9873512\tbest: 0.9880952 (806)\ttotal: 5m 38s\tremaining: 58.9s\n",
      "852:\tlearn: 1.0000000\ttest: 0.9880952\tbest: 0.9880952 (806)\ttotal: 5m 39s\tremaining: 58.5s\n",
      "853:\tlearn: 1.0000000\ttest: 0.9880952\tbest: 0.9880952 (806)\ttotal: 5m 39s\tremaining: 58.1s\n",
      "854:\tlearn: 1.0000000\ttest: 0.9873512\tbest: 0.9880952 (806)\ttotal: 5m 40s\tremaining: 57.7s\n",
      "855:\tlearn: 1.0000000\ttest: 0.9873512\tbest: 0.9880952 (806)\ttotal: 5m 41s\tremaining: 57.4s\n",
      "856:\tlearn: 1.0000000\ttest: 0.9880952\tbest: 0.9880952 (806)\ttotal: 5m 41s\tremaining: 57s\n",
      "857:\tlearn: 1.0000000\ttest: 0.9880952\tbest: 0.9880952 (806)\ttotal: 5m 41s\tremaining: 56.6s\n",
      "858:\tlearn: 1.0000000\ttest: 0.9880952\tbest: 0.9880952 (806)\ttotal: 5m 42s\tremaining: 56.2s\n",
      "859:\tlearn: 1.0000000\ttest: 0.9880952\tbest: 0.9880952 (806)\ttotal: 5m 42s\tremaining: 55.8s\n",
      "860:\tlearn: 1.0000000\ttest: 0.9880952\tbest: 0.9880952 (806)\ttotal: 5m 43s\tremaining: 55.4s\n",
      "861:\tlearn: 1.0000000\ttest: 0.9880952\tbest: 0.9880952 (806)\ttotal: 5m 43s\tremaining: 55s\n",
      "862:\tlearn: 1.0000000\ttest: 0.9880952\tbest: 0.9880952 (806)\ttotal: 5m 43s\tremaining: 54.6s\n",
      "863:\tlearn: 1.0000000\ttest: 0.9880952\tbest: 0.9880952 (806)\ttotal: 5m 44s\tremaining: 54.2s\n",
      "864:\tlearn: 1.0000000\ttest: 0.9880952\tbest: 0.9880952 (806)\ttotal: 5m 44s\tremaining: 53.8s\n",
      "865:\tlearn: 1.0000000\ttest: 0.9880952\tbest: 0.9880952 (806)\ttotal: 5m 44s\tremaining: 53.4s\n",
      "866:\tlearn: 1.0000000\ttest: 0.9880952\tbest: 0.9880952 (806)\ttotal: 5m 45s\tremaining: 53s\n",
      "867:\tlearn: 1.0000000\ttest: 0.9873512\tbest: 0.9880952 (806)\ttotal: 5m 45s\tremaining: 52.6s\n",
      "868:\tlearn: 1.0000000\ttest: 0.9873512\tbest: 0.9880952 (806)\ttotal: 5m 46s\tremaining: 52.2s\n",
      "869:\tlearn: 1.0000000\ttest: 0.9873512\tbest: 0.9880952 (806)\ttotal: 5m 46s\tremaining: 51.8s\n",
      "870:\tlearn: 1.0000000\ttest: 0.9873512\tbest: 0.9880952 (806)\ttotal: 5m 46s\tremaining: 51.4s\n",
      "871:\tlearn: 1.0000000\ttest: 0.9873512\tbest: 0.9880952 (806)\ttotal: 5m 47s\tremaining: 51s\n",
      "872:\tlearn: 1.0000000\ttest: 0.9873512\tbest: 0.9880952 (806)\ttotal: 5m 47s\tremaining: 50.6s\n",
      "873:\tlearn: 1.0000000\ttest: 0.9873512\tbest: 0.9880952 (806)\ttotal: 5m 47s\tremaining: 50.2s\n",
      "874:\tlearn: 1.0000000\ttest: 0.9873512\tbest: 0.9880952 (806)\ttotal: 5m 48s\tremaining: 49.8s\n",
      "875:\tlearn: 1.0000000\ttest: 0.9873512\tbest: 0.9880952 (806)\ttotal: 5m 48s\tremaining: 49.4s\n",
      "876:\tlearn: 1.0000000\ttest: 0.9873512\tbest: 0.9880952 (806)\ttotal: 5m 49s\tremaining: 49s\n",
      "877:\tlearn: 1.0000000\ttest: 0.9873512\tbest: 0.9880952 (806)\ttotal: 5m 49s\tremaining: 48.6s\n",
      "878:\tlearn: 1.0000000\ttest: 0.9873512\tbest: 0.9880952 (806)\ttotal: 5m 50s\tremaining: 48.2s\n",
      "879:\tlearn: 1.0000000\ttest: 0.9873512\tbest: 0.9880952 (806)\ttotal: 5m 50s\tremaining: 47.8s\n",
      "880:\tlearn: 1.0000000\ttest: 0.9873512\tbest: 0.9880952 (806)\ttotal: 5m 50s\tremaining: 47.4s\n",
      "881:\tlearn: 1.0000000\ttest: 0.9873512\tbest: 0.9880952 (806)\ttotal: 5m 51s\tremaining: 47s\n",
      "882:\tlearn: 1.0000000\ttest: 0.9873512\tbest: 0.9880952 (806)\ttotal: 5m 51s\tremaining: 46.6s\n",
      "883:\tlearn: 1.0000000\ttest: 0.9873512\tbest: 0.9880952 (806)\ttotal: 5m 52s\tremaining: 46.2s\n",
      "884:\tlearn: 1.0000000\ttest: 0.9873512\tbest: 0.9880952 (806)\ttotal: 5m 52s\tremaining: 45.8s\n",
      "885:\tlearn: 1.0000000\ttest: 0.9880952\tbest: 0.9880952 (806)\ttotal: 5m 52s\tremaining: 45.4s\n",
      "886:\tlearn: 1.0000000\ttest: 0.9880952\tbest: 0.9880952 (806)\ttotal: 5m 53s\tremaining: 45s\n",
      "887:\tlearn: 1.0000000\ttest: 0.9880952\tbest: 0.9880952 (806)\ttotal: 5m 53s\tremaining: 44.6s\n",
      "888:\tlearn: 1.0000000\ttest: 0.9880952\tbest: 0.9880952 (806)\ttotal: 5m 53s\tremaining: 44.2s\n",
      "889:\tlearn: 1.0000000\ttest: 0.9880952\tbest: 0.9880952 (806)\ttotal: 5m 54s\tremaining: 43.8s\n",
      "890:\tlearn: 1.0000000\ttest: 0.9880952\tbest: 0.9880952 (806)\ttotal: 5m 54s\tremaining: 43.4s\n",
      "891:\tlearn: 1.0000000\ttest: 0.9880952\tbest: 0.9880952 (806)\ttotal: 5m 55s\tremaining: 43s\n",
      "892:\tlearn: 1.0000000\ttest: 0.9880952\tbest: 0.9880952 (806)\ttotal: 5m 55s\tremaining: 42.6s\n",
      "893:\tlearn: 1.0000000\ttest: 0.9880952\tbest: 0.9880952 (806)\ttotal: 5m 55s\tremaining: 42.2s\n",
      "894:\tlearn: 1.0000000\ttest: 0.9880952\tbest: 0.9880952 (806)\ttotal: 5m 56s\tremaining: 41.8s\n",
      "895:\tlearn: 1.0000000\ttest: 0.9880952\tbest: 0.9880952 (806)\ttotal: 5m 56s\tremaining: 41.4s\n",
      "896:\tlearn: 1.0000000\ttest: 0.9880952\tbest: 0.9880952 (806)\ttotal: 5m 56s\tremaining: 41s\n",
      "897:\tlearn: 1.0000000\ttest: 0.9873512\tbest: 0.9880952 (806)\ttotal: 5m 57s\tremaining: 40.6s\n",
      "898:\tlearn: 1.0000000\ttest: 0.9873512\tbest: 0.9880952 (806)\ttotal: 5m 57s\tremaining: 40.2s\n",
      "899:\tlearn: 1.0000000\ttest: 0.9873512\tbest: 0.9880952 (806)\ttotal: 5m 58s\tremaining: 39.8s\n",
      "900:\tlearn: 1.0000000\ttest: 0.9873512\tbest: 0.9880952 (806)\ttotal: 5m 58s\tremaining: 39.4s\n",
      "901:\tlearn: 1.0000000\ttest: 0.9880952\tbest: 0.9880952 (806)\ttotal: 5m 58s\tremaining: 39s\n",
      "902:\tlearn: 1.0000000\ttest: 0.9880952\tbest: 0.9880952 (806)\ttotal: 5m 59s\tremaining: 38.6s\n",
      "903:\tlearn: 1.0000000\ttest: 0.9873512\tbest: 0.9880952 (806)\ttotal: 5m 59s\tremaining: 38.2s\n",
      "904:\tlearn: 1.0000000\ttest: 0.9873512\tbest: 0.9880952 (806)\ttotal: 6m\tremaining: 37.8s\n",
      "905:\tlearn: 1.0000000\ttest: 0.9880952\tbest: 0.9880952 (806)\ttotal: 6m\tremaining: 37.4s\n",
      "906:\tlearn: 1.0000000\ttest: 0.9880952\tbest: 0.9880952 (806)\ttotal: 6m\tremaining: 37s\n",
      "907:\tlearn: 1.0000000\ttest: 0.9880952\tbest: 0.9880952 (806)\ttotal: 6m 1s\tremaining: 36.6s\n",
      "908:\tlearn: 1.0000000\ttest: 0.9880952\tbest: 0.9880952 (806)\ttotal: 6m 1s\tremaining: 36.2s\n",
      "909:\tlearn: 1.0000000\ttest: 0.9880952\tbest: 0.9880952 (806)\ttotal: 6m 2s\tremaining: 35.8s\n",
      "910:\tlearn: 1.0000000\ttest: 0.9873512\tbest: 0.9880952 (806)\ttotal: 6m 2s\tremaining: 35.4s\n",
      "911:\tlearn: 1.0000000\ttest: 0.9873512\tbest: 0.9880952 (806)\ttotal: 6m 2s\tremaining: 35s\n",
      "912:\tlearn: 1.0000000\ttest: 0.9873512\tbest: 0.9880952 (806)\ttotal: 6m 3s\tremaining: 34.6s\n",
      "913:\tlearn: 1.0000000\ttest: 0.9880952\tbest: 0.9880952 (806)\ttotal: 6m 3s\tremaining: 34.2s\n",
      "914:\tlearn: 1.0000000\ttest: 0.9880952\tbest: 0.9880952 (806)\ttotal: 6m 3s\tremaining: 33.8s\n",
      "915:\tlearn: 1.0000000\ttest: 0.9880952\tbest: 0.9880952 (806)\ttotal: 6m 4s\tremaining: 33.4s\n",
      "916:\tlearn: 1.0000000\ttest: 0.9880952\tbest: 0.9880952 (806)\ttotal: 6m 4s\tremaining: 33s\n",
      "917:\tlearn: 1.0000000\ttest: 0.9880952\tbest: 0.9880952 (806)\ttotal: 6m 5s\tremaining: 32.6s\n",
      "918:\tlearn: 1.0000000\ttest: 0.9880952\tbest: 0.9880952 (806)\ttotal: 6m 5s\tremaining: 32.2s\n",
      "919:\tlearn: 1.0000000\ttest: 0.9880952\tbest: 0.9880952 (806)\ttotal: 6m 5s\tremaining: 31.8s\n",
      "920:\tlearn: 1.0000000\ttest: 0.9880952\tbest: 0.9880952 (806)\ttotal: 6m 6s\tremaining: 31.4s\n",
      "921:\tlearn: 1.0000000\ttest: 0.9880952\tbest: 0.9880952 (806)\ttotal: 6m 6s\tremaining: 31s\n",
      "922:\tlearn: 1.0000000\ttest: 0.9880952\tbest: 0.9880952 (806)\ttotal: 6m 7s\tremaining: 30.6s\n",
      "923:\tlearn: 1.0000000\ttest: 0.9880952\tbest: 0.9880952 (806)\ttotal: 6m 7s\tremaining: 30.2s\n",
      "924:\tlearn: 1.0000000\ttest: 0.9880952\tbest: 0.9880952 (806)\ttotal: 6m 7s\tremaining: 29.8s\n",
      "925:\tlearn: 1.0000000\ttest: 0.9880952\tbest: 0.9880952 (806)\ttotal: 6m 8s\tremaining: 29.4s\n",
      "926:\tlearn: 1.0000000\ttest: 0.9880952\tbest: 0.9880952 (806)\ttotal: 6m 8s\tremaining: 29s\n",
      "927:\tlearn: 1.0000000\ttest: 0.9880952\tbest: 0.9880952 (806)\ttotal: 6m 9s\tremaining: 28.6s\n",
      "928:\tlearn: 1.0000000\ttest: 0.9880952\tbest: 0.9880952 (806)\ttotal: 6m 9s\tremaining: 28.2s\n",
      "929:\tlearn: 1.0000000\ttest: 0.9880952\tbest: 0.9880952 (806)\ttotal: 6m 9s\tremaining: 27.8s\n",
      "930:\tlearn: 1.0000000\ttest: 0.9880952\tbest: 0.9880952 (806)\ttotal: 6m 10s\tremaining: 27.4s\n",
      "931:\tlearn: 1.0000000\ttest: 0.9880952\tbest: 0.9880952 (806)\ttotal: 6m 10s\tremaining: 27s\n",
      "932:\tlearn: 1.0000000\ttest: 0.9880952\tbest: 0.9880952 (806)\ttotal: 6m 11s\tremaining: 26.7s\n",
      "933:\tlearn: 1.0000000\ttest: 0.9880952\tbest: 0.9880952 (806)\ttotal: 6m 11s\tremaining: 26.3s\n",
      "934:\tlearn: 1.0000000\ttest: 0.9880952\tbest: 0.9880952 (806)\ttotal: 6m 12s\tremaining: 25.9s\n",
      "935:\tlearn: 1.0000000\ttest: 0.9880952\tbest: 0.9880952 (806)\ttotal: 6m 12s\tremaining: 25.5s\n",
      "936:\tlearn: 1.0000000\ttest: 0.9880952\tbest: 0.9880952 (806)\ttotal: 6m 13s\tremaining: 25.1s\n",
      "937:\tlearn: 1.0000000\ttest: 0.9880952\tbest: 0.9880952 (806)\ttotal: 6m 13s\tremaining: 24.7s\n",
      "938:\tlearn: 1.0000000\ttest: 0.9880952\tbest: 0.9880952 (806)\ttotal: 6m 14s\tremaining: 24.3s\n",
      "939:\tlearn: 1.0000000\ttest: 0.9880952\tbest: 0.9880952 (806)\ttotal: 6m 14s\tremaining: 23.9s\n",
      "940:\tlearn: 1.0000000\ttest: 0.9880952\tbest: 0.9880952 (806)\ttotal: 6m 14s\tremaining: 23.5s\n",
      "941:\tlearn: 1.0000000\ttest: 0.9880952\tbest: 0.9880952 (806)\ttotal: 6m 15s\tremaining: 23.1s\n",
      "942:\tlearn: 1.0000000\ttest: 0.9880952\tbest: 0.9880952 (806)\ttotal: 6m 15s\tremaining: 22.7s\n",
      "943:\tlearn: 1.0000000\ttest: 0.9880952\tbest: 0.9880952 (806)\ttotal: 6m 16s\tremaining: 22.3s\n",
      "944:\tlearn: 1.0000000\ttest: 0.9880952\tbest: 0.9880952 (806)\ttotal: 6m 16s\tremaining: 21.9s\n",
      "945:\tlearn: 1.0000000\ttest: 0.9880952\tbest: 0.9880952 (806)\ttotal: 6m 16s\tremaining: 21.5s\n",
      "946:\tlearn: 1.0000000\ttest: 0.9880952\tbest: 0.9880952 (806)\ttotal: 6m 17s\tremaining: 21.1s\n",
      "947:\tlearn: 1.0000000\ttest: 0.9880952\tbest: 0.9880952 (806)\ttotal: 6m 17s\tremaining: 20.7s\n",
      "948:\tlearn: 1.0000000\ttest: 0.9880952\tbest: 0.9880952 (806)\ttotal: 6m 17s\tremaining: 20.3s\n",
      "949:\tlearn: 1.0000000\ttest: 0.9880952\tbest: 0.9880952 (806)\ttotal: 6m 18s\tremaining: 19.9s\n",
      "950:\tlearn: 1.0000000\ttest: 0.9880952\tbest: 0.9880952 (806)\ttotal: 6m 18s\tremaining: 19.5s\n",
      "951:\tlearn: 1.0000000\ttest: 0.9880952\tbest: 0.9880952 (806)\ttotal: 6m 19s\tremaining: 19.1s\n",
      "952:\tlearn: 1.0000000\ttest: 0.9880952\tbest: 0.9880952 (806)\ttotal: 6m 19s\tremaining: 18.7s\n",
      "953:\tlearn: 1.0000000\ttest: 0.9880952\tbest: 0.9880952 (806)\ttotal: 6m 19s\tremaining: 18.3s\n",
      "954:\tlearn: 1.0000000\ttest: 0.9880952\tbest: 0.9880952 (806)\ttotal: 6m 20s\tremaining: 17.9s\n",
      "955:\tlearn: 1.0000000\ttest: 0.9880952\tbest: 0.9880952 (806)\ttotal: 6m 20s\tremaining: 17.5s\n",
      "956:\tlearn: 1.0000000\ttest: 0.9880952\tbest: 0.9880952 (806)\ttotal: 6m 21s\tremaining: 17.1s\n",
      "957:\tlearn: 1.0000000\ttest: 0.9880952\tbest: 0.9880952 (806)\ttotal: 6m 21s\tremaining: 16.7s\n",
      "958:\tlearn: 1.0000000\ttest: 0.9880952\tbest: 0.9880952 (806)\ttotal: 6m 21s\tremaining: 16.3s\n",
      "959:\tlearn: 1.0000000\ttest: 0.9880952\tbest: 0.9880952 (806)\ttotal: 6m 22s\tremaining: 15.9s\n",
      "960:\tlearn: 1.0000000\ttest: 0.9880952\tbest: 0.9880952 (806)\ttotal: 6m 22s\tremaining: 15.5s\n",
      "961:\tlearn: 1.0000000\ttest: 0.9880952\tbest: 0.9880952 (806)\ttotal: 6m 23s\tremaining: 15.1s\n",
      "962:\tlearn: 1.0000000\ttest: 0.9880952\tbest: 0.9880952 (806)\ttotal: 6m 23s\tremaining: 14.7s\n",
      "963:\tlearn: 1.0000000\ttest: 0.9880952\tbest: 0.9880952 (806)\ttotal: 6m 24s\tremaining: 14.3s\n",
      "964:\tlearn: 1.0000000\ttest: 0.9880952\tbest: 0.9880952 (806)\ttotal: 6m 24s\tremaining: 13.9s\n",
      "965:\tlearn: 1.0000000\ttest: 0.9880952\tbest: 0.9880952 (806)\ttotal: 6m 24s\tremaining: 13.5s\n",
      "966:\tlearn: 1.0000000\ttest: 0.9880952\tbest: 0.9880952 (806)\ttotal: 6m 25s\tremaining: 13.1s\n",
      "967:\tlearn: 1.0000000\ttest: 0.9880952\tbest: 0.9880952 (806)\ttotal: 6m 25s\tremaining: 12.7s\n",
      "968:\tlearn: 1.0000000\ttest: 0.9880952\tbest: 0.9880952 (806)\ttotal: 6m 25s\tremaining: 12.3s\n",
      "969:\tlearn: 1.0000000\ttest: 0.9880952\tbest: 0.9880952 (806)\ttotal: 6m 26s\tremaining: 11.9s\n",
      "970:\tlearn: 1.0000000\ttest: 0.9880952\tbest: 0.9880952 (806)\ttotal: 6m 26s\tremaining: 11.5s\n",
      "971:\tlearn: 1.0000000\ttest: 0.9880952\tbest: 0.9880952 (806)\ttotal: 6m 27s\tremaining: 11.1s\n",
      "972:\tlearn: 1.0000000\ttest: 0.9880952\tbest: 0.9880952 (806)\ttotal: 6m 27s\tremaining: 10.8s\n",
      "973:\tlearn: 1.0000000\ttest: 0.9880952\tbest: 0.9880952 (806)\ttotal: 6m 27s\tremaining: 10.4s\n",
      "974:\tlearn: 1.0000000\ttest: 0.9880952\tbest: 0.9880952 (806)\ttotal: 6m 28s\tremaining: 9.95s\n",
      "975:\tlearn: 1.0000000\ttest: 0.9880952\tbest: 0.9880952 (806)\ttotal: 6m 28s\tremaining: 9.55s\n",
      "976:\tlearn: 1.0000000\ttest: 0.9880952\tbest: 0.9880952 (806)\ttotal: 6m 28s\tremaining: 9.16s\n",
      "977:\tlearn: 1.0000000\ttest: 0.9880952\tbest: 0.9880952 (806)\ttotal: 6m 29s\tremaining: 8.76s\n",
      "978:\tlearn: 1.0000000\ttest: 0.9880952\tbest: 0.9880952 (806)\ttotal: 6m 29s\tremaining: 8.36s\n",
      "979:\tlearn: 1.0000000\ttest: 0.9880952\tbest: 0.9880952 (806)\ttotal: 6m 30s\tremaining: 7.96s\n",
      "980:\tlearn: 1.0000000\ttest: 0.9880952\tbest: 0.9880952 (806)\ttotal: 6m 30s\tremaining: 7.56s\n",
      "981:\tlearn: 1.0000000\ttest: 0.9880952\tbest: 0.9880952 (806)\ttotal: 6m 30s\tremaining: 7.16s\n",
      "982:\tlearn: 1.0000000\ttest: 0.9880952\tbest: 0.9880952 (806)\ttotal: 6m 31s\tremaining: 6.77s\n",
      "983:\tlearn: 1.0000000\ttest: 0.9880952\tbest: 0.9880952 (806)\ttotal: 6m 31s\tremaining: 6.37s\n",
      "984:\tlearn: 1.0000000\ttest: 0.9880952\tbest: 0.9880952 (806)\ttotal: 6m 32s\tremaining: 5.97s\n",
      "985:\tlearn: 1.0000000\ttest: 0.9880952\tbest: 0.9880952 (806)\ttotal: 6m 32s\tremaining: 5.57s\n",
      "986:\tlearn: 1.0000000\ttest: 0.9880952\tbest: 0.9880952 (806)\ttotal: 6m 32s\tremaining: 5.17s\n",
      "987:\tlearn: 1.0000000\ttest: 0.9880952\tbest: 0.9880952 (806)\ttotal: 6m 33s\tremaining: 4.78s\n",
      "988:\tlearn: 1.0000000\ttest: 0.9873512\tbest: 0.9880952 (806)\ttotal: 6m 33s\tremaining: 4.38s\n",
      "989:\tlearn: 1.0000000\ttest: 0.9880952\tbest: 0.9880952 (806)\ttotal: 6m 34s\tremaining: 3.98s\n",
      "990:\tlearn: 1.0000000\ttest: 0.9880952\tbest: 0.9880952 (806)\ttotal: 6m 34s\tremaining: 3.58s\n",
      "991:\tlearn: 1.0000000\ttest: 0.9880952\tbest: 0.9880952 (806)\ttotal: 6m 35s\tremaining: 3.19s\n",
      "992:\tlearn: 1.0000000\ttest: 0.9880952\tbest: 0.9880952 (806)\ttotal: 6m 35s\tremaining: 2.79s\n",
      "993:\tlearn: 1.0000000\ttest: 0.9880952\tbest: 0.9880952 (806)\ttotal: 6m 35s\tremaining: 2.39s\n",
      "994:\tlearn: 1.0000000\ttest: 0.9880952\tbest: 0.9880952 (806)\ttotal: 6m 36s\tremaining: 1.99s\n",
      "995:\tlearn: 1.0000000\ttest: 0.9880952\tbest: 0.9880952 (806)\ttotal: 6m 36s\tremaining: 1.59s\n",
      "996:\tlearn: 1.0000000\ttest: 0.9880952\tbest: 0.9880952 (806)\ttotal: 6m 36s\tremaining: 1.19s\n",
      "997:\tlearn: 1.0000000\ttest: 0.9880952\tbest: 0.9880952 (806)\ttotal: 6m 37s\tremaining: 796ms\n",
      "998:\tlearn: 1.0000000\ttest: 0.9880952\tbest: 0.9880952 (806)\ttotal: 6m 37s\tremaining: 398ms\n",
      "999:\tlearn: 1.0000000\ttest: 0.9880952\tbest: 0.9880952 (806)\ttotal: 6m 38s\tremaining: 0us\n",
      "\n",
      "bestTest = 0.9880952381\n",
      "bestIteration = 806\n",
      "\n",
      "Shrink model to first 807 iterations.\n"
     ]
    },
    {
     "data": {
      "text/plain": [
       "<catboost.core.CatBoostClassifier at 0x7fa2d00b32d0>"
      ]
     },
     "execution_count": 37,
     "metadata": {},
     "output_type": "execute_result"
    }
   ],
   "source": [
    "cb = CatBoostClassifier(\n",
    "    \n",
    "#                             border_count=100,\n",
    "    \n",
    "                            iterations=1000,\n",
    "    \n",
    "#                             learning_rate=0.08,\n",
    "\n",
    "#                               depth=6 ,\n",
    "\n",
    "#                            l2_leaf_reg=5,\n",
    "    \n",
    "#                            bagging_temperature=0.9,\n",
    "    \n",
    "    \n",
    "                         loss_function= 'MultiClass',\n",
    "\n",
    "                         eval_metric='Accuracy',\n",
    "                              \n",
    "                          verbose=True,\n",
    "                          \n",
    "                          task_type='CPU',\n",
    "    \n",
    "                            random_state=42,\n",
    "    \n",
    "\n",
    "    \n",
    "                \n",
    "    \n",
    "    \n",
    "    \n",
    ")\n",
    "\n",
    "\n",
    "cb.fit(X_train,y_train,\n",
    "          eval_set= [(X_validation, y_validation)],\n",
    "          \n",
    "        \n",
    "          \n",
    "          )"
   ]
  },
  {
   "cell_type": "code",
   "execution_count": 38,
   "id": "22f46489",
   "metadata": {
    "execution": {
     "iopub.execute_input": "2021-11-05T17:04:14.839886Z",
     "iopub.status.busy": "2021-11-05T17:04:14.839083Z",
     "iopub.status.idle": "2021-11-05T17:04:14.841792Z",
     "shell.execute_reply": "2021-11-05T17:04:14.842307Z",
     "shell.execute_reply.started": "2021-10-26T15:45:31.207449Z"
    },
    "papermill": {
     "duration": 0.333793,
     "end_time": "2021-11-05T17:04:14.842449",
     "exception": false,
     "start_time": "2021-11-05T17:04:14.508656",
     "status": "completed"
    },
    "tags": []
   },
   "outputs": [
    {
     "data": {
      "text/plain": [
       "{'learn': {'Accuracy': 1.0, 'MultiClass': 0.0064853672818828275},\n",
       " 'validation': {'Accuracy': 0.9880952380952381,\n",
       "  'MultiClass': 0.0522375502009346}}"
      ]
     },
     "execution_count": 38,
     "metadata": {},
     "output_type": "execute_result"
    }
   ],
   "source": [
    "cb.get_best_score()"
   ]
  },
  {
   "cell_type": "markdown",
   "id": "fcbb7384",
   "metadata": {
    "papermill": {
     "duration": 0.330481,
     "end_time": "2021-11-05T17:04:15.499566",
     "exception": false,
     "start_time": "2021-11-05T17:04:15.169085",
     "status": "completed"
    },
    "tags": []
   },
   "source": [
    "### Generating predictions"
   ]
  },
  {
   "cell_type": "code",
   "execution_count": 39,
   "id": "2a2f02c7",
   "metadata": {
    "execution": {
     "iopub.execute_input": "2021-11-05T17:04:16.161405Z",
     "iopub.status.busy": "2021-11-05T17:04:16.160665Z",
     "iopub.status.idle": "2021-11-05T17:04:16.195232Z",
     "shell.execute_reply": "2021-11-05T17:04:16.195695Z",
     "shell.execute_reply.started": "2021-10-25T22:35:47.726559Z"
    },
    "papermill": {
     "duration": 0.370019,
     "end_time": "2021-11-05T17:04:16.195850",
     "exception": false,
     "start_time": "2021-11-05T17:04:15.825831",
     "status": "completed"
    },
    "tags": []
   },
   "outputs": [],
   "source": [
    "predictions= cb.predict(new_test_features)"
   ]
  },
  {
   "cell_type": "code",
   "execution_count": 40,
   "id": "4c77dd89",
   "metadata": {
    "execution": {
     "iopub.execute_input": "2021-11-05T17:04:16.918950Z",
     "iopub.status.busy": "2021-11-05T17:04:16.918295Z",
     "iopub.status.idle": "2021-11-05T17:04:16.920978Z",
     "shell.execute_reply": "2021-11-05T17:04:16.921381Z",
     "shell.execute_reply.started": "2021-10-25T22:36:12.778918Z"
    },
    "papermill": {
     "duration": 0.366238,
     "end_time": "2021-11-05T17:04:16.921549",
     "exception": false,
     "start_time": "2021-11-05T17:04:16.555311",
     "status": "completed"
    },
    "tags": []
   },
   "outputs": [
    {
     "data": {
      "text/plain": [
       "array([[26],\n",
       "       [10],\n",
       "       [ 1],\n",
       "       ...,\n",
       "       [ 4],\n",
       "       [11],\n",
       "       [20]])"
      ]
     },
     "execution_count": 40,
     "metadata": {},
     "output_type": "execute_result"
    }
   ],
   "source": [
    "predictions"
   ]
  },
  {
   "cell_type": "code",
   "execution_count": 41,
   "id": "a55509d8",
   "metadata": {
    "execution": {
     "iopub.execute_input": "2021-11-05T17:04:17.639236Z",
     "iopub.status.busy": "2021-11-05T17:04:17.638520Z",
     "iopub.status.idle": "2021-11-05T17:04:17.641599Z",
     "shell.execute_reply": "2021-11-05T17:04:17.642110Z",
     "shell.execute_reply.started": "2021-10-25T22:36:25.370815Z"
    },
    "papermill": {
     "duration": 0.36408,
     "end_time": "2021-11-05T17:04:17.642244",
     "exception": false,
     "start_time": "2021-11-05T17:04:17.278164",
     "status": "completed"
    },
    "tags": []
   },
   "outputs": [
    {
     "data": {
      "text/plain": [
       "(3360, 1)"
      ]
     },
     "execution_count": 41,
     "metadata": {},
     "output_type": "execute_result"
    }
   ],
   "source": [
    "predictions.shape"
   ]
  },
  {
   "cell_type": "code",
   "execution_count": 42,
   "id": "77259338",
   "metadata": {
    "execution": {
     "iopub.execute_input": "2021-11-05T17:04:18.393147Z",
     "iopub.status.busy": "2021-11-05T17:04:18.392473Z",
     "iopub.status.idle": "2021-11-05T17:04:18.408868Z",
     "shell.execute_reply": "2021-11-05T17:04:18.408311Z",
     "shell.execute_reply.started": "2021-10-25T22:36:28.603899Z"
    },
    "papermill": {
     "duration": 0.399155,
     "end_time": "2021-11-05T17:04:18.408991",
     "exception": false,
     "start_time": "2021-11-05T17:04:18.009836",
     "status": "completed"
    },
    "tags": []
   },
   "outputs": [],
   "source": [
    "test_df= pd.read_csv('../input/arabic-hwr-ai-pro-intake1/test.csv')"
   ]
  },
  {
   "cell_type": "code",
   "execution_count": 43,
   "id": "5f8d2ddb",
   "metadata": {
    "execution": {
     "iopub.execute_input": "2021-11-05T17:04:19.131107Z",
     "iopub.status.busy": "2021-11-05T17:04:19.130252Z",
     "iopub.status.idle": "2021-11-05T17:04:19.134501Z",
     "shell.execute_reply": "2021-11-05T17:04:19.134045Z",
     "shell.execute_reply.started": "2021-10-25T22:36:30.360369Z"
    },
    "papermill": {
     "duration": 0.350332,
     "end_time": "2021-11-05T17:04:19.134643",
     "exception": false,
     "start_time": "2021-11-05T17:04:18.784311",
     "status": "completed"
    },
    "tags": []
   },
   "outputs": [
    {
     "data": {
      "text/html": [
       "<div>\n",
       "<style scoped>\n",
       "    .dataframe tbody tr th:only-of-type {\n",
       "        vertical-align: middle;\n",
       "    }\n",
       "\n",
       "    .dataframe tbody tr th {\n",
       "        vertical-align: top;\n",
       "    }\n",
       "\n",
       "    .dataframe thead th {\n",
       "        text-align: right;\n",
       "    }\n",
       "</style>\n",
       "<table border=\"1\" class=\"dataframe\">\n",
       "  <thead>\n",
       "    <tr style=\"text-align: right;\">\n",
       "      <th></th>\n",
       "      <th>id</th>\n",
       "    </tr>\n",
       "  </thead>\n",
       "  <tbody>\n",
       "    <tr>\n",
       "      <th>0</th>\n",
       "      <td>0</td>\n",
       "    </tr>\n",
       "    <tr>\n",
       "      <th>1</th>\n",
       "      <td>1</td>\n",
       "    </tr>\n",
       "    <tr>\n",
       "      <th>2</th>\n",
       "      <td>2</td>\n",
       "    </tr>\n",
       "    <tr>\n",
       "      <th>3</th>\n",
       "      <td>3</td>\n",
       "    </tr>\n",
       "    <tr>\n",
       "      <th>4</th>\n",
       "      <td>4</td>\n",
       "    </tr>\n",
       "    <tr>\n",
       "      <th>...</th>\n",
       "      <td>...</td>\n",
       "    </tr>\n",
       "    <tr>\n",
       "      <th>3355</th>\n",
       "      <td>3355</td>\n",
       "    </tr>\n",
       "    <tr>\n",
       "      <th>3356</th>\n",
       "      <td>3356</td>\n",
       "    </tr>\n",
       "    <tr>\n",
       "      <th>3357</th>\n",
       "      <td>3357</td>\n",
       "    </tr>\n",
       "    <tr>\n",
       "      <th>3358</th>\n",
       "      <td>3358</td>\n",
       "    </tr>\n",
       "    <tr>\n",
       "      <th>3359</th>\n",
       "      <td>3359</td>\n",
       "    </tr>\n",
       "  </tbody>\n",
       "</table>\n",
       "<p>3360 rows × 1 columns</p>\n",
       "</div>"
      ],
      "text/plain": [
       "        id\n",
       "0        0\n",
       "1        1\n",
       "2        2\n",
       "3        3\n",
       "4        4\n",
       "...    ...\n",
       "3355  3355\n",
       "3356  3356\n",
       "3357  3357\n",
       "3358  3358\n",
       "3359  3359\n",
       "\n",
       "[3360 rows x 1 columns]"
      ]
     },
     "execution_count": 43,
     "metadata": {},
     "output_type": "execute_result"
    }
   ],
   "source": [
    "test_df"
   ]
  },
  {
   "cell_type": "code",
   "execution_count": 44,
   "id": "8ec14525",
   "metadata": {
    "execution": {
     "iopub.execute_input": "2021-11-05T17:04:20.063405Z",
     "iopub.status.busy": "2021-11-05T17:04:20.062851Z",
     "iopub.status.idle": "2021-11-05T17:04:20.066649Z",
     "shell.execute_reply": "2021-11-05T17:04:20.066208Z",
     "shell.execute_reply.started": "2021-10-25T22:36:33.637056Z"
    },
    "papermill": {
     "duration": 0.544174,
     "end_time": "2021-11-05T17:04:20.066764",
     "exception": false,
     "start_time": "2021-11-05T17:04:19.522590",
     "status": "completed"
    },
    "tags": []
   },
   "outputs": [],
   "source": [
    "preds= pd.DataFrame()\n",
    "preds['id']= test_df['id']\n",
    "preds['label']= predictions"
   ]
  },
  {
   "cell_type": "code",
   "execution_count": 45,
   "id": "f88eec9d",
   "metadata": {
    "execution": {
     "iopub.execute_input": "2021-11-05T17:04:20.892877Z",
     "iopub.status.busy": "2021-11-05T17:04:20.892061Z",
     "iopub.status.idle": "2021-11-05T17:04:20.903502Z",
     "shell.execute_reply": "2021-11-05T17:04:20.904118Z",
     "shell.execute_reply.started": "2021-10-25T22:36:41.166112Z"
    },
    "papermill": {
     "duration": 0.514158,
     "end_time": "2021-11-05T17:04:20.904311",
     "exception": false,
     "start_time": "2021-11-05T17:04:20.390153",
     "status": "completed"
    },
    "tags": []
   },
   "outputs": [
    {
     "data": {
      "text/html": [
       "<div>\n",
       "<style scoped>\n",
       "    .dataframe tbody tr th:only-of-type {\n",
       "        vertical-align: middle;\n",
       "    }\n",
       "\n",
       "    .dataframe tbody tr th {\n",
       "        vertical-align: top;\n",
       "    }\n",
       "\n",
       "    .dataframe thead th {\n",
       "        text-align: right;\n",
       "    }\n",
       "</style>\n",
       "<table border=\"1\" class=\"dataframe\">\n",
       "  <thead>\n",
       "    <tr style=\"text-align: right;\">\n",
       "      <th></th>\n",
       "      <th>id</th>\n",
       "      <th>label</th>\n",
       "    </tr>\n",
       "  </thead>\n",
       "  <tbody>\n",
       "    <tr>\n",
       "      <th>0</th>\n",
       "      <td>0</td>\n",
       "      <td>26</td>\n",
       "    </tr>\n",
       "    <tr>\n",
       "      <th>1</th>\n",
       "      <td>1</td>\n",
       "      <td>10</td>\n",
       "    </tr>\n",
       "    <tr>\n",
       "      <th>2</th>\n",
       "      <td>2</td>\n",
       "      <td>1</td>\n",
       "    </tr>\n",
       "    <tr>\n",
       "      <th>3</th>\n",
       "      <td>3</td>\n",
       "      <td>10</td>\n",
       "    </tr>\n",
       "    <tr>\n",
       "      <th>4</th>\n",
       "      <td>4</td>\n",
       "      <td>15</td>\n",
       "    </tr>\n",
       "    <tr>\n",
       "      <th>...</th>\n",
       "      <td>...</td>\n",
       "      <td>...</td>\n",
       "    </tr>\n",
       "    <tr>\n",
       "      <th>3355</th>\n",
       "      <td>3355</td>\n",
       "      <td>16</td>\n",
       "    </tr>\n",
       "    <tr>\n",
       "      <th>3356</th>\n",
       "      <td>3356</td>\n",
       "      <td>6</td>\n",
       "    </tr>\n",
       "    <tr>\n",
       "      <th>3357</th>\n",
       "      <td>3357</td>\n",
       "      <td>4</td>\n",
       "    </tr>\n",
       "    <tr>\n",
       "      <th>3358</th>\n",
       "      <td>3358</td>\n",
       "      <td>11</td>\n",
       "    </tr>\n",
       "    <tr>\n",
       "      <th>3359</th>\n",
       "      <td>3359</td>\n",
       "      <td>20</td>\n",
       "    </tr>\n",
       "  </tbody>\n",
       "</table>\n",
       "<p>3360 rows × 2 columns</p>\n",
       "</div>"
      ],
      "text/plain": [
       "        id  label\n",
       "0        0     26\n",
       "1        1     10\n",
       "2        2      1\n",
       "3        3     10\n",
       "4        4     15\n",
       "...    ...    ...\n",
       "3355  3355     16\n",
       "3356  3356      6\n",
       "3357  3357      4\n",
       "3358  3358     11\n",
       "3359  3359     20\n",
       "\n",
       "[3360 rows x 2 columns]"
      ]
     },
     "execution_count": 45,
     "metadata": {},
     "output_type": "execute_result"
    }
   ],
   "source": [
    "preds"
   ]
  },
  {
   "cell_type": "markdown",
   "id": "2c642db8",
   "metadata": {
    "papermill": {
     "duration": 0.385387,
     "end_time": "2021-11-05T17:04:21.834795",
     "exception": false,
     "start_time": "2021-11-05T17:04:21.449408",
     "status": "completed"
    },
    "tags": []
   },
   "source": [
    "### Exporting to csv"
   ]
  },
  {
   "cell_type": "code",
   "execution_count": 46,
   "id": "b640433f",
   "metadata": {
    "execution": {
     "iopub.execute_input": "2021-11-05T17:04:22.494229Z",
     "iopub.status.busy": "2021-11-05T17:04:22.493276Z",
     "iopub.status.idle": "2021-11-05T17:04:22.503353Z",
     "shell.execute_reply": "2021-11-05T17:04:22.502891Z",
     "shell.execute_reply.started": "2021-10-25T22:37:19.789832Z"
    },
    "papermill": {
     "duration": 0.339772,
     "end_time": "2021-11-05T17:04:22.503461",
     "exception": false,
     "start_time": "2021-11-05T17:04:22.163689",
     "status": "completed"
    },
    "tags": []
   },
   "outputs": [],
   "source": [
    "preds.to_csv('final_submission.csv',index=False)"
   ]
  },
  {
   "cell_type": "code",
   "execution_count": null,
   "id": "5deb6a66",
   "metadata": {
    "papermill": {
     "duration": 0.324092,
     "end_time": "2021-11-05T17:04:23.153120",
     "exception": false,
     "start_time": "2021-11-05T17:04:22.829028",
     "status": "completed"
    },
    "tags": []
   },
   "outputs": [],
   "source": []
  }
 ],
 "metadata": {
  "kernelspec": {
   "display_name": "Python 3",
   "language": "python",
   "name": "python3"
  },
  "language_info": {
   "codemirror_mode": {
    "name": "ipython",
    "version": 3
   },
   "file_extension": ".py",
   "mimetype": "text/x-python",
   "name": "python",
   "nbconvert_exporter": "python",
   "pygments_lexer": "ipython3",
   "version": "3.7.10"
  },
  "papermill": {
   "default_parameters": {},
   "duration": 577.768735,
   "end_time": "2021-11-05T17:04:26.459710",
   "environment_variables": {},
   "exception": null,
   "input_path": "__notebook__.ipynb",
   "output_path": "__notebook__.ipynb",
   "parameters": {},
   "start_time": "2021-11-05T16:54:48.690975",
   "version": "2.3.3"
  }
 },
 "nbformat": 4,
 "nbformat_minor": 5
}
